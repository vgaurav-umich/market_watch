{
 "cells": [
  {
   "cell_type": "code",
   "execution_count": 1,
   "id": "952edff5",
   "metadata": {
    "execution": {
     "iopub.execute_input": "2022-04-24T16:44:22.400311Z",
     "iopub.status.busy": "2022-04-24T16:44:22.399976Z",
     "iopub.status.idle": "2022-04-24T16:44:22.408400Z",
     "shell.execute_reply": "2022-04-24T16:44:22.407625Z"
    },
    "papermill": {
     "duration": 0.015766,
     "end_time": "2022-04-24T16:44:22.410644",
     "exception": false,
     "start_time": "2022-04-24T16:44:22.394878",
     "status": "completed"
    },
    "tags": [
     "parameters"
    ]
   },
   "outputs": [],
   "source": [
    "# declare a list tasks whose products you want to use as inputs\n",
    "upstream = ['fetch_securities']"
   ]
  },
  {
   "cell_type": "code",
   "execution_count": 2,
   "id": "b4943323",
   "metadata": {
    "execution": {
     "iopub.execute_input": "2022-04-24T16:44:22.416628Z",
     "iopub.status.busy": "2022-04-24T16:44:22.416399Z",
     "iopub.status.idle": "2022-04-24T16:44:22.420157Z",
     "shell.execute_reply": "2022-04-24T16:44:22.419587Z"
    },
    "papermill": {
     "duration": 0.008422,
     "end_time": "2022-04-24T16:44:22.421940",
     "exception": false,
     "start_time": "2022-04-24T16:44:22.413518",
     "status": "completed"
    },
    "tags": [
     "injected-parameters"
    ]
   },
   "outputs": [],
   "source": [
    "# Parameters\n",
    "upstream = {\n",
    "    \"fetch_securities\": {\n",
    "        \"nb\": \"/Users/aiujdm2/market_watch/output/notebooks/fetch_securities.ipynb\",\n",
    "        \"data\": \"/Users/aiujdm2/market_watch/output/data/raw/securities.csv\",\n",
    "    }\n",
    "}\n",
    "product = {\n",
    "    \"nb\": \"/Users/aiujdm2/market_watch/output/notebooks/normalize_security_names.ipynb\",\n",
    "    \"data\": \"/Users/aiujdm2/market_watch/output/data/interim/normalized_security_names.csv\",\n",
    "}\n"
   ]
  },
  {
   "cell_type": "code",
   "execution_count": 3,
   "id": "e6db8cdd",
   "metadata": {
    "execution": {
     "iopub.execute_input": "2022-04-24T16:44:22.427038Z",
     "iopub.status.busy": "2022-04-24T16:44:22.426827Z",
     "iopub.status.idle": "2022-04-24T16:44:23.970665Z",
     "shell.execute_reply": "2022-04-24T16:44:23.970079Z"
    },
    "papermill": {
     "duration": 1.548788,
     "end_time": "2022-04-24T16:44:23.972830",
     "exception": false,
     "start_time": "2022-04-24T16:44:22.424042",
     "status": "completed"
    },
    "tags": []
   },
   "outputs": [
    {
     "name": "stderr",
     "output_type": "stream",
     "text": [
      "[nltk_data] Downloading package wordnet to /Users/aiujdm2/nltk_data...\n",
      "[nltk_data]   Package wordnet is already up-to-date!\n",
      "[nltk_data] Downloading package stopwords to\n",
      "[nltk_data]     /Users/aiujdm2/nltk_data...\n",
      "[nltk_data]   Package stopwords is already up-to-date!\n",
      "[nltk_data] Downloading package omw-1.4 to /Users/aiujdm2/nltk_data...\n",
      "[nltk_data]   Package omw-1.4 is already up-to-date!\n",
      "/Users/aiujdm2/.local/share/virtualenvs/market_watch-dtlP-L11/lib/python3.9/site-packages/fuzzywuzzy/fuzz.py:11: UserWarning: Using slow pure-python SequenceMatcher. Install python-Levenshtein to remove this warning\n",
      "  warnings.warn('Using slow pure-python SequenceMatcher. Install python-Levenshtein to remove this warning')\n",
      "[nltk_data] Downloading package wordnet to /Users/aiujdm2/nltk_data...\n",
      "[nltk_data]   Package wordnet is already up-to-date!\n",
      "[nltk_data] Downloading package stopwords to\n",
      "[nltk_data]     /Users/aiujdm2/nltk_data...\n",
      "[nltk_data]   Package stopwords is already up-to-date!\n",
      "[nltk_data] Downloading package omw-1.4 to /Users/aiujdm2/nltk_data...\n",
      "[nltk_data]   Package omw-1.4 is already up-to-date!\n"
     ]
    },
    {
     "data": {
      "text/plain": [
       "True"
      ]
     },
     "execution_count": 3,
     "metadata": {},
     "output_type": "execute_result"
    }
   ],
   "source": [
    "import ast\n",
    "import pandas as pd\n",
    "import numpy as np\n",
    "import json\n",
    "from pathlib import Path\n",
    "from src.utils import preprocess_text\n",
    "\n",
    "import nltk\n",
    "nltk.download('wordnet')\n",
    "nltk.download('stopwords')\n",
    "nltk.download('omw-1.4')"
   ]
  },
  {
   "cell_type": "code",
   "execution_count": 4,
   "id": "ab9c4f00",
   "metadata": {
    "execution": {
     "iopub.execute_input": "2022-04-24T16:44:23.979263Z",
     "iopub.status.busy": "2022-04-24T16:44:23.979041Z",
     "iopub.status.idle": "2022-04-24T16:44:24.010463Z",
     "shell.execute_reply": "2022-04-24T16:44:24.009597Z"
    },
    "papermill": {
     "duration": 0.036902,
     "end_time": "2022-04-24T16:44:24.012508",
     "exception": false,
     "start_time": "2022-04-24T16:44:23.975606",
     "status": "completed"
    },
    "tags": []
   },
   "outputs": [],
   "source": [
    "securities_file_path = upstream['fetch_securities']['data']\n",
    "securities_df = pd.read_csv(securities_file_path, index_col=0)"
   ]
  },
  {
   "cell_type": "code",
   "execution_count": 5,
   "id": "d7745289",
   "metadata": {
    "execution": {
     "iopub.execute_input": "2022-04-24T16:44:24.020127Z",
     "iopub.status.busy": "2022-04-24T16:44:24.019890Z",
     "iopub.status.idle": "2022-04-24T16:44:24.026780Z",
     "shell.execute_reply": "2022-04-24T16:44:24.026143Z"
    },
    "papermill": {
     "duration": 0.012749,
     "end_time": "2022-04-24T16:44:24.028755",
     "exception": false,
     "start_time": "2022-04-24T16:44:24.016006",
     "status": "completed"
    },
    "tags": []
   },
   "outputs": [],
   "source": [
    "securities_df.drop_duplicates(subset=['cik'], inplace=True)"
   ]
  },
  {
   "cell_type": "code",
   "execution_count": 6,
   "id": "9b4bbfbf",
   "metadata": {
    "execution": {
     "iopub.execute_input": "2022-04-24T16:44:24.038136Z",
     "iopub.status.busy": "2022-04-24T16:44:24.037896Z",
     "iopub.status.idle": "2022-04-24T16:44:24.058370Z",
     "shell.execute_reply": "2022-04-24T16:44:24.057873Z"
    },
    "papermill": {
     "duration": 0.027658,
     "end_time": "2022-04-24T16:44:24.060164",
     "exception": false,
     "start_time": "2022-04-24T16:44:24.032506",
     "status": "completed"
    },
    "tags": []
   },
   "outputs": [
    {
     "name": "stdout",
     "output_type": "stream",
     "text": [
      "<class 'pandas.core.frame.DataFrame'>\n",
      "Int64Index: 9193 entries, 0 to 9192\n",
      "Data columns (total 12 columns):\n",
      " #   Column                 Non-Null Count  Dtype  \n",
      "---  ------                 --------------  -----  \n",
      " 0   cik                    9193 non-null   int64  \n",
      " 1   ticker                 9193 non-null   object \n",
      " 2   exchanges              9193 non-null   object \n",
      " 3   ein                    9179 non-null   float64\n",
      " 4   full_name              9193 non-null   object \n",
      " 5   former_names           9193 non-null   object \n",
      " 6   short_name             499 non-null    object \n",
      " 7   gics_sector            499 non-null    object \n",
      " 8   gics_sub_industry      499 non-null    object \n",
      " 9   sic                    8415 non-null   float64\n",
      " 10  sic_description        8398 non-null   object \n",
      " 11  headquarters_location  499 non-null    object \n",
      "dtypes: float64(2), int64(1), object(9)\n",
      "memory usage: 933.7+ KB\n"
     ]
    }
   ],
   "source": [
    "securities_df.info()"
   ]
  },
  {
   "cell_type": "code",
   "execution_count": 7,
   "id": "62010ea4",
   "metadata": {
    "execution": {
     "iopub.execute_input": "2022-04-24T16:44:24.066236Z",
     "iopub.status.busy": "2022-04-24T16:44:24.066034Z",
     "iopub.status.idle": "2022-04-24T16:44:24.083744Z",
     "shell.execute_reply": "2022-04-24T16:44:24.083236Z"
    },
    "papermill": {
     "duration": 0.022467,
     "end_time": "2022-04-24T16:44:24.085562",
     "exception": false,
     "start_time": "2022-04-24T16:44:24.063095",
     "status": "completed"
    },
    "tags": []
   },
   "outputs": [
    {
     "data": {
      "text/html": [
       "<div>\n",
       "<style scoped>\n",
       "    .dataframe tbody tr th:only-of-type {\n",
       "        vertical-align: middle;\n",
       "    }\n",
       "\n",
       "    .dataframe tbody tr th {\n",
       "        vertical-align: top;\n",
       "    }\n",
       "\n",
       "    .dataframe thead th {\n",
       "        text-align: right;\n",
       "    }\n",
       "</style>\n",
       "<table border=\"1\" class=\"dataframe\">\n",
       "  <thead>\n",
       "    <tr style=\"text-align: right;\">\n",
       "      <th></th>\n",
       "      <th>cik</th>\n",
       "      <th>ticker</th>\n",
       "      <th>exchanges</th>\n",
       "      <th>ein</th>\n",
       "      <th>full_name</th>\n",
       "      <th>former_names</th>\n",
       "      <th>short_name</th>\n",
       "      <th>gics_sector</th>\n",
       "      <th>gics_sub_industry</th>\n",
       "      <th>sic</th>\n",
       "      <th>sic_description</th>\n",
       "      <th>headquarters_location</th>\n",
       "    </tr>\n",
       "  </thead>\n",
       "  <tbody>\n",
       "    <tr>\n",
       "      <th>0</th>\n",
       "      <td>1759425</td>\n",
       "      <td>MIRM</td>\n",
       "      <td>['Nasdaq']</td>\n",
       "      <td>831281555.0</td>\n",
       "      <td>Mirum Pharmaceuticals, Inc.</td>\n",
       "      <td>NaN</td>\n",
       "      <td>NaN</td>\n",
       "      <td>NaN</td>\n",
       "      <td>NaN</td>\n",
       "      <td>2834.0</td>\n",
       "      <td>Pharmaceutical Preparations</td>\n",
       "      <td>NaN</td>\n",
       "    </tr>\n",
       "    <tr>\n",
       "      <th>1</th>\n",
       "      <td>1734262</td>\n",
       "      <td>CTK</td>\n",
       "      <td>['NYSE']</td>\n",
       "      <td>0.0</td>\n",
       "      <td>CooTek(Cayman)Inc.</td>\n",
       "      <td>NaN</td>\n",
       "      <td>NaN</td>\n",
       "      <td>NaN</td>\n",
       "      <td>NaN</td>\n",
       "      <td>7374.0</td>\n",
       "      <td>Services-Computer Processing &amp; Data Preparation</td>\n",
       "      <td>NaN</td>\n",
       "    </tr>\n",
       "    <tr>\n",
       "      <th>6</th>\n",
       "      <td>1832161</td>\n",
       "      <td>KEYR</td>\n",
       "      <td>['']</td>\n",
       "      <td>850738656.0</td>\n",
       "      <td>KeyStar Corp.</td>\n",
       "      <td>NaN</td>\n",
       "      <td>NaN</td>\n",
       "      <td>NaN</td>\n",
       "      <td>NaN</td>\n",
       "      <td>5900.0</td>\n",
       "      <td>Retail-Miscellaneous Retail</td>\n",
       "      <td>NaN</td>\n",
       "    </tr>\n",
       "    <tr>\n",
       "      <th>7</th>\n",
       "      <td>1860742</td>\n",
       "      <td>BLCO</td>\n",
       "      <td>['']</td>\n",
       "      <td>0.0</td>\n",
       "      <td>Bausch &amp; Lomb Corp</td>\n",
       "      <td>NaN</td>\n",
       "      <td>NaN</td>\n",
       "      <td>NaN</td>\n",
       "      <td>NaN</td>\n",
       "      <td>3851.0</td>\n",
       "      <td>Ophthalmic Goods</td>\n",
       "      <td>NaN</td>\n",
       "    </tr>\n",
       "    <tr>\n",
       "      <th>9</th>\n",
       "      <td>1034054</td>\n",
       "      <td>SBAC</td>\n",
       "      <td>['Nasdaq']</td>\n",
       "      <td>650716501.0</td>\n",
       "      <td>SBA COMMUNICATIONS CORP</td>\n",
       "      <td>NaN</td>\n",
       "      <td>SBA Communications</td>\n",
       "      <td>Real Estate</td>\n",
       "      <td>Specialized REITs</td>\n",
       "      <td>6798.0</td>\n",
       "      <td>Real Estate Investment Trusts</td>\n",
       "      <td>Boca Raton, Florida</td>\n",
       "    </tr>\n",
       "    <tr>\n",
       "      <th>...</th>\n",
       "      <td>...</td>\n",
       "      <td>...</td>\n",
       "      <td>...</td>\n",
       "      <td>...</td>\n",
       "      <td>...</td>\n",
       "      <td>...</td>\n",
       "      <td>...</td>\n",
       "      <td>...</td>\n",
       "      <td>...</td>\n",
       "      <td>...</td>\n",
       "      <td>...</td>\n",
       "      <td>...</td>\n",
       "    </tr>\n",
       "    <tr>\n",
       "      <th>9185</th>\n",
       "      <td>25232</td>\n",
       "      <td>CUZ</td>\n",
       "      <td>['NYSE']</td>\n",
       "      <td>580869052.0</td>\n",
       "      <td>COUSINS PROPERTIES INC</td>\n",
       "      <td>NaN</td>\n",
       "      <td>NaN</td>\n",
       "      <td>NaN</td>\n",
       "      <td>NaN</td>\n",
       "      <td>6798.0</td>\n",
       "      <td>Real Estate Investment Trusts</td>\n",
       "      <td>NaN</td>\n",
       "    </tr>\n",
       "    <tr>\n",
       "      <th>9186</th>\n",
       "      <td>65433</td>\n",
       "      <td>MXF</td>\n",
       "      <td>['NYSE']</td>\n",
       "      <td>133069854.0</td>\n",
       "      <td>MEXICO FUND INC</td>\n",
       "      <td>NaN</td>\n",
       "      <td>NaN</td>\n",
       "      <td>NaN</td>\n",
       "      <td>NaN</td>\n",
       "      <td>NaN</td>\n",
       "      <td>NaN</td>\n",
       "      <td>NaN</td>\n",
       "    </tr>\n",
       "    <tr>\n",
       "      <th>9187</th>\n",
       "      <td>1832765</td>\n",
       "      <td>EAC</td>\n",
       "      <td>['Nasdaq', 'Nasdaq', 'Nasdaq']</td>\n",
       "      <td>0.0</td>\n",
       "      <td>Edify Acquisition Corp.</td>\n",
       "      <td>NaN</td>\n",
       "      <td>NaN</td>\n",
       "      <td>NaN</td>\n",
       "      <td>NaN</td>\n",
       "      <td>6770.0</td>\n",
       "      <td>Blank Checks</td>\n",
       "      <td>NaN</td>\n",
       "    </tr>\n",
       "    <tr>\n",
       "      <th>9188</th>\n",
       "      <td>764630</td>\n",
       "      <td>USBL</td>\n",
       "      <td>['OTC']</td>\n",
       "      <td>61120072.0</td>\n",
       "      <td>UNITED STATES BASKETBALL LEAGUE INC</td>\n",
       "      <td>NaN</td>\n",
       "      <td>NaN</td>\n",
       "      <td>NaN</td>\n",
       "      <td>NaN</td>\n",
       "      <td>6794.0</td>\n",
       "      <td>Patent Owners &amp; Lessors</td>\n",
       "      <td>NaN</td>\n",
       "    </tr>\n",
       "    <tr>\n",
       "      <th>9191</th>\n",
       "      <td>1756704</td>\n",
       "      <td>SIRC</td>\n",
       "      <td>['OTC']</td>\n",
       "      <td>208999059.0</td>\n",
       "      <td>SOLAR INTEGRATED ROOFING CORP.</td>\n",
       "      <td>NaN</td>\n",
       "      <td>NaN</td>\n",
       "      <td>NaN</td>\n",
       "      <td>NaN</td>\n",
       "      <td>1700.0</td>\n",
       "      <td>Construction - Special Trade Contractors</td>\n",
       "      <td>NaN</td>\n",
       "    </tr>\n",
       "  </tbody>\n",
       "</table>\n",
       "<p>4731 rows × 12 columns</p>\n",
       "</div>"
      ],
      "text/plain": [
       "          cik ticker                       exchanges          ein  \\\n",
       "0     1759425   MIRM                      ['Nasdaq']  831281555.0   \n",
       "1     1734262    CTK                        ['NYSE']          0.0   \n",
       "6     1832161   KEYR                            ['']  850738656.0   \n",
       "7     1860742   BLCO                            ['']          0.0   \n",
       "9     1034054   SBAC                      ['Nasdaq']  650716501.0   \n",
       "...       ...    ...                             ...          ...   \n",
       "9185    25232    CUZ                        ['NYSE']  580869052.0   \n",
       "9186    65433    MXF                        ['NYSE']  133069854.0   \n",
       "9187  1832765    EAC  ['Nasdaq', 'Nasdaq', 'Nasdaq']          0.0   \n",
       "9188   764630   USBL                         ['OTC']   61120072.0   \n",
       "9191  1756704   SIRC                         ['OTC']  208999059.0   \n",
       "\n",
       "                                full_name former_names          short_name  \\\n",
       "0             Mirum Pharmaceuticals, Inc.          NaN                 NaN   \n",
       "1                      CooTek(Cayman)Inc.          NaN                 NaN   \n",
       "6                           KeyStar Corp.          NaN                 NaN   \n",
       "7                      Bausch & Lomb Corp          NaN                 NaN   \n",
       "9                 SBA COMMUNICATIONS CORP          NaN  SBA Communications   \n",
       "...                                   ...          ...                 ...   \n",
       "9185               COUSINS PROPERTIES INC          NaN                 NaN   \n",
       "9186                      MEXICO FUND INC          NaN                 NaN   \n",
       "9187              Edify Acquisition Corp.          NaN                 NaN   \n",
       "9188  UNITED STATES BASKETBALL LEAGUE INC          NaN                 NaN   \n",
       "9191       SOLAR INTEGRATED ROOFING CORP.          NaN                 NaN   \n",
       "\n",
       "      gics_sector  gics_sub_industry     sic  \\\n",
       "0             NaN                NaN  2834.0   \n",
       "1             NaN                NaN  7374.0   \n",
       "6             NaN                NaN  5900.0   \n",
       "7             NaN                NaN  3851.0   \n",
       "9     Real Estate  Specialized REITs  6798.0   \n",
       "...           ...                ...     ...   \n",
       "9185          NaN                NaN  6798.0   \n",
       "9186          NaN                NaN     NaN   \n",
       "9187          NaN                NaN  6770.0   \n",
       "9188          NaN                NaN  6794.0   \n",
       "9191          NaN                NaN  1700.0   \n",
       "\n",
       "                                      sic_description headquarters_location  \n",
       "0                         Pharmaceutical Preparations                   NaN  \n",
       "1     Services-Computer Processing & Data Preparation                   NaN  \n",
       "6                         Retail-Miscellaneous Retail                   NaN  \n",
       "7                                    Ophthalmic Goods                   NaN  \n",
       "9                       Real Estate Investment Trusts   Boca Raton, Florida  \n",
       "...                                               ...                   ...  \n",
       "9185                    Real Estate Investment Trusts                   NaN  \n",
       "9186                                              NaN                   NaN  \n",
       "9187                                     Blank Checks                   NaN  \n",
       "9188                          Patent Owners & Lessors                   NaN  \n",
       "9191         Construction - Special Trade Contractors                   NaN  \n",
       "\n",
       "[4731 rows x 12 columns]"
      ]
     },
     "execution_count": 7,
     "metadata": {},
     "output_type": "execute_result"
    }
   ],
   "source": [
    "securities_df.former_names.replace('[]', np.nan, inplace=True)\n",
    "securities_df[securities_df.former_names.isnull()]"
   ]
  },
  {
   "cell_type": "code",
   "execution_count": 8,
   "id": "15c8ed02",
   "metadata": {
    "execution": {
     "iopub.execute_input": "2022-04-24T16:44:24.092056Z",
     "iopub.status.busy": "2022-04-24T16:44:24.091849Z",
     "iopub.status.idle": "2022-04-24T16:44:24.097845Z",
     "shell.execute_reply": "2022-04-24T16:44:24.097365Z"
    },
    "papermill": {
     "duration": 0.010783,
     "end_time": "2022-04-24T16:44:24.099441",
     "exception": false,
     "start_time": "2022-04-24T16:44:24.088658",
     "status": "completed"
    },
    "tags": []
   },
   "outputs": [],
   "source": [
    "def nomalize_names(securities_df):\n",
    "    def extract_name(string):\n",
    "        if len(str(string).strip()) > 5:\n",
    "            string = ast.literal_eval(string)\n",
    "            string = json.dumps(string)\n",
    "            lst = json.loads(string)\n",
    "            name = lst[0][\"name\"]\n",
    "            return name\n",
    "        else:\n",
    "            return np.nan\n",
    "            \n",
    "    securities_df['former_name'] = securities_df.former_names.apply(extract_name)\n",
    "    securities_df = securities_df.replace(to_replace=[\"/[A-Za-z]+/?\"], value=[''], regex=True)\n",
    "    securities_df = securities_df.replace(to_replace=[r'\\\\DE\\\\'], value=[''], regex=True)\n",
    "    \n",
    "    not_null_cond = ~securities_df['former_name'].isnull()\n",
    "    \n",
    "    securities_df.loc[not_null_cond,'former_name'] = preprocess_text(securities_df.loc[not_null_cond,'former_name'])\n",
    "    \n",
    "    securities_df['full_name'] = preprocess_text(securities_df.full_name)\n",
    "    securities_df.replace('[]', np.nan, inplace=True)\n",
    "\n",
    "    columns_to_select = ['cik','ticker','full_name', 'former_name']\n",
    "    \n",
    "    return securities_df[columns_to_select]"
   ]
  },
  {
   "cell_type": "code",
   "execution_count": 9,
   "id": "9b17a36a",
   "metadata": {
    "execution": {
     "iopub.execute_input": "2022-04-24T16:44:24.104332Z",
     "iopub.status.busy": "2022-04-24T16:44:24.104184Z",
     "iopub.status.idle": "2022-04-24T16:44:26.695303Z",
     "shell.execute_reply": "2022-04-24T16:44:26.694737Z"
    },
    "papermill": {
     "duration": 2.59539,
     "end_time": "2022-04-24T16:44:26.696885",
     "exception": false,
     "start_time": "2022-04-24T16:44:24.101495",
     "status": "completed"
    },
    "tags": []
   },
   "outputs": [],
   "source": [
    "securities_df = nomalize_names(securities_df)"
   ]
  },
  {
   "cell_type": "code",
   "execution_count": 10,
   "id": "b16481d5",
   "metadata": {
    "execution": {
     "iopub.execute_input": "2022-04-24T16:44:26.703010Z",
     "iopub.status.busy": "2022-04-24T16:44:26.702719Z",
     "iopub.status.idle": "2022-04-24T16:44:26.727175Z",
     "shell.execute_reply": "2022-04-24T16:44:26.726405Z"
    },
    "papermill": {
     "duration": 0.029495,
     "end_time": "2022-04-24T16:44:26.729142",
     "exception": false,
     "start_time": "2022-04-24T16:44:26.699647",
     "status": "completed"
    },
    "tags": []
   },
   "outputs": [
    {
     "name": "stdout",
     "output_type": "stream",
     "text": [
      "Saved file /Users/aiujdm2/market_watch/output/data/interim/normalized_security_names.csv\n"
     ]
    }
   ],
   "source": [
    "output_file_path = product['data']\n",
    "Path(output_file_path).parent.mkdir(exist_ok=True, parents=True)\n",
    "securities_df.to_csv(output_file_path)\n",
    "print(f\"Saved file {output_file_path}\")"
   ]
  }
 ],
 "metadata": {
  "jupytext": {
   "cell_metadata_filter": "tags,-all",
   "main_language": "python",
   "notebook_metadata_filter": "-all",
   "text_representation": {
    "extension": ".py",
    "format_name": "light"
   }
  },
  "kernelspec": {
   "display_name": "Python 3 (ipykernel)",
   "language": "python",
   "name": "python3"
  },
  "language_info": {
   "codemirror_mode": {
    "name": "ipython",
    "version": 3
   },
   "file_extension": ".py",
   "mimetype": "text/x-python",
   "name": "python",
   "nbconvert_exporter": "python",
   "pygments_lexer": "ipython3",
   "version": "3.9.10"
  },
  "papermill": {
   "duration": 6.578581,
   "end_time": "2022-04-24T16:44:27.256432",
   "exception": null,
   "input_path": "/var/folders/b0/4tc1nfbd6z7_vhx4nxcj2n91c0l9h6/T/tmpzgwtki0c.ipynb",
   "output_path": "/Users/aiujdm2/market_watch/output/notebooks/normalize_security_names.ipynb",
   "parameters": {
    "product": {
     "data": "/Users/aiujdm2/market_watch/output/data/interim/normalized_security_names.csv",
     "nb": "/Users/aiujdm2/market_watch/output/notebooks/normalize_security_names.ipynb"
    },
    "upstream": {
     "fetch_securities": {
      "data": "/Users/aiujdm2/market_watch/output/data/raw/securities.csv",
      "nb": "/Users/aiujdm2/market_watch/output/notebooks/fetch_securities.ipynb"
     }
    }
   },
   "start_time": "2022-04-24T16:44:20.677851"
  }
 },
 "nbformat": 4,
 "nbformat_minor": 5
}