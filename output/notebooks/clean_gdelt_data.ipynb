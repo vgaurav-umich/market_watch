{
 "cells": [
  {
   "cell_type": "code",
   "execution_count": 1,
   "id": "5b5a4d9f",
   "metadata": {
    "execution": {
     "iopub.execute_input": "2022-04-24T16:44:28.107306Z",
     "iopub.status.busy": "2022-04-24T16:44:28.107010Z",
     "iopub.status.idle": "2022-04-24T16:44:28.115238Z",
     "shell.execute_reply": "2022-04-24T16:44:28.114740Z"
    },
    "papermill": {
     "duration": 0.01728,
     "end_time": "2022-04-24T16:44:28.117172",
     "exception": false,
     "start_time": "2022-04-24T16:44:28.099892",
     "status": "completed"
    },
    "tags": [
     "parameters"
    ]
   },
   "outputs": [],
   "source": [
    "# your parameters here...\n",
    "upstream = ['fetch_n_filter_gdelt_bq', 'normalize_security_names']"
   ]
  },
  {
   "cell_type": "code",
   "execution_count": 2,
   "id": "42834547",
   "metadata": {
    "execution": {
     "iopub.execute_input": "2022-04-24T16:44:28.126514Z",
     "iopub.status.busy": "2022-04-24T16:44:28.126297Z",
     "iopub.status.idle": "2022-04-24T16:44:28.130424Z",
     "shell.execute_reply": "2022-04-24T16:44:28.129736Z"
    },
    "papermill": {
     "duration": 0.010631,
     "end_time": "2022-04-24T16:44:28.132321",
     "exception": false,
     "start_time": "2022-04-24T16:44:28.121690",
     "status": "completed"
    },
    "tags": [
     "injected-parameters"
    ]
   },
   "outputs": [],
   "source": [
    "# Parameters\n",
    "upstream = {\n",
    "    \"normalize_security_names\": {\n",
    "        \"nb\": \"/Users/aiujdm2/market_watch/output/notebooks/normalize_security_names.ipynb\",\n",
    "        \"data\": \"/Users/aiujdm2/market_watch/output/data/interim/normalized_security_names.csv\",\n",
    "    },\n",
    "    \"fetch_n_filter_gdelt_bq\": {\n",
    "        \"nb\": \"/Users/aiujdm2/market_watch/output/notebooks/fetch_n_filter_gdelt_bq.ipynb\",\n",
    "        \"data\": \"/Users/aiujdm2/market_watch/output/data/raw/gdelt_gkg_bqdata-raw.csv\",\n",
    "    },\n",
    "}\n",
    "product = {\n",
    "    \"nb\": \"/Users/aiujdm2/market_watch/output/notebooks/clean_gdelt_data.ipynb\",\n",
    "    \"data\": \"/Users/aiujdm2/market_watch/output/data/interim/gdelt_gkg_data-cleaned.csv\",\n",
    "}\n"
   ]
  },
  {
   "cell_type": "code",
   "execution_count": 3,
   "id": "14e1b136",
   "metadata": {
    "execution": {
     "iopub.execute_input": "2022-04-24T16:44:28.140272Z",
     "iopub.status.busy": "2022-04-24T16:44:28.140068Z",
     "iopub.status.idle": "2022-04-24T16:44:29.082134Z",
     "shell.execute_reply": "2022-04-24T16:44:29.081471Z"
    },
    "papermill": {
     "duration": 0.948395,
     "end_time": "2022-04-24T16:44:29.084271",
     "exception": false,
     "start_time": "2022-04-24T16:44:28.135876",
     "status": "completed"
    },
    "tags": []
   },
   "outputs": [
    {
     "name": "stderr",
     "output_type": "stream",
     "text": [
      "[nltk_data] Downloading package wordnet to /Users/aiujdm2/nltk_data...\n",
      "[nltk_data]   Package wordnet is already up-to-date!\n",
      "[nltk_data] Downloading package stopwords to\n",
      "[nltk_data]     /Users/aiujdm2/nltk_data...\n",
      "[nltk_data]   Package stopwords is already up-to-date!\n",
      "[nltk_data] Downloading package omw-1.4 to /Users/aiujdm2/nltk_data...\n",
      "[nltk_data]   Package omw-1.4 is already up-to-date!\n",
      "/Users/aiujdm2/.local/share/virtualenvs/market_watch-dtlP-L11/lib/python3.9/site-packages/fuzzywuzzy/fuzz.py:11: UserWarning: Using slow pure-python SequenceMatcher. Install python-Levenshtein to remove this warning\n",
      "  warnings.warn('Using slow pure-python SequenceMatcher. Install python-Levenshtein to remove this warning')\n"
     ]
    }
   ],
   "source": [
    "# your code here...\n",
    "import pandas as pd\n",
    "import numpy as np\n",
    "from pathlib import Path\n",
    "import nltk\n",
    "import time\n",
    "import re\n",
    "from time import time\n",
    "import json\n",
    "import ast\n",
    "from src.utils import preprocess_text\n",
    "from collections import Counter\n",
    "from src.utils import fuzz_similarity, preprocess_text\n",
    "from nltk.corpus import stopwords"
   ]
  },
  {
   "cell_type": "code",
   "execution_count": 4,
   "id": "9c352397",
   "metadata": {
    "execution": {
     "iopub.execute_input": "2022-04-24T16:44:29.091309Z",
     "iopub.status.busy": "2022-04-24T16:44:29.091067Z",
     "iopub.status.idle": "2022-04-24T16:44:29.096606Z",
     "shell.execute_reply": "2022-04-24T16:44:29.096066Z"
    },
    "papermill": {
     "duration": 0.0111,
     "end_time": "2022-04-24T16:44:29.098481",
     "exception": false,
     "start_time": "2022-04-24T16:44:29.087381",
     "status": "completed"
    },
    "tags": []
   },
   "outputs": [
    {
     "name": "stderr",
     "output_type": "stream",
     "text": [
      "[nltk_data] Downloading package wordnet to /Users/aiujdm2/nltk_data...\n",
      "[nltk_data]   Package wordnet is already up-to-date!\n",
      "[nltk_data] Downloading package stopwords to\n",
      "[nltk_data]     /Users/aiujdm2/nltk_data...\n",
      "[nltk_data]   Package stopwords is already up-to-date!\n",
      "[nltk_data] Downloading package omw-1.4 to /Users/aiujdm2/nltk_data...\n",
      "[nltk_data]   Package omw-1.4 is already up-to-date!\n"
     ]
    }
   ],
   "source": [
    "nltk.download('wordnet')\n",
    "nltk.download('stopwords')\n",
    "nltk.download('omw-1.4')\n",
    "stops = set(stopwords.words('english'))\n",
    "pd.options.display.max_colwidth = 200"
   ]
  },
  {
   "cell_type": "code",
   "execution_count": 5,
   "id": "3d6dcb37",
   "metadata": {
    "execution": {
     "iopub.execute_input": "2022-04-24T16:44:29.105073Z",
     "iopub.status.busy": "2022-04-24T16:44:29.104845Z",
     "iopub.status.idle": "2022-04-24T16:44:29.108346Z",
     "shell.execute_reply": "2022-04-24T16:44:29.107682Z"
    },
    "papermill": {
     "duration": 0.008446,
     "end_time": "2022-04-24T16:44:29.109849",
     "exception": false,
     "start_time": "2022-04-24T16:44:29.101403",
     "status": "completed"
    },
    "tags": []
   },
   "outputs": [],
   "source": [
    "gdelt_file_path = upstream['fetch_n_filter_gdelt_bq']['data']\n",
    "securities_file_path = upstream['normalize_security_names']['data']"
   ]
  },
  {
   "cell_type": "code",
   "execution_count": 6,
   "id": "6d240c63",
   "metadata": {
    "execution": {
     "iopub.execute_input": "2022-04-24T16:44:29.116764Z",
     "iopub.status.busy": "2022-04-24T16:44:29.116539Z",
     "iopub.status.idle": "2022-04-24T16:44:29.245048Z",
     "shell.execute_reply": "2022-04-24T16:44:29.244576Z"
    },
    "papermill": {
     "duration": 0.133825,
     "end_time": "2022-04-24T16:44:29.246610",
     "exception": false,
     "start_time": "2022-04-24T16:44:29.112785",
     "status": "completed"
    },
    "tags": []
   },
   "outputs": [
    {
     "name": "stdout",
     "output_type": "stream",
     "text": [
      "<class 'pandas.core.frame.DataFrame'>\n",
      "Int64Index: 4462 entries, 2 to 9192\n",
      "Data columns (total 4 columns):\n",
      " #   Column       Non-Null Count  Dtype \n",
      "---  ------       --------------  ----- \n",
      " 0   cik          4462 non-null   int64 \n",
      " 1   ticker       4462 non-null   object\n",
      " 2   full_name    4462 non-null   object\n",
      " 3   former_name  4462 non-null   object\n",
      "dtypes: int64(1), object(3)\n",
      "memory usage: 174.3+ KB\n"
     ]
    }
   ],
   "source": [
    "gdelt_df = pd.read_csv(gdelt_file_path, index_col=0)\n",
    "securities_df = pd.read_csv(securities_file_path, index_col=0)\n",
    "securities_df.dropna(subset=['former_name'], inplace=True)\n",
    "securities_df.info()"
   ]
  },
  {
   "cell_type": "code",
   "execution_count": 7,
   "id": "f222cd1e",
   "metadata": {
    "execution": {
     "iopub.execute_input": "2022-04-24T16:44:29.253848Z",
     "iopub.status.busy": "2022-04-24T16:44:29.253619Z",
     "iopub.status.idle": "2022-04-24T16:44:29.261111Z",
     "shell.execute_reply": "2022-04-24T16:44:29.260623Z"
    },
    "papermill": {
     "duration": 0.01296,
     "end_time": "2022-04-24T16:44:29.262865",
     "exception": false,
     "start_time": "2022-04-24T16:44:29.249905",
     "status": "completed"
    },
    "tags": []
   },
   "outputs": [
    {
     "data": {
      "text/plain": [
       "Index(['GKGRECORDID', 'DATE', 'SourceCollectionIdentifier',\n",
       "       'DocumentIdentifier', 'Locations', 'Persons', 'Organizations', 'Tone'],\n",
       "      dtype='object')"
      ]
     },
     "execution_count": 7,
     "metadata": {},
     "output_type": "execute_result"
    }
   ],
   "source": [
    "gdelt_df.columns"
   ]
  },
  {
   "cell_type": "code",
   "execution_count": 8,
   "id": "1d69add3",
   "metadata": {
    "execution": {
     "iopub.execute_input": "2022-04-24T16:44:29.270956Z",
     "iopub.status.busy": "2022-04-24T16:44:29.270798Z",
     "iopub.status.idle": "2022-04-24T16:44:29.277671Z",
     "shell.execute_reply": "2022-04-24T16:44:29.277277Z"
    },
    "papermill": {
     "duration": 0.01256,
     "end_time": "2022-04-24T16:44:29.279139",
     "exception": false,
     "start_time": "2022-04-24T16:44:29.266579",
     "status": "completed"
    },
    "tags": []
   },
   "outputs": [
    {
     "data": {
      "text/html": [
       "<div>\n",
       "<style scoped>\n",
       "    .dataframe tbody tr th:only-of-type {\n",
       "        vertical-align: middle;\n",
       "    }\n",
       "\n",
       "    .dataframe tbody tr th {\n",
       "        vertical-align: top;\n",
       "    }\n",
       "\n",
       "    .dataframe thead th {\n",
       "        text-align: right;\n",
       "    }\n",
       "</style>\n",
       "<table border=\"1\" class=\"dataframe\">\n",
       "  <thead>\n",
       "    <tr style=\"text-align: right;\">\n",
       "      <th></th>\n",
       "      <th>cik</th>\n",
       "      <th>ticker</th>\n",
       "      <th>full_name</th>\n",
       "      <th>former_name</th>\n",
       "    </tr>\n",
       "  </thead>\n",
       "  <tbody>\n",
       "    <tr>\n",
       "      <th>2</th>\n",
       "      <td>1372807</td>\n",
       "      <td>PTMN</td>\n",
       "      <td>portman ridge finance</td>\n",
       "      <td>kcap financial</td>\n",
       "    </tr>\n",
       "    <tr>\n",
       "      <th>3</th>\n",
       "      <td>1559444</td>\n",
       "      <td>FURCF</td>\n",
       "      <td>faurecia</td>\n",
       "      <td>faurecia</td>\n",
       "    </tr>\n",
       "    <tr>\n",
       "      <th>4</th>\n",
       "      <td>1478320</td>\n",
       "      <td>ADPT</td>\n",
       "      <td>adaptive biotechnologies</td>\n",
       "      <td>adaptive tcr</td>\n",
       "    </tr>\n",
       "    <tr>\n",
       "      <th>5</th>\n",
       "      <td>1560905</td>\n",
       "      <td>TRTK</td>\n",
       "      <td>tortec</td>\n",
       "      <td>geo point resources</td>\n",
       "    </tr>\n",
       "    <tr>\n",
       "      <th>8</th>\n",
       "      <td>1328598</td>\n",
       "      <td>FXE</td>\n",
       "      <td>invesco currencyshares euro</td>\n",
       "      <td>currencyshares euro</td>\n",
       "    </tr>\n",
       "  </tbody>\n",
       "</table>\n",
       "</div>"
      ],
      "text/plain": [
       "       cik ticker                    full_name          former_name\n",
       "2  1372807   PTMN        portman ridge finance       kcap financial\n",
       "3  1559444  FURCF                     faurecia             faurecia\n",
       "4  1478320   ADPT     adaptive biotechnologies         adaptive tcr\n",
       "5  1560905   TRTK                       tortec  geo point resources\n",
       "8  1328598    FXE  invesco currencyshares euro  currencyshares euro"
      ]
     },
     "execution_count": 8,
     "metadata": {},
     "output_type": "execute_result"
    }
   ],
   "source": [
    "securities_df.head()"
   ]
  },
  {
   "cell_type": "code",
   "execution_count": 9,
   "id": "c6d9b5e3",
   "metadata": {
    "execution": {
     "iopub.execute_input": "2022-04-24T16:44:29.286561Z",
     "iopub.status.busy": "2022-04-24T16:44:29.286394Z",
     "iopub.status.idle": "2022-04-24T16:44:29.508046Z",
     "shell.execute_reply": "2022-04-24T16:44:29.507478Z"
    },
    "papermill": {
     "duration": 0.227321,
     "end_time": "2022-04-24T16:44:29.509687",
     "exception": false,
     "start_time": "2022-04-24T16:44:29.282366",
     "status": "completed"
    },
    "tags": []
   },
   "outputs": [],
   "source": [
    "#  drop rows where no organizations names were extracted\n",
    "gdelt_df = gdelt_df.dropna(subset=['Organizations'])\n",
    "gdelt_df = gdelt_df.replace(to_replace= ['Google', 'Facebook', 'YouTube', 'Youtube'], value=['alphabet', 'meta platforms', 'alphabet', 'alphabet'], regex=True)"
   ]
  },
  {
   "cell_type": "code",
   "execution_count": 10,
   "id": "81ea5d47",
   "metadata": {
    "execution": {
     "iopub.execute_input": "2022-04-24T16:44:29.517485Z",
     "iopub.status.busy": "2022-04-24T16:44:29.517248Z",
     "iopub.status.idle": "2022-04-24T16:44:29.571798Z",
     "shell.execute_reply": "2022-04-24T16:44:29.571081Z"
    },
    "papermill": {
     "duration": 0.060352,
     "end_time": "2022-04-24T16:44:29.573530",
     "exception": false,
     "start_time": "2022-04-24T16:44:29.513178",
     "status": "completed"
    },
    "tags": []
   },
   "outputs": [],
   "source": [
    "#  get rid of numeric position of org name mention by only extracting alpha names\n",
    "# Extract only names not the index\n",
    "gdelt_df.Organizations = gdelt_df.Organizations.map(lambda x: re.split(r',\\d+;?', x))"
   ]
  },
  {
   "cell_type": "code",
   "execution_count": 11,
   "id": "3e0b7feb",
   "metadata": {
    "execution": {
     "iopub.execute_input": "2022-04-24T16:44:29.582501Z",
     "iopub.status.busy": "2022-04-24T16:44:29.582296Z",
     "iopub.status.idle": "2022-04-24T16:45:21.585273Z",
     "shell.execute_reply": "2022-04-24T16:45:21.584702Z"
    },
    "papermill": {
     "duration": 52.009772,
     "end_time": "2022-04-24T16:45:21.587353",
     "exception": false,
     "start_time": "2022-04-24T16:44:29.577581",
     "status": "completed"
    },
    "tags": []
   },
   "outputs": [],
   "source": [
    "def preprocess_orgs(x):\n",
    "    return preprocess_text(x, eng=True)\n",
    "\n",
    "gdelt_df.Organizations = gdelt_df.Organizations.apply(preprocess_orgs)"
   ]
  },
  {
   "cell_type": "code",
   "execution_count": 12,
   "id": "313f88aa",
   "metadata": {
    "execution": {
     "iopub.execute_input": "2022-04-24T16:45:21.595252Z",
     "iopub.status.busy": "2022-04-24T16:45:21.594793Z",
     "iopub.status.idle": "2022-04-24T16:45:23.006303Z",
     "shell.execute_reply": "2022-04-24T16:45:23.005740Z"
    },
    "papermill": {
     "duration": 1.417286,
     "end_time": "2022-04-24T16:45:23.008057",
     "exception": false,
     "start_time": "2022-04-24T16:45:21.590771",
     "status": "completed"
    },
    "tags": []
   },
   "outputs": [],
   "source": [
    "gdelt_df.Organizations = gdelt_df.Organizations.replace(to_replace=securities_df.former_name.to_list(), value=securities_df.full_name.to_list())"
   ]
  },
  {
   "cell_type": "code",
   "execution_count": 13,
   "id": "a9fea150",
   "metadata": {
    "execution": {
     "iopub.execute_input": "2022-04-24T16:45:23.016157Z",
     "iopub.status.busy": "2022-04-24T16:45:23.015869Z",
     "iopub.status.idle": "2022-04-24T16:45:23.030357Z",
     "shell.execute_reply": "2022-04-24T16:45:23.029802Z"
    },
    "papermill": {
     "duration": 0.020362,
     "end_time": "2022-04-24T16:45:23.032037",
     "exception": false,
     "start_time": "2022-04-24T16:45:23.011675",
     "status": "completed"
    },
    "tags": []
   },
   "outputs": [
    {
     "name": "stdout",
     "output_type": "stream",
     "text": [
      "<class 'pandas.core.frame.DataFrame'>\n",
      "Int64Index: 11139 entries, 0 to 11173\n",
      "Data columns (total 8 columns):\n",
      " #   Column                      Non-Null Count  Dtype \n",
      "---  ------                      --------------  ----- \n",
      " 0   GKGRECORDID                 11139 non-null  object\n",
      " 1   DATE                        11139 non-null  int64 \n",
      " 2   SourceCollectionIdentifier  11139 non-null  int64 \n",
      " 3   DocumentIdentifier          11139 non-null  object\n",
      " 4   Locations                   9585 non-null   object\n",
      " 5   Persons                     8992 non-null   object\n",
      " 6   Organizations               11139 non-null  object\n",
      " 7   Tone                        11139 non-null  object\n",
      "dtypes: int64(2), object(6)\n",
      "memory usage: 783.2+ KB\n"
     ]
    }
   ],
   "source": [
    "gdelt_df.info()"
   ]
  },
  {
   "cell_type": "code",
   "execution_count": 14,
   "id": "c7eb8c70",
   "metadata": {
    "execution": {
     "iopub.execute_input": "2022-04-24T16:45:23.041381Z",
     "iopub.status.busy": "2022-04-24T16:45:23.041173Z",
     "iopub.status.idle": "2022-04-24T16:45:23.090134Z",
     "shell.execute_reply": "2022-04-24T16:45:23.089585Z"
    },
    "lines_to_next_cell": 0,
    "papermill": {
     "duration": 0.055596,
     "end_time": "2022-04-24T16:45:23.091811",
     "exception": false,
     "start_time": "2022-04-24T16:45:23.036215",
     "status": "completed"
    },
    "tags": []
   },
   "outputs": [
    {
     "name": "stdout",
     "output_type": "stream",
     "text": [
      "<class 'pandas.core.frame.DataFrame'>\n",
      "Int64Index: 11139 entries, 0 to 11173\n",
      "Data columns (total 8 columns):\n",
      " #   Column                      Non-Null Count  Dtype \n",
      "---  ------                      --------------  ----- \n",
      " 0   GKGRECORDID                 11139 non-null  object\n",
      " 1   DATE                        11139 non-null  int64 \n",
      " 2   SourceCollectionIdentifier  11139 non-null  int64 \n",
      " 3   DocumentIdentifier          11139 non-null  object\n",
      " 4   Locations                   9585 non-null   object\n",
      " 5   Persons                     8992 non-null   object\n",
      " 6   Organizations               11139 non-null  object\n",
      " 7   Tone                        11139 non-null  object\n",
      "dtypes: int64(2), object(6)\n",
      "memory usage: 783.2+ KB\n"
     ]
    }
   ],
   "source": [
    "def count_orgs(x):\n",
    "    return x if type(x) is float or x is None or len(x) == 0 else Counter(x)\n",
    "\n",
    "gdelt_df.Organizations = gdelt_df.Organizations.apply(count_orgs)\n",
    "gdelt_df.dropna(subset=['Organizations'], inplace=True)\n",
    "gdelt_df.info()"
   ]
  },
  {
   "cell_type": "code",
   "execution_count": 15,
   "id": "86e3b13f",
   "metadata": {
    "execution": {
     "iopub.execute_input": "2022-04-24T16:45:23.101242Z",
     "iopub.status.busy": "2022-04-24T16:45:23.101038Z",
     "iopub.status.idle": "2022-04-24T16:45:25.966518Z",
     "shell.execute_reply": "2022-04-24T16:45:25.965957Z"
    },
    "papermill": {
     "duration": 2.87222,
     "end_time": "2022-04-24T16:45:25.968313",
     "exception": false,
     "start_time": "2022-04-24T16:45:23.096093",
     "status": "completed"
    },
    "tags": []
   },
   "outputs": [],
   "source": [
    "securities_names = preprocess_text(securities_df.full_name)\n",
    "gdelt_df.Organizations = gdelt_df.Organizations.apply(lambda x: { key:x[key] for key in x.keys() if key in securities_names and key != 'Tooshorttext'})\n",
    "gdelt_df = gdelt_df[gdelt_df.Organizations.str.len() != 0]"
   ]
  },
  {
   "cell_type": "code",
   "execution_count": 16,
   "id": "e662c9d5",
   "metadata": {
    "execution": {
     "iopub.execute_input": "2022-04-24T16:45:25.977082Z",
     "iopub.status.busy": "2022-04-24T16:45:25.976402Z",
     "iopub.status.idle": "2022-04-24T16:45:25.993747Z",
     "shell.execute_reply": "2022-04-24T16:45:25.993248Z"
    },
    "papermill": {
     "duration": 0.023441,
     "end_time": "2022-04-24T16:45:25.995521",
     "exception": false,
     "start_time": "2022-04-24T16:45:25.972080",
     "status": "completed"
    },
    "tags": []
   },
   "outputs": [
    {
     "name": "stdout",
     "output_type": "stream",
     "text": [
      "<class 'pandas.core.frame.DataFrame'>\n",
      "Int64Index: 9534 entries, 0 to 11173\n",
      "Data columns (total 8 columns):\n",
      " #   Column                      Non-Null Count  Dtype \n",
      "---  ------                      --------------  ----- \n",
      " 0   GKGRECORDID                 9534 non-null   object\n",
      " 1   DATE                        9534 non-null   int64 \n",
      " 2   SourceCollectionIdentifier  9534 non-null   int64 \n",
      " 3   DocumentIdentifier          9534 non-null   object\n",
      " 4   Locations                   8118 non-null   object\n",
      " 5   Persons                     7953 non-null   object\n",
      " 6   Organizations               9534 non-null   object\n",
      " 7   Tone                        9534 non-null   object\n",
      "dtypes: int64(2), object(6)\n",
      "memory usage: 670.4+ KB\n"
     ]
    }
   ],
   "source": [
    "gdelt_df.info()"
   ]
  },
  {
   "cell_type": "code",
   "execution_count": 17,
   "id": "5adfabb1",
   "metadata": {
    "execution": {
     "iopub.execute_input": "2022-04-24T16:45:26.005231Z",
     "iopub.status.busy": "2022-04-24T16:45:26.005032Z",
     "iopub.status.idle": "2022-04-24T16:45:26.121342Z",
     "shell.execute_reply": "2022-04-24T16:45:26.120667Z"
    },
    "lines_to_next_cell": 2,
    "papermill": {
     "duration": 0.123554,
     "end_time": "2022-04-24T16:45:26.123279",
     "exception": false,
     "start_time": "2022-04-24T16:45:25.999725",
     "status": "completed"
    },
    "tags": []
   },
   "outputs": [],
   "source": [
    "def split_locations(location_list):\n",
    "    location_names = []\n",
    "    if type(location_list) is not float:\n",
    "        for location_string in location_list:\n",
    "            loc_parts = location_string.split('#')\n",
    "            # We are only interested in full location name which is second entry in location string           \n",
    "            location_names.append(loc_parts[1]) if len(loc_parts) > 1 else np.nan\n",
    "            \n",
    "    return location_names\n",
    "# Locations are semi-colons(;) seperated and each location string is further seperated by hash(#)\n",
    "gdelt_df.Locations = gdelt_df.Locations.str.split(';').apply(split_locations)\n",
    "#  Remove duplicates\n",
    "gdelt_df.Locations = gdelt_df.Locations.map(set)"
   ]
  },
  {
   "cell_type": "code",
   "execution_count": 18,
   "id": "8c03c0b4",
   "metadata": {
    "execution": {
     "iopub.execute_input": "2022-04-24T16:45:26.133259Z",
     "iopub.status.busy": "2022-04-24T16:45:26.133052Z",
     "iopub.status.idle": "2022-04-24T16:45:26.162059Z",
     "shell.execute_reply": "2022-04-24T16:45:26.161534Z"
    },
    "papermill": {
     "duration": 0.035817,
     "end_time": "2022-04-24T16:45:26.163804",
     "exception": false,
     "start_time": "2022-04-24T16:45:26.127987",
     "status": "completed"
    },
    "tags": []
   },
   "outputs": [],
   "source": [
    "#  Clean some data elements\n",
    "gdelt_df.Persons = gdelt_df.Persons.str.findall(pat=\"[A-Z][a-z]+ [A-Z][a-z]+\")\n",
    "#  Remove duplicates\n",
    "gdelt_df.Persons = gdelt_df.Persons.map(set, na_action='ignore')"
   ]
  },
  {
   "cell_type": "code",
   "execution_count": 19,
   "id": "7fd2d7f1",
   "metadata": {
    "execution": {
     "iopub.execute_input": "2022-04-24T16:45:26.174486Z",
     "iopub.status.busy": "2022-04-24T16:45:26.174254Z",
     "iopub.status.idle": "2022-04-24T16:45:26.188623Z",
     "shell.execute_reply": "2022-04-24T16:45:26.188031Z"
    },
    "papermill": {
     "duration": 0.021789,
     "end_time": "2022-04-24T16:45:26.190384",
     "exception": false,
     "start_time": "2022-04-24T16:45:26.168595",
     "status": "completed"
    },
    "tags": []
   },
   "outputs": [],
   "source": [
    "gdelt_df.Tone = gdelt_df.Tone.str.split(',')"
   ]
  },
  {
   "cell_type": "code",
   "execution_count": 20,
   "id": "78f541ff",
   "metadata": {
    "execution": {
     "iopub.execute_input": "2022-04-24T16:45:26.200396Z",
     "iopub.status.busy": "2022-04-24T16:45:26.200194Z",
     "iopub.status.idle": "2022-04-24T16:45:26.212705Z",
     "shell.execute_reply": "2022-04-24T16:45:26.212139Z"
    },
    "papermill": {
     "duration": 0.019442,
     "end_time": "2022-04-24T16:45:26.214430",
     "exception": false,
     "start_time": "2022-04-24T16:45:26.194988",
     "status": "completed"
    },
    "tags": []
   },
   "outputs": [],
   "source": [
    "# Clean Tone\n",
    "gdelt_df['AvgTone'] = gdelt_df.Tone.apply(lambda x: x[0])\n",
    "gdelt_df['PosScore'] = gdelt_df.Tone.apply(lambda x: x[1])\n",
    "gdelt_df['NegScore'] = gdelt_df.Tone.apply(lambda x: x[2])\n",
    "gdelt_df['Polarity'] = gdelt_df.Tone.apply(lambda x: x[3])"
   ]
  },
  {
   "cell_type": "code",
   "execution_count": 21,
   "id": "276de42b",
   "metadata": {
    "execution": {
     "iopub.execute_input": "2022-04-24T16:45:26.224526Z",
     "iopub.status.busy": "2022-04-24T16:45:26.224322Z",
     "iopub.status.idle": "2022-04-24T16:45:26.233071Z",
     "shell.execute_reply": "2022-04-24T16:45:26.232486Z"
    },
    "lines_to_next_cell": 2,
    "papermill": {
     "duration": 0.015811,
     "end_time": "2022-04-24T16:45:26.234854",
     "exception": false,
     "start_time": "2022-04-24T16:45:26.219043",
     "status": "completed"
    },
    "tags": []
   },
   "outputs": [],
   "source": [
    "gdelt_df.drop([\"Tone\", \"DATE\", \"SourceCollectionIdentifier\", \"DocumentIdentifier\"], axis = 1, inplace=True)"
   ]
  },
  {
   "cell_type": "code",
   "execution_count": 22,
   "id": "11c8f069",
   "metadata": {
    "execution": {
     "iopub.execute_input": "2022-04-24T16:45:26.245339Z",
     "iopub.status.busy": "2022-04-24T16:45:26.245131Z",
     "iopub.status.idle": "2022-04-24T16:45:26.262455Z",
     "shell.execute_reply": "2022-04-24T16:45:26.261869Z"
    },
    "papermill": {
     "duration": 0.024548,
     "end_time": "2022-04-24T16:45:26.264235",
     "exception": false,
     "start_time": "2022-04-24T16:45:26.239687",
     "status": "completed"
    },
    "tags": []
   },
   "outputs": [
    {
     "data": {
      "text/html": [
       "<div>\n",
       "<style scoped>\n",
       "    .dataframe tbody tr th:only-of-type {\n",
       "        vertical-align: middle;\n",
       "    }\n",
       "\n",
       "    .dataframe tbody tr th {\n",
       "        vertical-align: top;\n",
       "    }\n",
       "\n",
       "    .dataframe thead th {\n",
       "        text-align: right;\n",
       "    }\n",
       "</style>\n",
       "<table border=\"1\" class=\"dataframe\">\n",
       "  <thead>\n",
       "    <tr style=\"text-align: right;\">\n",
       "      <th></th>\n",
       "      <th>GKGRECORDID</th>\n",
       "      <th>Locations</th>\n",
       "      <th>Persons</th>\n",
       "      <th>Organizations</th>\n",
       "      <th>AvgTone</th>\n",
       "      <th>PosScore</th>\n",
       "      <th>NegScore</th>\n",
       "      <th>Polarity</th>\n",
       "    </tr>\n",
       "  </thead>\n",
       "  <tbody>\n",
       "    <tr>\n",
       "      <th>6970</th>\n",
       "      <td>20220329071500-455</td>\n",
       "      <td>{Berlin, Berlin, Germany, Shanghai, Shanghai, China, India, China}</td>\n",
       "      <td>{Andrej Karpathy, Craig Irwin, Elon Musk, David Trainer}</td>\n",
       "      <td>{'twitter': 1, 'apple': 1, 'tesla': 1}</td>\n",
       "      <td>-0.584795321637427</td>\n",
       "      <td>2.53411306042885</td>\n",
       "      <td>3.11890838206628</td>\n",
       "      <td>5.65302144249513</td>\n",
       "    </tr>\n",
       "    <tr>\n",
       "      <th>3067</th>\n",
       "      <td>20220216211500-129</td>\n",
       "      <td>{}</td>\n",
       "      <td>{Bryan Johnson, Elon Musk}</td>\n",
       "      <td>{'tesla': 1}</td>\n",
       "      <td>-1.66666666666667</td>\n",
       "      <td>4.33333333333333</td>\n",
       "      <td>6</td>\n",
       "      <td>10.3333333333333</td>\n",
       "    </tr>\n",
       "    <tr>\n",
       "      <th>10450</th>\n",
       "      <td>20220308091500-707</td>\n",
       "      <td>{Kollam, Kerala, India, Chennai, Tamil Nadu, India, India, Nevada, United States, Amravati, Maharashtra, India, Faridabad, Haryana, India, Bengaluru, Karnataka, India, Mysuru, Karnataka, India, Ch...</td>\n",
       "      <td>{Vishwa Vidyapeetham, Thejas Menon, Venkat Rangan, Raghu Raman}</td>\n",
       "      <td>{'tesla': 1}</td>\n",
       "      <td>2.19409282700422</td>\n",
       "      <td>3.29113924050633</td>\n",
       "      <td>1.09704641350211</td>\n",
       "      <td>4.38818565400844</td>\n",
       "    </tr>\n",
       "    <tr>\n",
       "      <th>6703</th>\n",
       "      <td>20220303060000-604</td>\n",
       "      <td>{Bengaluru, Karnataka, India, California, United States}</td>\n",
       "      <td>{Bhargav Acharya, Elon Musk, Subhranshu Sahu}</td>\n",
       "      <td>{'tesla': 1}</td>\n",
       "      <td>-1.41843971631206</td>\n",
       "      <td>1.41843971631206</td>\n",
       "      <td>2.83687943262411</td>\n",
       "      <td>4.25531914893617</td>\n",
       "    </tr>\n",
       "    <tr>\n",
       "      <th>2917</th>\n",
       "      <td>20220411070000-T1073</td>\n",
       "      <td>{United States}</td>\n",
       "      <td>NaN</td>\n",
       "      <td>{'twitter': 5}</td>\n",
       "      <td>0.321543408360129</td>\n",
       "      <td>1.92926045016077</td>\n",
       "      <td>1.60771704180064</td>\n",
       "      <td>3.53697749196141</td>\n",
       "    </tr>\n",
       "    <tr>\n",
       "      <th>9300</th>\n",
       "      <td>20220311171500-1010</td>\n",
       "      <td>{San Francisco, California, United States, Saudi Arabia, New York, United States, Saudi, California, United States}</td>\n",
       "      <td>{Nicholas Porritt, Edward Chen, Alex Spiro}</td>\n",
       "      <td>{'twitter': 2, 'tesla': 2}</td>\n",
       "      <td>-1.81219110378913</td>\n",
       "      <td>2.47116968698517</td>\n",
       "      <td>4.2833607907743</td>\n",
       "      <td>6.75453047775947</td>\n",
       "    </tr>\n",
       "    <tr>\n",
       "      <th>10147</th>\n",
       "      <td>20220324164500-2179</td>\n",
       "      <td>{Alaska, United States, Argentina, Vaca Muerta, San Juan, Argentina, Wyoming, United States, Colorado, United States, Guyana, Qua Iboe Terminal, Akwa Ibom, Nigeria, Nigeria, North Dakota, United S...</td>\n",
       "      <td>{Craig Thorstenson, Sarah Nordin, Danielle Fugere}</td>\n",
       "      <td>{'devon': 1, 'conocophillips': 1, 'tesla': 1}</td>\n",
       "      <td>-2.0066889632107</td>\n",
       "      <td>1.17056856187291</td>\n",
       "      <td>3.17725752508361</td>\n",
       "      <td>4.34782608695652</td>\n",
       "    </tr>\n",
       "    <tr>\n",
       "      <th>1365</th>\n",
       "      <td>20220219233000-49</td>\n",
       "      <td>{San Francisco, California, United States, New York, United States, London, London, City Of, United Kingdom, Hong Kong, American, Connecticut, United States}</td>\n",
       "      <td>{Julian Robertson, John Lovallo, Andreas Halverson, Andreas Halvorsen}</td>\n",
       "      <td>{'goldman sachs': 1, 'nasdaq': 9, 'chubb': 7}</td>\n",
       "      <td>1.01010101010101</td>\n",
       "      <td>1.72311348781937</td>\n",
       "      <td>0.71301247771836</td>\n",
       "      <td>2.43612596553773</td>\n",
       "    </tr>\n",
       "    <tr>\n",
       "      <th>4127</th>\n",
       "      <td>20220415191500-T458</td>\n",
       "      <td>{Englishman, Canadians, Vancouver, British Columbia, Canada, United States}</td>\n",
       "      <td>{Arabia Alwaleed, Osama Talal, Elon Musk, Gorostiaga Elon}</td>\n",
       "      <td>{'twitter': 17, 'tesla': 1}</td>\n",
       "      <td>0.301204819277108</td>\n",
       "      <td>1.50602409638554</td>\n",
       "      <td>1.20481927710843</td>\n",
       "      <td>2.71084337349398</td>\n",
       "    </tr>\n",
       "    <tr>\n",
       "      <th>9319</th>\n",
       "      <td>20220405171500-384</td>\n",
       "      <td>{Uruguay, China, America, Chinese, Russia, Estonia, Ukraine, Barbados, Bulgaria}</td>\n",
       "      <td>{Vladimir Putin, Mark Zuckerberg, Elon Musk}</td>\n",
       "      <td>{'meta platforms': 1, 'tesla': 1}</td>\n",
       "      <td>-1.14942528735632</td>\n",
       "      <td>1.14942528735632</td>\n",
       "      <td>2.29885057471264</td>\n",
       "      <td>3.44827586206897</td>\n",
       "    </tr>\n",
       "  </tbody>\n",
       "</table>\n",
       "</div>"
      ],
      "text/plain": [
       "                GKGRECORDID  \\\n",
       "6970     20220329071500-455   \n",
       "3067     20220216211500-129   \n",
       "10450    20220308091500-707   \n",
       "6703     20220303060000-604   \n",
       "2917   20220411070000-T1073   \n",
       "9300    20220311171500-1010   \n",
       "10147   20220324164500-2179   \n",
       "1365      20220219233000-49   \n",
       "4127    20220415191500-T458   \n",
       "9319     20220405171500-384   \n",
       "\n",
       "                                                                                                                                                                                                     Locations  \\\n",
       "6970                                                                                                                                        {Berlin, Berlin, Germany, Shanghai, Shanghai, China, India, China}   \n",
       "3067                                                                                                                                                                                                        {}   \n",
       "10450  {Kollam, Kerala, India, Chennai, Tamil Nadu, India, India, Nevada, United States, Amravati, Maharashtra, India, Faridabad, Haryana, India, Bengaluru, Karnataka, India, Mysuru, Karnataka, India, Ch...   \n",
       "6703                                                                                                                                                  {Bengaluru, Karnataka, India, California, United States}   \n",
       "2917                                                                                                                                                                                           {United States}   \n",
       "9300                                                                                       {San Francisco, California, United States, Saudi Arabia, New York, United States, Saudi, California, United States}   \n",
       "10147  {Alaska, United States, Argentina, Vaca Muerta, San Juan, Argentina, Wyoming, United States, Colorado, United States, Guyana, Qua Iboe Terminal, Akwa Ibom, Nigeria, Nigeria, North Dakota, United S...   \n",
       "1365                                             {San Francisco, California, United States, New York, United States, London, London, City Of, United Kingdom, Hong Kong, American, Connecticut, United States}   \n",
       "4127                                                                                                                               {Englishman, Canadians, Vancouver, British Columbia, Canada, United States}   \n",
       "9319                                                                                                                          {Uruguay, China, America, Chinese, Russia, Estonia, Ukraine, Barbados, Bulgaria}   \n",
       "\n",
       "                                                                      Persons  \\\n",
       "6970                 {Andrej Karpathy, Craig Irwin, Elon Musk, David Trainer}   \n",
       "3067                                               {Bryan Johnson, Elon Musk}   \n",
       "10450         {Vishwa Vidyapeetham, Thejas Menon, Venkat Rangan, Raghu Raman}   \n",
       "6703                            {Bhargav Acharya, Elon Musk, Subhranshu Sahu}   \n",
       "2917                                                                      NaN   \n",
       "9300                              {Nicholas Porritt, Edward Chen, Alex Spiro}   \n",
       "10147                      {Craig Thorstenson, Sarah Nordin, Danielle Fugere}   \n",
       "1365   {Julian Robertson, John Lovallo, Andreas Halverson, Andreas Halvorsen}   \n",
       "4127               {Arabia Alwaleed, Osama Talal, Elon Musk, Gorostiaga Elon}   \n",
       "9319                             {Vladimir Putin, Mark Zuckerberg, Elon Musk}   \n",
       "\n",
       "                                       Organizations             AvgTone  \\\n",
       "6970          {'twitter': 1, 'apple': 1, 'tesla': 1}  -0.584795321637427   \n",
       "3067                                    {'tesla': 1}   -1.66666666666667   \n",
       "10450                                   {'tesla': 1}    2.19409282700422   \n",
       "6703                                    {'tesla': 1}   -1.41843971631206   \n",
       "2917                                  {'twitter': 5}   0.321543408360129   \n",
       "9300                      {'twitter': 2, 'tesla': 2}   -1.81219110378913   \n",
       "10147  {'devon': 1, 'conocophillips': 1, 'tesla': 1}    -2.0066889632107   \n",
       "1365   {'goldman sachs': 1, 'nasdaq': 9, 'chubb': 7}    1.01010101010101   \n",
       "4127                     {'twitter': 17, 'tesla': 1}   0.301204819277108   \n",
       "9319               {'meta platforms': 1, 'tesla': 1}   -1.14942528735632   \n",
       "\n",
       "               PosScore          NegScore          Polarity  \n",
       "6970   2.53411306042885  3.11890838206628  5.65302144249513  \n",
       "3067   4.33333333333333                 6  10.3333333333333  \n",
       "10450  3.29113924050633  1.09704641350211  4.38818565400844  \n",
       "6703   1.41843971631206  2.83687943262411  4.25531914893617  \n",
       "2917   1.92926045016077  1.60771704180064  3.53697749196141  \n",
       "9300   2.47116968698517   4.2833607907743  6.75453047775947  \n",
       "10147  1.17056856187291  3.17725752508361  4.34782608695652  \n",
       "1365   1.72311348781937  0.71301247771836  2.43612596553773  \n",
       "4127   1.50602409638554  1.20481927710843  2.71084337349398  \n",
       "9319   1.14942528735632  2.29885057471264  3.44827586206897  "
      ]
     },
     "execution_count": 22,
     "metadata": {},
     "output_type": "execute_result"
    }
   ],
   "source": [
    "gdelt_df.sample(10)"
   ]
  },
  {
   "cell_type": "code",
   "execution_count": 23,
   "id": "0f9ca937",
   "metadata": {
    "execution": {
     "iopub.execute_input": "2022-04-24T16:45:26.274685Z",
     "iopub.status.busy": "2022-04-24T16:45:26.274502Z",
     "iopub.status.idle": "2022-04-24T16:45:26.377278Z",
     "shell.execute_reply": "2022-04-24T16:45:26.376830Z"
    },
    "papermill": {
     "duration": 0.109732,
     "end_time": "2022-04-24T16:45:26.378953",
     "exception": false,
     "start_time": "2022-04-24T16:45:26.269221",
     "status": "completed"
    },
    "tags": []
   },
   "outputs": [
    {
     "name": "stdout",
     "output_type": "stream",
     "text": [
      "Saved file /Users/aiujdm2/market_watch/output/data/interim/gdelt_gkg_data-cleaned.csv\n"
     ]
    }
   ],
   "source": [
    "output_file_path = product['data']\n",
    "Path(output_file_path).parent.mkdir(exist_ok=True, parents=True)\n",
    "gdelt_df.to_csv(output_file_path)\n",
    "print(f\"Saved file {output_file_path}\")"
   ]
  },
  {
   "cell_type": "code",
   "execution_count": 24,
   "id": "bbade72a",
   "metadata": {
    "execution": {
     "iopub.execute_input": "2022-04-24T16:45:26.388158Z",
     "iopub.status.busy": "2022-04-24T16:45:26.388003Z",
     "iopub.status.idle": "2022-04-24T16:45:26.394501Z",
     "shell.execute_reply": "2022-04-24T16:45:26.394012Z"
    },
    "papermill": {
     "duration": 0.012832,
     "end_time": "2022-04-24T16:45:26.396063",
     "exception": false,
     "start_time": "2022-04-24T16:45:26.383231",
     "status": "completed"
    },
    "tags": []
   },
   "outputs": [],
   "source": [
    "del gdelt_df, securities_df"
   ]
  },
  {
   "cell_type": "code",
   "execution_count": null,
   "id": "241d2d15",
   "metadata": {
    "papermill": {
     "duration": 0.004794,
     "end_time": "2022-04-24T16:45:26.405455",
     "exception": false,
     "start_time": "2022-04-24T16:45:26.400661",
     "status": "completed"
    },
    "tags": []
   },
   "outputs": [],
   "source": []
  }
 ],
 "metadata": {
  "jupytext": {
   "cell_metadata_filter": "tags,-all",
   "main_language": "python",
   "notebook_metadata_filter": "-all",
   "text_representation": {
    "extension": ".py",
    "format_name": "light"
   }
  },
  "kernelspec": {
   "display_name": "Python 3 (ipykernel)",
   "language": "python",
   "name": "python3"
  },
  "language_info": {
   "codemirror_mode": {
    "name": "ipython",
    "version": 3
   },
   "file_extension": ".py",
   "mimetype": "text/x-python",
   "name": "python",
   "nbconvert_exporter": "python",
   "pygments_lexer": "ipython3",
   "version": "3.9.10"
  },
  "papermill": {
   "duration": 59.650796,
   "end_time": "2022-04-24T16:45:26.936682",
   "exception": null,
   "input_path": "/var/folders/b0/4tc1nfbd6z7_vhx4nxcj2n91c0l9h6/T/tmp3l3hoq95.ipynb",
   "output_path": "/Users/aiujdm2/market_watch/output/notebooks/clean_gdelt_data.ipynb",
   "parameters": {
    "product": {
     "data": "/Users/aiujdm2/market_watch/output/data/interim/gdelt_gkg_data-cleaned.csv",
     "nb": "/Users/aiujdm2/market_watch/output/notebooks/clean_gdelt_data.ipynb"
    },
    "upstream": {
     "fetch_n_filter_gdelt_bq": {
      "data": "/Users/aiujdm2/market_watch/output/data/raw/gdelt_gkg_bqdata-raw.csv",
      "nb": "/Users/aiujdm2/market_watch/output/notebooks/fetch_n_filter_gdelt_bq.ipynb"
     },
     "normalize_security_names": {
      "data": "/Users/aiujdm2/market_watch/output/data/interim/normalized_security_names.csv",
      "nb": "/Users/aiujdm2/market_watch/output/notebooks/normalize_security_names.ipynb"
     }
    }
   },
   "start_time": "2022-04-24T16:44:27.285886"
  }
 },
 "nbformat": 4,
 "nbformat_minor": 5
}