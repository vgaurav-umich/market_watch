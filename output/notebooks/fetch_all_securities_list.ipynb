{
 "cells": [
  {
   "cell_type": "code",
   "execution_count": 1,
   "id": "ad8b5744",
   "metadata": {
    "execution": {
     "iopub.execute_input": "2022-04-24T16:05:38.249695Z",
     "iopub.status.busy": "2022-04-24T16:05:38.249373Z",
     "iopub.status.idle": "2022-04-24T16:05:38.258096Z",
     "shell.execute_reply": "2022-04-24T16:05:38.257348Z"
    },
    "papermill": {
     "duration": 0.015975,
     "end_time": "2022-04-24T16:05:38.260090",
     "exception": false,
     "start_time": "2022-04-24T16:05:38.244115",
     "status": "completed"
    },
    "tags": [
     "parameters"
    ]
   },
   "outputs": [],
   "source": [
    "# declare a list tasks whose products you want to use as inputs\n",
    "upstream = None"
   ]
  },
  {
   "cell_type": "code",
   "execution_count": 2,
   "id": "ecb1ca16",
   "metadata": {
    "execution": {
     "iopub.execute_input": "2022-04-24T16:05:38.266679Z",
     "iopub.status.busy": "2022-04-24T16:05:38.266463Z",
     "iopub.status.idle": "2022-04-24T16:05:38.269884Z",
     "shell.execute_reply": "2022-04-24T16:05:38.269312Z"
    },
    "papermill": {
     "duration": 0.008187,
     "end_time": "2022-04-24T16:05:38.271727",
     "exception": false,
     "start_time": "2022-04-24T16:05:38.263540",
     "status": "completed"
    },
    "tags": [
     "injected-parameters"
    ]
   },
   "outputs": [],
   "source": [
    "# Parameters\n",
    "sec_ticker_url = \"https://www.sec.gov/files/company_tickers.json\"\n",
    "retry_count = 6\n",
    "product = {\n",
    "    \"nb\": \"/Users/aiujdm2/market_watch/output/notebooks/fetch_all_securities_list.ipynb\",\n",
    "    \"data\": \"/Users/aiujdm2/market_watch/output/data/raw/all_securities_list.csv\",\n",
    "}\n"
   ]
  },
  {
   "cell_type": "code",
   "execution_count": 3,
   "id": "4fdb8401",
   "metadata": {
    "execution": {
     "iopub.execute_input": "2022-04-24T16:05:38.277117Z",
     "iopub.status.busy": "2022-04-24T16:05:38.276902Z",
     "iopub.status.idle": "2022-04-24T16:05:38.589262Z",
     "shell.execute_reply": "2022-04-24T16:05:38.588697Z"
    },
    "papermill": {
     "duration": 0.317066,
     "end_time": "2022-04-24T16:05:38.590958",
     "exception": false,
     "start_time": "2022-04-24T16:05:38.273892",
     "status": "completed"
    },
    "tags": []
   },
   "outputs": [],
   "source": [
    "import pandas as pd\n",
    "import json\n",
    "import requests\n",
    "import time \n",
    "from pathlib import Path"
   ]
  },
  {
   "cell_type": "markdown",
   "id": "5f3b2908",
   "metadata": {
    "papermill": {
     "duration": 0.001628,
     "end_time": "2022-04-24T16:05:38.594548",
     "exception": false,
     "start_time": "2022-04-24T16:05:38.592920",
     "status": "completed"
    },
    "tags": []
   },
   "source": [
    "Get list of publicaly traded companies, ticker and associated cik ID. We will use cik ID to pull data from SEC's [DATA APIS](https://www.sec.gov/edgar/sec-api-documentation)"
   ]
  },
  {
   "cell_type": "code",
   "execution_count": 4,
   "id": "28be9a76",
   "metadata": {
    "execution": {
     "iopub.execute_input": "2022-04-24T16:05:38.598744Z",
     "iopub.status.busy": "2022-04-24T16:05:38.598480Z",
     "iopub.status.idle": "2022-04-24T16:05:38.959158Z",
     "shell.execute_reply": "2022-04-24T16:05:38.958506Z"
    },
    "lines_to_next_cell": 0,
    "papermill": {
     "duration": 0.36507,
     "end_time": "2022-04-24T16:05:38.961103",
     "exception": false,
     "start_time": "2022-04-24T16:05:38.596033",
     "status": "completed"
    },
    "tags": []
   },
   "outputs": [],
   "source": [
    "counter = 0\n",
    "while True:\n",
    "    try:\n",
    "        traded_company_df = pd.read_json(\n",
    "            sec_ticker_url, \n",
    "            orient='index', \n",
    "            encoding_errors='ignore', \n",
    "            storage_options = {'User-Agent': 'vgaurav@umich.edu'}\n",
    "        )\n",
    "        break\n",
    "    except:\n",
    "        print(f\"Error in file load. Proceeding retry after 10 second for {retry_count} times.\")\n",
    "        counter += 1\n",
    "        if counter == retry_count:\n",
    "            break\n",
    "        time.sleep(10)\n",
    "        \n",
    "# traded_company_df['cik'] = traded_company_df.cik_str\n",
    "# traded_company_df.cik_str = traded_company_df.cik_str.astype(str).str.zfill(10)"
   ]
  },
  {
   "cell_type": "code",
   "execution_count": 5,
   "id": "cc835438",
   "metadata": {
    "execution": {
     "iopub.execute_input": "2022-04-24T16:05:38.966371Z",
     "iopub.status.busy": "2022-04-24T16:05:38.966162Z",
     "iopub.status.idle": "2022-04-24T16:05:38.972256Z",
     "shell.execute_reply": "2022-04-24T16:05:38.971563Z"
    },
    "papermill": {
     "duration": 0.010824,
     "end_time": "2022-04-24T16:05:38.974192",
     "exception": false,
     "start_time": "2022-04-24T16:05:38.963368",
     "status": "completed"
    },
    "tags": []
   },
   "outputs": [],
   "source": [
    "traded_company_df.drop_duplicates(subset=['cik_str'], inplace=True)"
   ]
  },
  {
   "cell_type": "code",
   "execution_count": 6,
   "id": "4895732c",
   "metadata": {
    "execution": {
     "iopub.execute_input": "2022-04-24T16:05:38.979509Z",
     "iopub.status.busy": "2022-04-24T16:05:38.979307Z",
     "iopub.status.idle": "2022-04-24T16:05:38.990841Z",
     "shell.execute_reply": "2022-04-24T16:05:38.990275Z"
    },
    "papermill": {
     "duration": 0.016137,
     "end_time": "2022-04-24T16:05:38.992591",
     "exception": false,
     "start_time": "2022-04-24T16:05:38.976454",
     "status": "completed"
    },
    "tags": []
   },
   "outputs": [
    {
     "name": "stdout",
     "output_type": "stream",
     "text": [
      "<class 'pandas.core.frame.DataFrame'>\n",
      "Int64Index: 9193 entries, 0 to 12122\n",
      "Data columns (total 3 columns):\n",
      " #   Column   Non-Null Count  Dtype \n",
      "---  ------   --------------  ----- \n",
      " 0   cik_str  9193 non-null   int64 \n",
      " 1   ticker   9193 non-null   object\n",
      " 2   title    9193 non-null   object\n",
      "dtypes: int64(1), object(2)\n",
      "memory usage: 287.3+ KB\n"
     ]
    }
   ],
   "source": [
    "traded_company_df.info()"
   ]
  },
  {
   "cell_type": "code",
   "execution_count": 7,
   "id": "97a5deef",
   "metadata": {
    "execution": {
     "iopub.execute_input": "2022-04-24T16:05:38.997735Z",
     "iopub.status.busy": "2022-04-24T16:05:38.997535Z",
     "iopub.status.idle": "2022-04-24T16:05:39.009753Z",
     "shell.execute_reply": "2022-04-24T16:05:39.009223Z"
    },
    "papermill": {
     "duration": 0.016671,
     "end_time": "2022-04-24T16:05:39.011472",
     "exception": false,
     "start_time": "2022-04-24T16:05:38.994801",
     "status": "completed"
    },
    "tags": []
   },
   "outputs": [
    {
     "data": {
      "text/html": [
       "<div>\n",
       "<style scoped>\n",
       "    .dataframe tbody tr th:only-of-type {\n",
       "        vertical-align: middle;\n",
       "    }\n",
       "\n",
       "    .dataframe tbody tr th {\n",
       "        vertical-align: top;\n",
       "    }\n",
       "\n",
       "    .dataframe thead th {\n",
       "        text-align: right;\n",
       "    }\n",
       "</style>\n",
       "<table border=\"1\" class=\"dataframe\">\n",
       "  <thead>\n",
       "    <tr style=\"text-align: right;\">\n",
       "      <th></th>\n",
       "      <th>cik_str</th>\n",
       "      <th>ticker</th>\n",
       "      <th>title</th>\n",
       "    </tr>\n",
       "  </thead>\n",
       "  <tbody>\n",
       "    <tr>\n",
       "      <th>3823</th>\n",
       "      <td>1839127</td>\n",
       "      <td>SPGS</td>\n",
       "      <td>Simon Property Group Acquisition Holdings, Inc.</td>\n",
       "    </tr>\n",
       "    <tr>\n",
       "      <th>4432</th>\n",
       "      <td>1854480</td>\n",
       "      <td>FIAC</td>\n",
       "      <td>Focus Impact Acquisition Corp.</td>\n",
       "    </tr>\n",
       "    <tr>\n",
       "      <th>3656</th>\n",
       "      <td>1816708</td>\n",
       "      <td>OWLT</td>\n",
       "      <td>Owlet, Inc.</td>\n",
       "    </tr>\n",
       "    <tr>\n",
       "      <th>3482</th>\n",
       "      <td>1746109</td>\n",
       "      <td>BFC</td>\n",
       "      <td>Bank First Corp</td>\n",
       "    </tr>\n",
       "    <tr>\n",
       "      <th>7985</th>\n",
       "      <td>774415</td>\n",
       "      <td>KRFG</td>\n",
       "      <td>KING RESOURCES INC</td>\n",
       "    </tr>\n",
       "  </tbody>\n",
       "</table>\n",
       "</div>"
      ],
      "text/plain": [
       "      cik_str ticker                                            title\n",
       "3823  1839127   SPGS  Simon Property Group Acquisition Holdings, Inc.\n",
       "4432  1854480   FIAC                   Focus Impact Acquisition Corp.\n",
       "3656  1816708   OWLT                                      Owlet, Inc.\n",
       "3482  1746109    BFC                                  Bank First Corp\n",
       "7985   774415   KRFG                               KING RESOURCES INC"
      ]
     },
     "execution_count": 7,
     "metadata": {},
     "output_type": "execute_result"
    }
   ],
   "source": [
    "traded_company_df.sample(5)"
   ]
  },
  {
   "cell_type": "code",
   "execution_count": 8,
   "id": "3e0df610",
   "metadata": {
    "execution": {
     "iopub.execute_input": "2022-04-24T16:05:39.017146Z",
     "iopub.status.busy": "2022-04-24T16:05:39.016958Z",
     "iopub.status.idle": "2022-04-24T16:05:39.042774Z",
     "shell.execute_reply": "2022-04-24T16:05:39.042312Z"
    },
    "papermill": {
     "duration": 0.030517,
     "end_time": "2022-04-24T16:05:39.044428",
     "exception": false,
     "start_time": "2022-04-24T16:05:39.013911",
     "status": "completed"
    },
    "tags": []
   },
   "outputs": [
    {
     "name": "stdout",
     "output_type": "stream",
     "text": [
      "Saved file /Users/aiujdm2/market_watch/output/data/raw/all_securities_list.csv\n"
     ]
    }
   ],
   "source": [
    "file_path = product[\"data\"]\n",
    "Path(file_path).parent.mkdir(exist_ok=True, parents=True)\n",
    "traded_company_df.to_csv(file_path)\n",
    "print(f\"Saved file {file_path}\")"
   ]
  },
  {
   "cell_type": "code",
   "execution_count": 9,
   "id": "235addab",
   "metadata": {
    "execution": {
     "iopub.execute_input": "2022-04-24T16:05:39.049199Z",
     "iopub.status.busy": "2022-04-24T16:05:39.049051Z",
     "iopub.status.idle": "2022-04-24T16:05:39.052238Z",
     "shell.execute_reply": "2022-04-24T16:05:39.051806Z"
    },
    "papermill": {
     "duration": 0.007467,
     "end_time": "2022-04-24T16:05:39.053897",
     "exception": false,
     "start_time": "2022-04-24T16:05:39.046430",
     "status": "completed"
    },
    "tags": []
   },
   "outputs": [],
   "source": [
    "del traded_company_df"
   ]
  },
  {
   "cell_type": "code",
   "execution_count": null,
   "id": "38c0c6cb",
   "metadata": {
    "papermill": {
     "duration": 0.002486,
     "end_time": "2022-04-24T16:05:39.058377",
     "exception": false,
     "start_time": "2022-04-24T16:05:39.055891",
     "status": "completed"
    },
    "tags": []
   },
   "outputs": [],
   "source": []
  }
 ],
 "metadata": {
  "jupytext": {
   "cell_metadata_filter": "tags,-all",
   "main_language": "python",
   "notebook_metadata_filter": "-all",
   "text_representation": {
    "extension": ".py",
    "format_name": "light"
   }
  },
  "kernelspec": {
   "display_name": "Python 3 (ipykernel)",
   "language": "python",
   "name": "python3"
  },
  "language_info": {
   "codemirror_mode": {
    "name": "ipython",
    "version": 3
   },
   "file_extension": ".py",
   "mimetype": "text/x-python",
   "name": "python",
   "nbconvert_exporter": "python",
   "pygments_lexer": "ipython3",
   "version": "3.9.10"
  },
  "papermill": {
   "duration": 1.969196,
   "end_time": "2022-04-24T16:05:39.280051",
   "exception": null,
   "input_path": "/var/folders/b0/4tc1nfbd6z7_vhx4nxcj2n91c0l9h6/T/tmpxhkrr29a.ipynb",
   "output_path": "/Users/aiujdm2/market_watch/output/notebooks/fetch_all_securities_list.ipynb",
   "parameters": {
    "product": {
     "data": "/Users/aiujdm2/market_watch/output/data/raw/all_securities_list.csv",
     "nb": "/Users/aiujdm2/market_watch/output/notebooks/fetch_all_securities_list.ipynb"
    },
    "retry_count": 6,
    "sec_ticker_url": "https://www.sec.gov/files/company_tickers.json"
   },
   "start_time": "2022-04-24T16:05:37.310855"
  }
 },
 "nbformat": 4,
 "nbformat_minor": 5
}