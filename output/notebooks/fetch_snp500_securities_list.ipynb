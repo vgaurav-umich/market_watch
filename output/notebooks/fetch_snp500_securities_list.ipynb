{
 "cells": [
  {
   "cell_type": "code",
   "execution_count": 1,
   "id": "c6908fde",
   "metadata": {
    "execution": {
     "iopub.execute_input": "2022-04-24T16:05:40.279853Z",
     "iopub.status.busy": "2022-04-24T16:05:40.279529Z",
     "iopub.status.idle": "2022-04-24T16:05:40.287398Z",
     "shell.execute_reply": "2022-04-24T16:05:40.286856Z"
    },
    "papermill": {
     "duration": 0.015008,
     "end_time": "2022-04-24T16:05:40.289524",
     "exception": false,
     "start_time": "2022-04-24T16:05:40.274516",
     "status": "completed"
    },
    "tags": [
     "parameters"
    ]
   },
   "outputs": [],
   "source": [
    "# declare a list tasks whose products you want to use as inputs\n",
    "upstream = None"
   ]
  },
  {
   "cell_type": "code",
   "execution_count": 2,
   "id": "64dfdc54",
   "metadata": {
    "execution": {
     "iopub.execute_input": "2022-04-24T16:05:40.295213Z",
     "iopub.status.busy": "2022-04-24T16:05:40.294939Z",
     "iopub.status.idle": "2022-04-24T16:05:40.298587Z",
     "shell.execute_reply": "2022-04-24T16:05:40.298022Z"
    },
    "papermill": {
     "duration": 0.008391,
     "end_time": "2022-04-24T16:05:40.300453",
     "exception": false,
     "start_time": "2022-04-24T16:05:40.292062",
     "status": "completed"
    },
    "tags": [
     "injected-parameters"
    ]
   },
   "outputs": [],
   "source": [
    "# Parameters\n",
    "source_url = \"https://en.wikipedia.org/wiki/List_of_S%26P_500_companies\"\n",
    "product = {\n",
    "    \"nb\": \"/Users/aiujdm2/market_watch/output/notebooks/fetch_snp500_securities_list.ipynb\",\n",
    "    \"data\": \"/Users/aiujdm2/market_watch/output/data/raw/snp500_securities_list.csv\",\n",
    "}\n"
   ]
  },
  {
   "cell_type": "code",
   "execution_count": 3,
   "id": "bab6571e",
   "metadata": {
    "execution": {
     "iopub.execute_input": "2022-04-24T16:05:40.305562Z",
     "iopub.status.busy": "2022-04-24T16:05:40.305342Z",
     "iopub.status.idle": "2022-04-24T16:05:40.579683Z",
     "shell.execute_reply": "2022-04-24T16:05:40.578626Z"
    },
    "papermill": {
     "duration": 0.279136,
     "end_time": "2022-04-24T16:05:40.581662",
     "exception": false,
     "start_time": "2022-04-24T16:05:40.302526",
     "status": "completed"
    },
    "tags": []
   },
   "outputs": [],
   "source": [
    "import pandas as pd"
   ]
  },
  {
   "cell_type": "code",
   "execution_count": 4,
   "id": "447d6221",
   "metadata": {
    "execution": {
     "iopub.execute_input": "2022-04-24T16:05:40.586365Z",
     "iopub.status.busy": "2022-04-24T16:05:40.586170Z",
     "iopub.status.idle": "2022-04-24T16:05:41.151238Z",
     "shell.execute_reply": "2022-04-24T16:05:41.150680Z"
    },
    "papermill": {
     "duration": 0.569269,
     "end_time": "2022-04-24T16:05:41.152944",
     "exception": false,
     "start_time": "2022-04-24T16:05:40.583675",
     "status": "completed"
    },
    "tags": []
   },
   "outputs": [],
   "source": [
    "# There are 2 tables on the Wikipedia page\n",
    "# we want the first table\n",
    "\n",
    "payload=pd.read_html(source_url)\n",
    "first_table = payload[0]\n",
    "second_table = payload[1]\n",
    "\n",
    "df = first_table"
   ]
  },
  {
   "cell_type": "code",
   "execution_count": 5,
   "id": "674a3926",
   "metadata": {
    "execution": {
     "iopub.execute_input": "2022-04-24T16:05:41.157318Z",
     "iopub.status.busy": "2022-04-24T16:05:41.157079Z",
     "iopub.status.idle": "2022-04-24T16:05:41.161467Z",
     "shell.execute_reply": "2022-04-24T16:05:41.161015Z"
    },
    "papermill": {
     "duration": 0.00817,
     "end_time": "2022-04-24T16:05:41.162940",
     "exception": false,
     "start_time": "2022-04-24T16:05:41.154770",
     "status": "completed"
    },
    "tags": []
   },
   "outputs": [],
   "source": [
    "df.drop_duplicates(subset=['CIK'], inplace=True)"
   ]
  },
  {
   "cell_type": "code",
   "execution_count": 6,
   "id": "8b26731e",
   "metadata": {
    "execution": {
     "iopub.execute_input": "2022-04-24T16:05:41.167010Z",
     "iopub.status.busy": "2022-04-24T16:05:41.166827Z",
     "iopub.status.idle": "2022-04-24T16:05:41.174719Z",
     "shell.execute_reply": "2022-04-24T16:05:41.174235Z"
    },
    "papermill": {
     "duration": 0.012273,
     "end_time": "2022-04-24T16:05:41.176812",
     "exception": false,
     "start_time": "2022-04-24T16:05:41.164539",
     "status": "completed"
    },
    "tags": []
   },
   "outputs": [
    {
     "name": "stdout",
     "output_type": "stream",
     "text": [
      "<class 'pandas.core.frame.DataFrame'>\n",
      "Int64Index: 500 entries, 0 to 503\n",
      "Data columns (total 9 columns):\n",
      " #   Column                 Non-Null Count  Dtype \n",
      "---  ------                 --------------  ----- \n",
      " 0   Symbol                 500 non-null    object\n",
      " 1   Security               500 non-null    object\n",
      " 2   SEC filings            500 non-null    object\n",
      " 3   GICS Sector            500 non-null    object\n",
      " 4   GICS Sub-Industry      500 non-null    object\n",
      " 5   Headquarters Location  500 non-null    object\n",
      " 6   Date first added       455 non-null    object\n",
      " 7   CIK                    500 non-null    int64 \n",
      " 8   Founded                500 non-null    object\n",
      "dtypes: int64(1), object(8)\n",
      "memory usage: 39.1+ KB\n"
     ]
    }
   ],
   "source": [
    "df.info()"
   ]
  },
  {
   "cell_type": "code",
   "execution_count": 7,
   "id": "4531d210",
   "metadata": {
    "execution": {
     "iopub.execute_input": "2022-04-24T16:05:41.180972Z",
     "iopub.status.busy": "2022-04-24T16:05:41.180789Z",
     "iopub.status.idle": "2022-04-24T16:05:41.194770Z",
     "shell.execute_reply": "2022-04-24T16:05:41.194347Z"
    },
    "papermill": {
     "duration": 0.018077,
     "end_time": "2022-04-24T16:05:41.196668",
     "exception": false,
     "start_time": "2022-04-24T16:05:41.178591",
     "status": "completed"
    },
    "tags": []
   },
   "outputs": [
    {
     "data": {
      "text/html": [
       "<div>\n",
       "<style scoped>\n",
       "    .dataframe tbody tr th:only-of-type {\n",
       "        vertical-align: middle;\n",
       "    }\n",
       "\n",
       "    .dataframe tbody tr th {\n",
       "        vertical-align: top;\n",
       "    }\n",
       "\n",
       "    .dataframe thead th {\n",
       "        text-align: right;\n",
       "    }\n",
       "</style>\n",
       "<table border=\"1\" class=\"dataframe\">\n",
       "  <thead>\n",
       "    <tr style=\"text-align: right;\">\n",
       "      <th></th>\n",
       "      <th>Symbol</th>\n",
       "      <th>Security</th>\n",
       "      <th>SEC filings</th>\n",
       "      <th>GICS Sector</th>\n",
       "      <th>GICS Sub-Industry</th>\n",
       "      <th>Headquarters Location</th>\n",
       "      <th>Date first added</th>\n",
       "      <th>CIK</th>\n",
       "      <th>Founded</th>\n",
       "    </tr>\n",
       "  </thead>\n",
       "  <tbody>\n",
       "    <tr>\n",
       "      <th>469</th>\n",
       "      <td>VLO</td>\n",
       "      <td>Valero</td>\n",
       "      <td>reports</td>\n",
       "      <td>Energy</td>\n",
       "      <td>Oil &amp; Gas Refining &amp; Marketing</td>\n",
       "      <td>San Antonio, Texas</td>\n",
       "      <td>NaN</td>\n",
       "      <td>1035002</td>\n",
       "      <td>1980</td>\n",
       "    </tr>\n",
       "    <tr>\n",
       "      <th>0</th>\n",
       "      <td>MMM</td>\n",
       "      <td>3M</td>\n",
       "      <td>reports</td>\n",
       "      <td>Industrials</td>\n",
       "      <td>Industrial Conglomerates</td>\n",
       "      <td>Saint Paul, Minnesota</td>\n",
       "      <td>1976-08-09</td>\n",
       "      <td>66740</td>\n",
       "      <td>1902</td>\n",
       "    </tr>\n",
       "    <tr>\n",
       "      <th>183</th>\n",
       "      <td>EVRG</td>\n",
       "      <td>Evergy</td>\n",
       "      <td>reports</td>\n",
       "      <td>Utilities</td>\n",
       "      <td>Electric Utilities</td>\n",
       "      <td>Kansas City, Missouri</td>\n",
       "      <td>2018-06-05</td>\n",
       "      <td>1711269</td>\n",
       "      <td>1909</td>\n",
       "    </tr>\n",
       "    <tr>\n",
       "      <th>301</th>\n",
       "      <td>MLM</td>\n",
       "      <td>Martin Marietta</td>\n",
       "      <td>reports</td>\n",
       "      <td>Materials</td>\n",
       "      <td>Construction Materials</td>\n",
       "      <td>Raleigh, North Carolina</td>\n",
       "      <td>2014-07-02</td>\n",
       "      <td>916076</td>\n",
       "      <td>1993</td>\n",
       "    </tr>\n",
       "    <tr>\n",
       "      <th>438</th>\n",
       "      <td>TPR</td>\n",
       "      <td>Tapestry</td>\n",
       "      <td>reports</td>\n",
       "      <td>Consumer Discretionary</td>\n",
       "      <td>Apparel, Accessories &amp; Luxury Goods</td>\n",
       "      <td>New York City, New York</td>\n",
       "      <td>NaN</td>\n",
       "      <td>1116132</td>\n",
       "      <td>2017</td>\n",
       "    </tr>\n",
       "    <tr>\n",
       "      <th>321</th>\n",
       "      <td>TAP</td>\n",
       "      <td>Molson Coors</td>\n",
       "      <td>reports</td>\n",
       "      <td>Consumer Staples</td>\n",
       "      <td>Brewers</td>\n",
       "      <td>Chicago, Illinois</td>\n",
       "      <td>1976-06-30</td>\n",
       "      <td>24545</td>\n",
       "      <td>2005 (Molson 1786, Coors 1873)</td>\n",
       "    </tr>\n",
       "    <tr>\n",
       "      <th>151</th>\n",
       "      <td>DISH</td>\n",
       "      <td>Dish</td>\n",
       "      <td>reports</td>\n",
       "      <td>Communication Services</td>\n",
       "      <td>Cable &amp; Satellite</td>\n",
       "      <td>Meridian, Colorado</td>\n",
       "      <td>2017-03-13</td>\n",
       "      <td>1001082</td>\n",
       "      <td>1980</td>\n",
       "    </tr>\n",
       "    <tr>\n",
       "      <th>287</th>\n",
       "      <td>LIN</td>\n",
       "      <td>Linde</td>\n",
       "      <td>reports</td>\n",
       "      <td>Materials</td>\n",
       "      <td>Industrial Gases</td>\n",
       "      <td>Guildford, England</td>\n",
       "      <td>1992-07-01</td>\n",
       "      <td>1707925</td>\n",
       "      <td>1879</td>\n",
       "    </tr>\n",
       "    <tr>\n",
       "      <th>442</th>\n",
       "      <td>TFX</td>\n",
       "      <td>Teleflex</td>\n",
       "      <td>reports</td>\n",
       "      <td>Health Care</td>\n",
       "      <td>Health Care Equipment</td>\n",
       "      <td>Wayne, Pennsylvania</td>\n",
       "      <td>2019-01-18</td>\n",
       "      <td>96943</td>\n",
       "      <td>1943</td>\n",
       "    </tr>\n",
       "    <tr>\n",
       "      <th>322</th>\n",
       "      <td>MDLZ</td>\n",
       "      <td>Mondelez International</td>\n",
       "      <td>reports</td>\n",
       "      <td>Consumer Staples</td>\n",
       "      <td>Packaged Foods &amp; Meats</td>\n",
       "      <td>Chicago, Illinois</td>\n",
       "      <td>2012-10-02</td>\n",
       "      <td>1103982</td>\n",
       "      <td>2012</td>\n",
       "    </tr>\n",
       "  </tbody>\n",
       "</table>\n",
       "</div>"
      ],
      "text/plain": [
       "    Symbol                Security SEC filings             GICS Sector  \\\n",
       "469    VLO                  Valero     reports                  Energy   \n",
       "0      MMM                      3M     reports             Industrials   \n",
       "183   EVRG                  Evergy     reports               Utilities   \n",
       "301    MLM         Martin Marietta     reports               Materials   \n",
       "438    TPR                Tapestry     reports  Consumer Discretionary   \n",
       "321    TAP            Molson Coors     reports        Consumer Staples   \n",
       "151   DISH                    Dish     reports  Communication Services   \n",
       "287    LIN                   Linde     reports               Materials   \n",
       "442    TFX                Teleflex     reports             Health Care   \n",
       "322   MDLZ  Mondelez International     reports        Consumer Staples   \n",
       "\n",
       "                       GICS Sub-Industry    Headquarters Location  \\\n",
       "469       Oil & Gas Refining & Marketing       San Antonio, Texas   \n",
       "0               Industrial Conglomerates    Saint Paul, Minnesota   \n",
       "183                   Electric Utilities    Kansas City, Missouri   \n",
       "301               Construction Materials  Raleigh, North Carolina   \n",
       "438  Apparel, Accessories & Luxury Goods  New York City, New York   \n",
       "321                              Brewers        Chicago, Illinois   \n",
       "151                    Cable & Satellite       Meridian, Colorado   \n",
       "287                     Industrial Gases       Guildford, England   \n",
       "442                Health Care Equipment      Wayne, Pennsylvania   \n",
       "322               Packaged Foods & Meats        Chicago, Illinois   \n",
       "\n",
       "    Date first added      CIK                         Founded  \n",
       "469              NaN  1035002                            1980  \n",
       "0         1976-08-09    66740                            1902  \n",
       "183       2018-06-05  1711269                            1909  \n",
       "301       2014-07-02   916076                            1993  \n",
       "438              NaN  1116132                            2017  \n",
       "321       1976-06-30    24545  2005 (Molson 1786, Coors 1873)  \n",
       "151       2017-03-13  1001082                            1980  \n",
       "287       1992-07-01  1707925                            1879  \n",
       "442       2019-01-18    96943                            1943  \n",
       "322       2012-10-02  1103982                            2012  "
      ]
     },
     "execution_count": 7,
     "metadata": {},
     "output_type": "execute_result"
    }
   ],
   "source": [
    "df.sample(10)"
   ]
  },
  {
   "cell_type": "code",
   "execution_count": 8,
   "id": "de65ff8f",
   "metadata": {
    "execution": {
     "iopub.execute_input": "2022-04-24T16:05:41.201431Z",
     "iopub.status.busy": "2022-04-24T16:05:41.201239Z",
     "iopub.status.idle": "2022-04-24T16:05:41.208878Z",
     "shell.execute_reply": "2022-04-24T16:05:41.208311Z"
    },
    "papermill": {
     "duration": 0.012066,
     "end_time": "2022-04-24T16:05:41.210823",
     "exception": false,
     "start_time": "2022-04-24T16:05:41.198757",
     "status": "completed"
    },
    "tags": []
   },
   "outputs": [
    {
     "name": "stdout",
     "output_type": "stream",
     "text": [
      "Saved file /Users/aiujdm2/market_watch/output/data/raw/snp500_securities_list.csv\n"
     ]
    }
   ],
   "source": [
    "output_file_path = product['data']\n",
    "df.to_csv(output_file_path)\n",
    "print(f\"Saved file {output_file_path}\")  "
   ]
  },
  {
   "cell_type": "code",
   "execution_count": 9,
   "id": "a535b24c",
   "metadata": {
    "execution": {
     "iopub.execute_input": "2022-04-24T16:05:41.215643Z",
     "iopub.status.busy": "2022-04-24T16:05:41.215404Z",
     "iopub.status.idle": "2022-04-24T16:05:41.218396Z",
     "shell.execute_reply": "2022-04-24T16:05:41.217948Z"
    },
    "papermill": {
     "duration": 0.006886,
     "end_time": "2022-04-24T16:05:41.219704",
     "exception": false,
     "start_time": "2022-04-24T16:05:41.212818",
     "status": "completed"
    },
    "tags": []
   },
   "outputs": [],
   "source": [
    "del df, first_table, second_table"
   ]
  },
  {
   "cell_type": "code",
   "execution_count": null,
   "id": "34b60cbd",
   "metadata": {
    "papermill": {
     "duration": 0.00191,
     "end_time": "2022-04-24T16:05:41.223517",
     "exception": false,
     "start_time": "2022-04-24T16:05:41.221607",
     "status": "completed"
    },
    "tags": []
   },
   "outputs": [],
   "source": []
  }
 ],
 "metadata": {
  "jupytext": {
   "cell_metadata_filter": "tags,-all",
   "main_language": "python",
   "notebook_metadata_filter": "-all",
   "text_representation": {
    "extension": ".py",
    "format_name": "light"
   }
  },
  "kernelspec": {
   "display_name": "Python 3 (ipykernel)",
   "language": "python",
   "name": "python3"
  },
  "language_info": {
   "codemirror_mode": {
    "name": "ipython",
    "version": 3
   },
   "file_extension": ".py",
   "mimetype": "text/x-python",
   "name": "python",
   "nbconvert_exporter": "python",
   "pygments_lexer": "ipython3",
   "version": "3.9.10"
  },
  "papermill": {
   "duration": 5.049396,
   "end_time": "2022-04-24T16:05:44.346061",
   "exception": null,
   "input_path": "/var/folders/b0/4tc1nfbd6z7_vhx4nxcj2n91c0l9h6/T/tmpxbt_04c7.ipynb",
   "output_path": "/Users/aiujdm2/market_watch/output/notebooks/fetch_snp500_securities_list.ipynb",
   "parameters": {
    "product": {
     "data": "/Users/aiujdm2/market_watch/output/data/raw/snp500_securities_list.csv",
     "nb": "/Users/aiujdm2/market_watch/output/notebooks/fetch_snp500_securities_list.ipynb"
    },
    "source_url": "https://en.wikipedia.org/wiki/List_of_S%26P_500_companies"
   },
   "start_time": "2022-04-24T16:05:39.296665"
  }
 },
 "nbformat": 4,
 "nbformat_minor": 5
}