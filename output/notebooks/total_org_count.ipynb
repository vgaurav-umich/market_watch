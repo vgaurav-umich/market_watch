{
 "cells": [
  {
   "cell_type": "code",
   "execution_count": 1,
   "id": "df970ce7",
   "metadata": {
    "execution": {
     "iopub.execute_input": "2022-04-24T16:45:27.993202Z",
     "iopub.status.busy": "2022-04-24T16:45:27.992864Z",
     "iopub.status.idle": "2022-04-24T16:45:28.000656Z",
     "shell.execute_reply": "2022-04-24T16:45:28.000077Z"
    },
    "lines_to_next_cell": 0,
    "papermill": {
     "duration": 0.015663,
     "end_time": "2022-04-24T16:45:28.002791",
     "exception": false,
     "start_time": "2022-04-24T16:45:27.987128",
     "status": "completed"
    },
    "tags": [
     "parameters"
    ]
   },
   "outputs": [],
   "source": [
    "# declare a list tasks whose products you want to use as inputs\n",
    "upstream = ['clean_gdelt_data', 'normalize_security_names']\n"
   ]
  },
  {
   "cell_type": "code",
   "execution_count": 2,
   "id": "683aedeb",
   "metadata": {
    "execution": {
     "iopub.execute_input": "2022-04-24T16:45:28.009761Z",
     "iopub.status.busy": "2022-04-24T16:45:28.009545Z",
     "iopub.status.idle": "2022-04-24T16:45:28.013511Z",
     "shell.execute_reply": "2022-04-24T16:45:28.012991Z"
    },
    "papermill": {
     "duration": 0.009073,
     "end_time": "2022-04-24T16:45:28.015258",
     "exception": false,
     "start_time": "2022-04-24T16:45:28.006185",
     "status": "completed"
    },
    "tags": [
     "injected-parameters"
    ]
   },
   "outputs": [],
   "source": [
    "# Parameters\n",
    "upstream = {\n",
    "    \"clean_gdelt_data\": {\n",
    "        \"nb\": \"/Users/aiujdm2/market_watch/output/notebooks/clean_gdelt_data.ipynb\",\n",
    "        \"data\": \"/Users/aiujdm2/market_watch/output/data/interim/gdelt_gkg_data-cleaned.csv\",\n",
    "    },\n",
    "    \"normalize_security_names\": {\n",
    "        \"nb\": \"/Users/aiujdm2/market_watch/output/notebooks/normalize_security_names.ipynb\",\n",
    "        \"data\": \"/Users/aiujdm2/market_watch/output/data/interim/normalized_security_names.csv\",\n",
    "    },\n",
    "}\n",
    "product = {\n",
    "    \"nb\": \"/Users/aiujdm2/market_watch/output/notebooks/total_org_count.ipynb\",\n",
    "    \"data\": \"/Users/aiujdm2/market_watch/output/data/interim/total_org_counts.csv\",\n",
    "}\n"
   ]
  },
  {
   "cell_type": "code",
   "execution_count": 3,
   "id": "b0654ece",
   "metadata": {
    "execution": {
     "iopub.execute_input": "2022-04-24T16:45:28.020904Z",
     "iopub.status.busy": "2022-04-24T16:45:28.020715Z",
     "iopub.status.idle": "2022-04-24T16:45:28.282553Z",
     "shell.execute_reply": "2022-04-24T16:45:28.281906Z"
    },
    "papermill": {
     "duration": 0.2678,
     "end_time": "2022-04-24T16:45:28.285460",
     "exception": false,
     "start_time": "2022-04-24T16:45:28.017660",
     "status": "completed"
    },
    "tags": []
   },
   "outputs": [],
   "source": [
    "import pandas as pd\n",
    "from collections import Counter\n",
    "import json\n",
    "import ast\n",
    "from pathlib import Path"
   ]
  },
  {
   "cell_type": "code",
   "execution_count": 4,
   "id": "40a35950",
   "metadata": {
    "execution": {
     "iopub.execute_input": "2022-04-24T16:45:28.293011Z",
     "iopub.status.busy": "2022-04-24T16:45:28.292792Z",
     "iopub.status.idle": "2022-04-24T16:45:28.296185Z",
     "shell.execute_reply": "2022-04-24T16:45:28.295735Z"
    },
    "lines_to_next_cell": 2,
    "papermill": {
     "duration": 0.008412,
     "end_time": "2022-04-24T16:45:28.297749",
     "exception": false,
     "start_time": "2022-04-24T16:45:28.289337",
     "status": "completed"
    },
    "tags": []
   },
   "outputs": [],
   "source": [
    "output_file_path = product['data']\n",
    "gdelt_file_path = upstream['clean_gdelt_data']['data']\n",
    "security_file_path = upstream['normalize_security_names']['data']"
   ]
  },
  {
   "cell_type": "code",
   "execution_count": 5,
   "id": "c71fd539",
   "metadata": {
    "execution": {
     "iopub.execute_input": "2022-04-24T16:45:28.304907Z",
     "iopub.status.busy": "2022-04-24T16:45:28.304662Z",
     "iopub.status.idle": "2022-04-24T16:45:28.344971Z",
     "shell.execute_reply": "2022-04-24T16:45:28.344420Z"
    },
    "papermill": {
     "duration": 0.046074,
     "end_time": "2022-04-24T16:45:28.346661",
     "exception": false,
     "start_time": "2022-04-24T16:45:28.300587",
     "status": "completed"
    },
    "tags": []
   },
   "outputs": [],
   "source": [
    "gdelt_df = pd.read_csv(gdelt_file_path, index_col=0)\n",
    "security_df = pd.read_csv(security_file_path, index_col=0)"
   ]
  },
  {
   "cell_type": "code",
   "execution_count": 6,
   "id": "dffc6e1b",
   "metadata": {
    "execution": {
     "iopub.execute_input": "2022-04-24T16:45:28.353319Z",
     "iopub.status.busy": "2022-04-24T16:45:28.353110Z",
     "iopub.status.idle": "2022-04-24T16:45:28.366196Z",
     "shell.execute_reply": "2022-04-24T16:45:28.365714Z"
    },
    "papermill": {
     "duration": 0.018052,
     "end_time": "2022-04-24T16:45:28.367868",
     "exception": false,
     "start_time": "2022-04-24T16:45:28.349816",
     "status": "completed"
    },
    "tags": []
   },
   "outputs": [
    {
     "name": "stdout",
     "output_type": "stream",
     "text": [
      "<class 'pandas.core.frame.DataFrame'>\n",
      "Int64Index: 9534 entries, 0 to 11173\n",
      "Data columns (total 8 columns):\n",
      " #   Column         Non-Null Count  Dtype  \n",
      "---  ------         --------------  -----  \n",
      " 0   GKGRECORDID    9534 non-null   object \n",
      " 1   Locations      9534 non-null   object \n",
      " 2   Persons        7953 non-null   object \n",
      " 3   Organizations  9534 non-null   object \n",
      " 4   AvgTone        9534 non-null   float64\n",
      " 5   PosScore       9534 non-null   float64\n",
      " 6   NegScore       9534 non-null   float64\n",
      " 7   Polarity       9534 non-null   float64\n",
      "dtypes: float64(4), object(4)\n",
      "memory usage: 670.4+ KB\n"
     ]
    }
   ],
   "source": [
    "gdelt_df.info()"
   ]
  },
  {
   "cell_type": "code",
   "execution_count": 7,
   "id": "475a7fb0",
   "metadata": {
    "execution": {
     "iopub.execute_input": "2022-04-24T16:45:28.373751Z",
     "iopub.status.busy": "2022-04-24T16:45:28.373551Z",
     "iopub.status.idle": "2022-04-24T16:45:28.383644Z",
     "shell.execute_reply": "2022-04-24T16:45:28.383196Z"
    },
    "papermill": {
     "duration": 0.014746,
     "end_time": "2022-04-24T16:45:28.385130",
     "exception": false,
     "start_time": "2022-04-24T16:45:28.370384",
     "status": "completed"
    },
    "tags": []
   },
   "outputs": [
    {
     "name": "stdout",
     "output_type": "stream",
     "text": [
      "<class 'pandas.core.frame.DataFrame'>\n",
      "Int64Index: 9193 entries, 0 to 9192\n",
      "Data columns (total 4 columns):\n",
      " #   Column       Non-Null Count  Dtype \n",
      "---  ------       --------------  ----- \n",
      " 0   cik          9193 non-null   int64 \n",
      " 1   ticker       9193 non-null   object\n",
      " 2   full_name    9193 non-null   object\n",
      " 3   former_name  4462 non-null   object\n",
      "dtypes: int64(1), object(3)\n",
      "memory usage: 359.1+ KB\n"
     ]
    }
   ],
   "source": [
    "security_df.info()"
   ]
  },
  {
   "cell_type": "code",
   "execution_count": 8,
   "id": "8994b736",
   "metadata": {
    "execution": {
     "iopub.execute_input": "2022-04-24T16:45:28.390198Z",
     "iopub.status.busy": "2022-04-24T16:45:28.390047Z",
     "iopub.status.idle": "2022-04-24T16:45:28.576873Z",
     "shell.execute_reply": "2022-04-24T16:45:28.576442Z"
    },
    "papermill": {
     "duration": 0.191653,
     "end_time": "2022-04-24T16:45:28.579004",
     "exception": false,
     "start_time": "2022-04-24T16:45:28.387351",
     "status": "completed"
    },
    "tags": []
   },
   "outputs": [
    {
     "data": {
      "text/plain": [
       "0        None\n",
       "3        None\n",
       "4        None\n",
       "5        None\n",
       "6        None\n",
       "         ... \n",
       "11167    None\n",
       "11169    None\n",
       "11170    None\n",
       "11172    None\n",
       "11173    None\n",
       "Name: Organizations, Length: 9534, dtype: object"
      ]
     },
     "execution_count": 8,
     "metadata": {},
     "output_type": "execute_result"
    }
   ],
   "source": [
    "c = Counter()\n",
    "\n",
    "def update_counter(string):\n",
    "    if len(string.strip()) > 5:\n",
    "        string = ast.literal_eval(string)\n",
    "        string = json.dumps(string)\n",
    "        dictionary = json.loads(string)\n",
    "        c.update(dictionary)\n",
    "    \n",
    "gdelt_df['Organizations'].apply(update_counter)"
   ]
  },
  {
   "cell_type": "code",
   "execution_count": 9,
   "id": "5dcf0fc5",
   "metadata": {
    "execution": {
     "iopub.execute_input": "2022-04-24T16:45:28.585694Z",
     "iopub.status.busy": "2022-04-24T16:45:28.585450Z",
     "iopub.status.idle": "2022-04-24T16:45:28.589043Z",
     "shell.execute_reply": "2022-04-24T16:45:28.588625Z"
    },
    "papermill": {
     "duration": 0.008015,
     "end_time": "2022-04-24T16:45:28.590537",
     "exception": false,
     "start_time": "2022-04-24T16:45:28.582522",
     "status": "completed"
    },
    "tags": []
   },
   "outputs": [],
   "source": [
    "total_org_count_df = pd.DataFrame.from_dict(dict(c), orient='index', columns=['count'])"
   ]
  },
  {
   "cell_type": "code",
   "execution_count": 10,
   "id": "08bc4c71",
   "metadata": {
    "execution": {
     "iopub.execute_input": "2022-04-24T16:45:28.595769Z",
     "iopub.status.busy": "2022-04-24T16:45:28.595583Z",
     "iopub.status.idle": "2022-04-24T16:45:28.840842Z",
     "shell.execute_reply": "2022-04-24T16:45:28.840273Z"
    },
    "papermill": {
     "duration": 0.249828,
     "end_time": "2022-04-24T16:45:28.842570",
     "exception": false,
     "start_time": "2022-04-24T16:45:28.592742",
     "status": "completed"
    },
    "tags": []
   },
   "outputs": [],
   "source": [
    "full_name_lst = security_df.full_name.to_list()\n",
    "cik_lst = []\n",
    "for security in total_org_count_df.index:\n",
    "    if security in full_name_lst:\n",
    "        matching_rows = security_df[security_df['full_name'] == security]\n",
    "        # if len(matching_rows > 0):\n",
    "        cik_lst.append(matching_rows['ticker'].to_list()[0])"
   ]
  },
  {
   "cell_type": "code",
   "execution_count": 11,
   "id": "163a1e6b",
   "metadata": {
    "execution": {
     "iopub.execute_input": "2022-04-24T16:45:28.848440Z",
     "iopub.status.busy": "2022-04-24T16:45:28.848162Z",
     "iopub.status.idle": "2022-04-24T16:45:28.851696Z",
     "shell.execute_reply": "2022-04-24T16:45:28.851203Z"
    },
    "papermill": {
     "duration": 0.008065,
     "end_time": "2022-04-24T16:45:28.853143",
     "exception": false,
     "start_time": "2022-04-24T16:45:28.845078",
     "status": "completed"
    },
    "tags": []
   },
   "outputs": [],
   "source": [
    "assert len(cik_lst) == len(total_org_count_df.index)"
   ]
  },
  {
   "cell_type": "code",
   "execution_count": 12,
   "id": "c7a5015d",
   "metadata": {
    "execution": {
     "iopub.execute_input": "2022-04-24T16:45:28.858407Z",
     "iopub.status.busy": "2022-04-24T16:45:28.858263Z",
     "iopub.status.idle": "2022-04-24T16:45:28.861436Z",
     "shell.execute_reply": "2022-04-24T16:45:28.860915Z"
    },
    "papermill": {
     "duration": 0.007519,
     "end_time": "2022-04-24T16:45:28.862962",
     "exception": false,
     "start_time": "2022-04-24T16:45:28.855443",
     "status": "completed"
    },
    "tags": []
   },
   "outputs": [],
   "source": [
    "total_org_count_df['ticker'] = cik_lst"
   ]
  },
  {
   "cell_type": "code",
   "execution_count": 13,
   "id": "a5fe3cdb",
   "metadata": {
    "execution": {
     "iopub.execute_input": "2022-04-24T16:45:28.868534Z",
     "iopub.status.busy": "2022-04-24T16:45:28.868392Z",
     "iopub.status.idle": "2022-04-24T16:45:28.874464Z",
     "shell.execute_reply": "2022-04-24T16:45:28.873929Z"
    },
    "papermill": {
     "duration": 0.010796,
     "end_time": "2022-04-24T16:45:28.875930",
     "exception": false,
     "start_time": "2022-04-24T16:45:28.865134",
     "status": "completed"
    },
    "tags": []
   },
   "outputs": [
    {
     "name": "stdout",
     "output_type": "stream",
     "text": [
      "Saved file /Users/aiujdm2/market_watch/output/data/interim/total_org_counts.csv\n"
     ]
    }
   ],
   "source": [
    "output_file_path = product['data']\n",
    "Path(output_file_path).parent.mkdir(exist_ok=True, parents=True)\n",
    "total_org_count_df.to_csv(output_file_path)\n",
    "print(f\"Saved file {output_file_path}\")"
   ]
  },
  {
   "cell_type": "code",
   "execution_count": null,
   "id": "c01f6911",
   "metadata": {
    "papermill": {
     "duration": 0.002576,
     "end_time": "2022-04-24T16:45:28.881078",
     "exception": false,
     "start_time": "2022-04-24T16:45:28.878502",
     "status": "completed"
    },
    "tags": []
   },
   "outputs": [],
   "source": []
  }
 ],
 "metadata": {
  "jupytext": {
   "cell_metadata_filter": "tags,-all",
   "main_language": "python",
   "notebook_metadata_filter": "-all",
   "text_representation": {
    "extension": ".py",
    "format_name": "light"
   }
  },
  "kernelspec": {
   "display_name": "Python 3 (ipykernel)",
   "language": "python",
   "name": "python3"
  },
  "language_info": {
   "codemirror_mode": {
    "name": "ipython",
    "version": 3
   },
   "file_extension": ".py",
   "mimetype": "text/x-python",
   "name": "python",
   "nbconvert_exporter": "python",
   "pygments_lexer": "ipython3",
   "version": "3.9.10"
  },
  "papermill": {
   "duration": 2.139961,
   "end_time": "2022-04-24T16:45:29.103197",
   "exception": null,
   "input_path": "/var/folders/b0/4tc1nfbd6z7_vhx4nxcj2n91c0l9h6/T/tmp6xsjdcxu.ipynb",
   "output_path": "/Users/aiujdm2/market_watch/output/notebooks/total_org_count.ipynb",
   "parameters": {
    "product": {
     "data": "/Users/aiujdm2/market_watch/output/data/interim/total_org_counts.csv",
     "nb": "/Users/aiujdm2/market_watch/output/notebooks/total_org_count.ipynb"
    },
    "upstream": {
     "clean_gdelt_data": {
      "data": "/Users/aiujdm2/market_watch/output/data/interim/gdelt_gkg_data-cleaned.csv",
      "nb": "/Users/aiujdm2/market_watch/output/notebooks/clean_gdelt_data.ipynb"
     },
     "normalize_security_names": {
      "data": "/Users/aiujdm2/market_watch/output/data/interim/normalized_security_names.csv",
      "nb": "/Users/aiujdm2/market_watch/output/notebooks/normalize_security_names.ipynb"
     }
    }
   },
   "start_time": "2022-04-24T16:45:26.963236"
  }
 },
 "nbformat": 4,
 "nbformat_minor": 5
}