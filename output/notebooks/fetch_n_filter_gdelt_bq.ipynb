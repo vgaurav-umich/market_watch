{
 "cells": [
  {
   "cell_type": "code",
   "execution_count": 1,
   "id": "df3e61d8",
   "metadata": {
    "execution": {
     "iopub.execute_input": "2022-04-24T16:07:46.194434Z",
     "iopub.status.busy": "2022-04-24T16:07:46.194103Z",
     "iopub.status.idle": "2022-04-24T16:07:46.202322Z",
     "shell.execute_reply": "2022-04-24T16:07:46.201533Z"
    },
    "papermill": {
     "duration": 0.016416,
     "end_time": "2022-04-24T16:07:46.204671",
     "exception": false,
     "start_time": "2022-04-24T16:07:46.188255",
     "status": "completed"
    },
    "tags": [
     "parameters"
    ]
   },
   "outputs": [],
   "source": [
    "# declare a list tasks whose products you want to use as inputs\n",
    "upstream = None"
   ]
  },
  {
   "cell_type": "code",
   "execution_count": 2,
   "id": "c84e62e5",
   "metadata": {
    "execution": {
     "iopub.execute_input": "2022-04-24T16:07:46.212281Z",
     "iopub.status.busy": "2022-04-24T16:07:46.212059Z",
     "iopub.status.idle": "2022-04-24T16:07:46.215866Z",
     "shell.execute_reply": "2022-04-24T16:07:46.215295Z"
    },
    "papermill": {
     "duration": 0.009076,
     "end_time": "2022-04-24T16:07:46.217643",
     "exception": false,
     "start_time": "2022-04-24T16:07:46.208567",
     "status": "completed"
    },
    "tags": [
     "injected-parameters"
    ]
   },
   "outputs": [],
   "source": [
    "# Parameters\n",
    "query_params = {\n",
    "    \"rolling_window\": 120,\n",
    "    \"search_term\": \"tesla\",\n",
    "    \"bq_table_name\": \"`gdelt-bq.gdeltv2.gkg`\",\n",
    "}\n",
    "product = {\n",
    "    \"nb\": \"/Users/aiujdm2/market_watch/output/notebooks/fetch_n_filter_gdelt_bq.ipynb\",\n",
    "    \"data\": \"/Users/aiujdm2/market_watch/output/data/raw/gdelt_gkg_bqdata-raw.csv\",\n",
    "}\n"
   ]
  },
  {
   "cell_type": "code",
   "execution_count": 3,
   "id": "d4ef6036",
   "metadata": {
    "execution": {
     "iopub.execute_input": "2022-04-24T16:07:46.223807Z",
     "iopub.status.busy": "2022-04-24T16:07:46.223603Z",
     "iopub.status.idle": "2022-04-24T16:07:48.724352Z",
     "shell.execute_reply": "2022-04-24T16:07:48.723786Z"
    },
    "papermill": {
     "duration": 2.505935,
     "end_time": "2022-04-24T16:07:48.726248",
     "exception": false,
     "start_time": "2022-04-24T16:07:46.220313",
     "status": "completed"
    },
    "tags": []
   },
   "outputs": [
    {
     "name": "stderr",
     "output_type": "stream",
     "text": [
      "[nltk_data] Downloading package wordnet to /Users/aiujdm2/nltk_data...\n",
      "[nltk_data]   Package wordnet is already up-to-date!\n",
      "[nltk_data] Downloading package stopwords to\n",
      "[nltk_data]     /Users/aiujdm2/nltk_data...\n",
      "[nltk_data]   Package stopwords is already up-to-date!\n",
      "[nltk_data] Downloading package omw-1.4 to /Users/aiujdm2/nltk_data...\n",
      "[nltk_data]   Package omw-1.4 is already up-to-date!\n",
      "/Users/aiujdm2/.local/share/virtualenvs/market_watch-dtlP-L11/lib/python3.9/site-packages/fuzzywuzzy/fuzz.py:11: UserWarning: Using slow pure-python SequenceMatcher. Install python-Levenshtein to remove this warning\n",
      "  warnings.warn('Using slow pure-python SequenceMatcher. Install python-Levenshtein to remove this warning')\n"
     ]
    }
   ],
   "source": [
    "from pathlib import Path\n",
    "from dotenv import load_dotenv, find_dotenv\n",
    "from google.cloud import bigquery\n",
    "from tqdm import tqdm\n",
    "from src import utils\n",
    "\n",
    "import re\n",
    "import collections\n",
    "import pandas as pd\n",
    "import datetime\n",
    "import json\n",
    "import os\n",
    "import sys\n",
    "import warnings\n",
    "\n",
    "warnings.filterwarnings('ignore')"
   ]
  },
  {
   "cell_type": "code",
   "execution_count": 4,
   "id": "2b7406ba",
   "metadata": {
    "execution": {
     "iopub.execute_input": "2022-04-24T16:07:48.731533Z",
     "iopub.status.busy": "2022-04-24T16:07:48.731354Z",
     "iopub.status.idle": "2022-04-24T16:07:48.739671Z",
     "shell.execute_reply": "2022-04-24T16:07:48.739184Z"
    },
    "papermill": {
     "duration": 0.012755,
     "end_time": "2022-04-24T16:07:48.741281",
     "exception": false,
     "start_time": "2022-04-24T16:07:48.728526",
     "status": "completed"
    },
    "tags": []
   },
   "outputs": [
    {
     "data": {
      "text/plain": [
       "True"
      ]
     },
     "execution_count": 4,
     "metadata": {},
     "output_type": "execute_result"
    }
   ],
   "source": [
    "load_dotenv(find_dotenv('market_watch.env'))"
   ]
  },
  {
   "cell_type": "markdown",
   "id": "0d722d04",
   "metadata": {
    "papermill": {
     "duration": 0.002177,
     "end_time": "2022-04-24T16:07:48.745775",
     "exception": false,
     "start_time": "2022-04-24T16:07:48.743598",
     "status": "completed"
    },
    "tags": []
   },
   "source": [
    "Load Google API key. This will enable us to call GDELT's BigQuery Dataset"
   ]
  },
  {
   "cell_type": "code",
   "execution_count": 5,
   "id": "10f3650e",
   "metadata": {
    "execution": {
     "iopub.execute_input": "2022-04-24T16:07:48.750676Z",
     "iopub.status.busy": "2022-04-24T16:07:48.750529Z",
     "iopub.status.idle": "2022-04-24T16:07:48.753813Z",
     "shell.execute_reply": "2022-04-24T16:07:48.753226Z"
    },
    "papermill": {
     "duration": 0.008695,
     "end_time": "2022-04-24T16:07:48.756533",
     "exception": false,
     "start_time": "2022-04-24T16:07:48.747838",
     "status": "completed"
    },
    "tags": []
   },
   "outputs": [
    {
     "name": "stdout",
     "output_type": "stream",
     "text": [
      "/Users/aiujdm2/.local/share/virtualenvs/market_watch-dtlP-L11/bin/python\n",
      "/Users/aiujdm2/market_watch/../.ssh/vgaurav-4d0e95d3663a.json\n"
     ]
    }
   ],
   "source": [
    "# debug code to see on which env our executable is running\n",
    "print(sys.executable)\n",
    "api_key_file = os.environ['GOOGLE_APPLICATION_CREDENTIALS']\n",
    "# debug code to see if we have loaded Google API key\n",
    "print(api_key_file)"
   ]
  },
  {
   "cell_type": "code",
   "execution_count": 6,
   "id": "fbecd2eb",
   "metadata": {
    "execution": {
     "iopub.execute_input": "2022-04-24T16:07:48.763852Z",
     "iopub.status.busy": "2022-04-24T16:07:48.763646Z",
     "iopub.status.idle": "2022-04-24T16:07:48.767322Z",
     "shell.execute_reply": "2022-04-24T16:07:48.766823Z"
    },
    "papermill": {
     "duration": 0.009007,
     "end_time": "2022-04-24T16:07:48.769048",
     "exception": false,
     "start_time": "2022-04-24T16:07:48.760041",
     "status": "completed"
    },
    "tags": []
   },
   "outputs": [],
   "source": [
    "def build_gdelt_query(table_name, search_term, start_date):\n",
    "    query_string = f\"\"\"\n",
    "        SELECT\n",
    "          GKGRECORDID,\n",
    "          DATE,\n",
    "          SourceCollectionIdentifier,\n",
    "          DocumentIdentifier,\n",
    "          V2Locations AS Locations,\n",
    "          V2Persons AS Persons,\n",
    "          V2Organizations AS Organizations,\n",
    "          V2Tone AS Tone\n",
    "        FROM\n",
    "          {table_name}\n",
    "        WHERE\n",
    "          LOWER(Organizations) LIKE \"%{search_term}%\"\n",
    "          AND DATE > {start_date}\n",
    "    \"\"\"\n",
    "    return query_string"
   ]
  },
  {
   "cell_type": "code",
   "execution_count": 7,
   "id": "b15eccdc",
   "metadata": {
    "execution": {
     "iopub.execute_input": "2022-04-24T16:07:48.775001Z",
     "iopub.status.busy": "2022-04-24T16:07:48.774811Z",
     "iopub.status.idle": "2022-04-24T16:07:48.777919Z",
     "shell.execute_reply": "2022-04-24T16:07:48.777455Z"
    },
    "papermill": {
     "duration": 0.007945,
     "end_time": "2022-04-24T16:07:48.779631",
     "exception": false,
     "start_time": "2022-04-24T16:07:48.771686",
     "status": "completed"
    },
    "tags": []
   },
   "outputs": [],
   "source": [
    "def fetch_data(bqclient, query_string):\n",
    "    df = (\n",
    "        bqclient.query(query_string).result().to_dataframe(\n",
    "            # Optionally, explicitly request to use the BigQuery Storage API. As of\n",
    "            # google-cloud-bigquery version 1.26.0 and above, the BigQuery Storage\n",
    "            # API is used by default.\n",
    "            create_bqstorage_client=True,\n",
    "        )\n",
    "    )\n",
    "    return df"
   ]
  },
  {
   "cell_type": "code",
   "execution_count": 8,
   "id": "9213b1ea",
   "metadata": {
    "execution": {
     "iopub.execute_input": "2022-04-24T16:07:48.785373Z",
     "iopub.status.busy": "2022-04-24T16:07:48.785220Z",
     "iopub.status.idle": "2022-04-24T16:07:48.788166Z",
     "shell.execute_reply": "2022-04-24T16:07:48.787602Z"
    },
    "papermill": {
     "duration": 0.007473,
     "end_time": "2022-04-24T16:07:48.789726",
     "exception": false,
     "start_time": "2022-04-24T16:07:48.782253",
     "status": "completed"
    },
    "tags": []
   },
   "outputs": [],
   "source": [
    "rolling_window = query_params[\"rolling_window\"]\n",
    "table_name = query_params[\"bq_table_name\"]\n",
    "search_term = query_params[\"search_term\"]\n",
    "gkg_file_path = product[\"data\"]"
   ]
  },
  {
   "cell_type": "code",
   "execution_count": 9,
   "id": "d1474ef4",
   "metadata": {
    "execution": {
     "iopub.execute_input": "2022-04-24T16:07:48.795090Z",
     "iopub.status.busy": "2022-04-24T16:07:48.794941Z",
     "iopub.status.idle": "2022-04-24T16:07:48.797853Z",
     "shell.execute_reply": "2022-04-24T16:07:48.797473Z"
    },
    "papermill": {
     "duration": 0.007298,
     "end_time": "2022-04-24T16:07:48.799342",
     "exception": false,
     "start_time": "2022-04-24T16:07:48.792044",
     "status": "completed"
    },
    "tags": []
   },
   "outputs": [],
   "source": [
    "start_date = utils.get_start_date(rolling_window)\n",
    "start_date = utils.gdelt_date_format(start_date)\n",
    "gkg_query = build_gdelt_query(table_name, search_term, start_date)"
   ]
  },
  {
   "cell_type": "code",
   "execution_count": 10,
   "id": "5254deeb",
   "metadata": {
    "execution": {
     "iopub.execute_input": "2022-04-24T16:07:48.804619Z",
     "iopub.status.busy": "2022-04-24T16:07:48.804474Z",
     "iopub.status.idle": "2022-04-24T16:07:56.696812Z",
     "shell.execute_reply": "2022-04-24T16:07:56.696208Z"
    },
    "papermill": {
     "duration": 7.897055,
     "end_time": "2022-04-24T16:07:56.698682",
     "exception": false,
     "start_time": "2022-04-24T16:07:48.801627",
     "status": "completed"
    },
    "tags": []
   },
   "outputs": [
    {
     "name": "stdout",
     "output_type": "stream",
     "text": [
      "Processed file with 11174 records\n"
     ]
    }
   ],
   "source": [
    "client = bigquery.Client()\n",
    "data_df = fetch_data(client, gkg_query)\n",
    "print(f\"Processed file with {len(data_df)} records\")"
   ]
  },
  {
   "cell_type": "code",
   "execution_count": 11,
   "id": "bed315ed",
   "metadata": {
    "execution": {
     "iopub.execute_input": "2022-04-24T16:07:56.706328Z",
     "iopub.status.busy": "2022-04-24T16:07:56.706110Z",
     "iopub.status.idle": "2022-04-24T16:07:56.717638Z",
     "shell.execute_reply": "2022-04-24T16:07:56.717078Z"
    },
    "papermill": {
     "duration": 0.017297,
     "end_time": "2022-04-24T16:07:56.719456",
     "exception": false,
     "start_time": "2022-04-24T16:07:56.702159",
     "status": "completed"
    },
    "tags": []
   },
   "outputs": [
    {
     "data": {
      "text/html": [
       "<div>\n",
       "<style scoped>\n",
       "    .dataframe tbody tr th:only-of-type {\n",
       "        vertical-align: middle;\n",
       "    }\n",
       "\n",
       "    .dataframe tbody tr th {\n",
       "        vertical-align: top;\n",
       "    }\n",
       "\n",
       "    .dataframe thead th {\n",
       "        text-align: right;\n",
       "    }\n",
       "</style>\n",
       "<table border=\"1\" class=\"dataframe\">\n",
       "  <thead>\n",
       "    <tr style=\"text-align: right;\">\n",
       "      <th></th>\n",
       "      <th>GKGRECORDID</th>\n",
       "      <th>DATE</th>\n",
       "      <th>SourceCollectionIdentifier</th>\n",
       "      <th>DocumentIdentifier</th>\n",
       "      <th>Locations</th>\n",
       "      <th>Persons</th>\n",
       "      <th>Organizations</th>\n",
       "      <th>Tone</th>\n",
       "    </tr>\n",
       "  </thead>\n",
       "  <tbody>\n",
       "    <tr>\n",
       "      <th>0</th>\n",
       "      <td>20220209144500-T765</td>\n",
       "      <td>20220209144500</td>\n",
       "      <td>1</td>\n",
       "      <td>https://www.latina.pe/noticias/latina-noticias...</td>\n",
       "      <td>1#Americans#US#US##39.828175#-98.5795#US#450;1...</td>\n",
       "      <td>None</td>\n",
       "      <td>Reuters,141;Tesla Inc,153;United States,125;Un...</td>\n",
       "      <td>-5.64516129032258,2.01612903225806,7.661290322...</td>\n",
       "    </tr>\n",
       "    <tr>\n",
       "      <th>1</th>\n",
       "      <td>20220424150000-T799</td>\n",
       "      <td>20220424150000</td>\n",
       "      <td>1</td>\n",
       "      <td>https://news.sina.com.tw/article/20220424/4167...</td>\n",
       "      <td>4#Hongguang, Heilongjiang, China#CH#CH08#13176...</td>\n",
       "      <td>Black Cat,982;Black Cat,1605;Ben Ben,701</td>\n",
       "      <td>Junior,61;Junior,230;Junior,636;Junior,1529;Ju...</td>\n",
       "      <td>-1.25588697017268,2.04081632653061,3.296703296...</td>\n",
       "    </tr>\n",
       "    <tr>\n",
       "      <th>2</th>\n",
       "      <td>20220424143000-T1021</td>\n",
       "      <td>20220424143000</td>\n",
       "      <td>1</td>\n",
       "      <td>http://www.stcn.com/./xw/sd/202204/t20220424_4...</td>\n",
       "      <td>4#Hongguang, Heilongjiang, China#CH#CH08#13176...</td>\n",
       "      <td>Ben Ben,818</td>\n",
       "      <td>Junior,72;Junior,233;Junior,753;Junior,1732;Ju...</td>\n",
       "      <td>-1.54929577464789,2.11267605633803,3.661971830...</td>\n",
       "    </tr>\n",
       "    <tr>\n",
       "      <th>3</th>\n",
       "      <td>20220424153000-T487</td>\n",
       "      <td>20220424153000</td>\n",
       "      <td>1</td>\n",
       "      <td>http://www.taringa.net/+offtopic/nicolas-cage-...</td>\n",
       "      <td>None</td>\n",
       "      <td>None</td>\n",
       "      <td>Corporation Tesla,737</td>\n",
       "      <td>-1.875,1.875,3.75,5.625,19.375,1.875,141</td>\n",
       "    </tr>\n",
       "    <tr>\n",
       "      <th>4</th>\n",
       "      <td>20220424141500-545</td>\n",
       "      <td>20220424141500</td>\n",
       "      <td>1</td>\n",
       "      <td>https://www.arkansasonline.com/news/2022/apr/2...</td>\n",
       "      <td>2#Texas, United States#US#USTX##31.106#-97.647...</td>\n",
       "      <td>Yvonne Taylor,4233;Elon Musk,3562;Fred Thiel,6...</td>\n",
       "      <td>Montana Environmental Information Center,4377;...</td>\n",
       "      <td>-1.41043723554302,2.39774330042313,3.808180535...</td>\n",
       "    </tr>\n",
       "  </tbody>\n",
       "</table>\n",
       "</div>"
      ],
      "text/plain": [
       "            GKGRECORDID            DATE  SourceCollectionIdentifier  \\\n",
       "0   20220209144500-T765  20220209144500                           1   \n",
       "1   20220424150000-T799  20220424150000                           1   \n",
       "2  20220424143000-T1021  20220424143000                           1   \n",
       "3   20220424153000-T487  20220424153000                           1   \n",
       "4    20220424141500-545  20220424141500                           1   \n",
       "\n",
       "                                  DocumentIdentifier  \\\n",
       "0  https://www.latina.pe/noticias/latina-noticias...   \n",
       "1  https://news.sina.com.tw/article/20220424/4167...   \n",
       "2  http://www.stcn.com/./xw/sd/202204/t20220424_4...   \n",
       "3  http://www.taringa.net/+offtopic/nicolas-cage-...   \n",
       "4  https://www.arkansasonline.com/news/2022/apr/2...   \n",
       "\n",
       "                                           Locations  \\\n",
       "0  1#Americans#US#US##39.828175#-98.5795#US#450;1...   \n",
       "1  4#Hongguang, Heilongjiang, China#CH#CH08#13176...   \n",
       "2  4#Hongguang, Heilongjiang, China#CH#CH08#13176...   \n",
       "3                                               None   \n",
       "4  2#Texas, United States#US#USTX##31.106#-97.647...   \n",
       "\n",
       "                                             Persons  \\\n",
       "0                                               None   \n",
       "1           Black Cat,982;Black Cat,1605;Ben Ben,701   \n",
       "2                                        Ben Ben,818   \n",
       "3                                               None   \n",
       "4  Yvonne Taylor,4233;Elon Musk,3562;Fred Thiel,6...   \n",
       "\n",
       "                                       Organizations  \\\n",
       "0  Reuters,141;Tesla Inc,153;United States,125;Un...   \n",
       "1  Junior,61;Junior,230;Junior,636;Junior,1529;Ju...   \n",
       "2  Junior,72;Junior,233;Junior,753;Junior,1732;Ju...   \n",
       "3                              Corporation Tesla,737   \n",
       "4  Montana Environmental Information Center,4377;...   \n",
       "\n",
       "                                                Tone  \n",
       "0  -5.64516129032258,2.01612903225806,7.661290322...  \n",
       "1  -1.25588697017268,2.04081632653061,3.296703296...  \n",
       "2  -1.54929577464789,2.11267605633803,3.661971830...  \n",
       "3           -1.875,1.875,3.75,5.625,19.375,1.875,141  \n",
       "4  -1.41043723554302,2.39774330042313,3.808180535...  "
      ]
     },
     "execution_count": 11,
     "metadata": {},
     "output_type": "execute_result"
    }
   ],
   "source": [
    "data_df.head()"
   ]
  },
  {
   "cell_type": "code",
   "execution_count": 12,
   "id": "11327631",
   "metadata": {
    "execution": {
     "iopub.execute_input": "2022-04-24T16:07:56.727725Z",
     "iopub.status.busy": "2022-04-24T16:07:56.727521Z",
     "iopub.status.idle": "2022-04-24T16:07:57.017961Z",
     "shell.execute_reply": "2022-04-24T16:07:57.017258Z"
    },
    "papermill": {
     "duration": 0.296159,
     "end_time": "2022-04-24T16:07:57.019819",
     "exception": false,
     "start_time": "2022-04-24T16:07:56.723660",
     "status": "completed"
    },
    "tags": []
   },
   "outputs": [
    {
     "name": "stdout",
     "output_type": "stream",
     "text": [
      "Saved file /Users/aiujdm2/market_watch/output/data/raw/gdelt_gkg_bqdata-raw.csv\n"
     ]
    }
   ],
   "source": [
    "# Save GKG records\n",
    "Path(gkg_file_path).parent.mkdir(exist_ok=True, parents=True)\n",
    "data_df.to_csv(gkg_file_path)\n",
    "print(f\"Saved file {gkg_file_path}\")"
   ]
  },
  {
   "cell_type": "code",
   "execution_count": 13,
   "id": "a76ef676",
   "metadata": {
    "execution": {
     "iopub.execute_input": "2022-04-24T16:07:57.026173Z",
     "iopub.status.busy": "2022-04-24T16:07:57.025940Z",
     "iopub.status.idle": "2022-04-24T16:07:57.029200Z",
     "shell.execute_reply": "2022-04-24T16:07:57.028616Z"
    },
    "papermill": {
     "duration": 0.008591,
     "end_time": "2022-04-24T16:07:57.031096",
     "exception": false,
     "start_time": "2022-04-24T16:07:57.022505",
     "status": "completed"
    },
    "tags": []
   },
   "outputs": [],
   "source": [
    "del data_df"
   ]
  },
  {
   "cell_type": "code",
   "execution_count": null,
   "id": "35ca14e7",
   "metadata": {
    "papermill": {
     "duration": 0.002507,
     "end_time": "2022-04-24T16:07:57.036036",
     "exception": false,
     "start_time": "2022-04-24T16:07:57.033529",
     "status": "completed"
    },
    "tags": []
   },
   "outputs": [],
   "source": []
  }
 ],
 "metadata": {
  "jupytext": {
   "cell_metadata_filter": "tags,-all",
   "main_language": "python",
   "notebook_metadata_filter": "-all",
   "text_representation": {
    "extension": ".py",
    "format_name": "light"
   }
  },
  "kernelspec": {
   "display_name": "Python 3 (ipykernel)",
   "language": "python",
   "name": "python3"
  },
  "language_info": {
   "codemirror_mode": {
    "name": "ipython",
    "version": 3
   },
   "file_extension": ".py",
   "mimetype": "text/x-python",
   "name": "python",
   "nbconvert_exporter": "python",
   "pygments_lexer": "ipython3",
   "version": "3.9.10"
  },
  "papermill": {
   "duration": 12.194228,
   "end_time": "2022-04-24T16:07:57.459954",
   "exception": null,
   "input_path": "/var/folders/b0/4tc1nfbd6z7_vhx4nxcj2n91c0l9h6/T/tmp5zkrjmo8.ipynb",
   "output_path": "/Users/aiujdm2/market_watch/output/notebooks/fetch_n_filter_gdelt_bq.ipynb",
   "parameters": {
    "product": {
     "data": "/Users/aiujdm2/market_watch/output/data/raw/gdelt_gkg_bqdata-raw.csv",
     "nb": "/Users/aiujdm2/market_watch/output/notebooks/fetch_n_filter_gdelt_bq.ipynb"
    },
    "query_params": {
     "bq_table_name": "`gdelt-bq.gdeltv2.gkg`",
     "rolling_window": 120,
     "search_term": "tesla"
    }
   },
   "start_time": "2022-04-24T16:07:45.265726"
  }
 },
 "nbformat": 4,
 "nbformat_minor": 5
}