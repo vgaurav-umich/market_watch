{
 "cells": [
  {
   "cell_type": "code",
   "execution_count": 1,
   "id": "7e451eee",
   "metadata": {
    "execution": {
     "iopub.execute_input": "2022-04-24T16:06:00.329996Z",
     "iopub.status.busy": "2022-04-24T16:06:00.329706Z",
     "iopub.status.idle": "2022-04-24T16:06:00.337815Z",
     "shell.execute_reply": "2022-04-24T16:06:00.337046Z"
    },
    "lines_to_next_cell": 2,
    "papermill": {
     "duration": 0.016366,
     "end_time": "2022-04-24T16:06:00.339938",
     "exception": false,
     "start_time": "2022-04-24T16:06:00.323572",
     "status": "completed"
    },
    "tags": [
     "parameters"
    ]
   },
   "outputs": [],
   "source": [
    "# If this task has dependencies, list them them here\n",
    "# (e.g. upstream = ['some_task']), otherwise leave as None.\n",
    "upstream = None\n",
    "\n",
    "# This is a placeholder, leave it as None\n",
    "product = None"
   ]
  },
  {
   "cell_type": "code",
   "execution_count": 2,
   "id": "4b4547ba",
   "metadata": {
    "execution": {
     "iopub.execute_input": "2022-04-24T16:06:00.347111Z",
     "iopub.status.busy": "2022-04-24T16:06:00.346895Z",
     "iopub.status.idle": "2022-04-24T16:06:00.351281Z",
     "shell.execute_reply": "2022-04-24T16:06:00.350712Z"
    },
    "papermill": {
     "duration": 0.009878,
     "end_time": "2022-04-24T16:06:00.353082",
     "exception": false,
     "start_time": "2022-04-24T16:06:00.343204",
     "status": "completed"
    },
    "tags": [
     "injected-parameters"
    ]
   },
   "outputs": [],
   "source": [
    "# Parameters\n",
    "api_key = \"ebc6d771a26e9b8009c65cb0ab76ba3d\"\n",
    "obs_start = \"2015-01-01\"\n",
    "obs_stop = \"2021-12-30\"\n",
    "units = \"lin\"\n",
    "series_list = [\n",
    "    \"CROASMIDTIER\",\n",
    "    \"VIXCLS\",\n",
    "    \"TOTALSL\",\n",
    "    \"CPIAUCSL\",\n",
    "    \"M1REAL\",\n",
    "    \"M1V\",\n",
    "    \"WM1NS\",\n",
    "    \"WM2NS\",\n",
    "    \"DTWEXBGS\",\n",
    "    \"SP500\",\n",
    "    \"UMCSENT\",\n",
    "    \"USSLIND\",\n",
    "]\n",
    "fred_series_info_url = \"https://api.stlouisfed.org/fred/series\"\n",
    "fred_series_observations_url = \"https://api.stlouisfed.org/fred/series/observations\"\n",
    "product = {\n",
    "    \"nb\": \"/Users/aiujdm2/market_watch/output/notebooks/fetch_fred.ipynb\",\n",
    "    \"data\": \"/Users/aiujdm2/market_watch/output/data/raw/fred_series_data.csv\",\n",
    "}\n"
   ]
  },
  {
   "cell_type": "code",
   "execution_count": 3,
   "id": "61cd72a9",
   "metadata": {
    "execution": {
     "iopub.execute_input": "2022-04-24T16:06:00.359711Z",
     "iopub.status.busy": "2022-04-24T16:06:00.359514Z",
     "iopub.status.idle": "2022-04-24T16:06:00.662221Z",
     "shell.execute_reply": "2022-04-24T16:06:00.661658Z"
    },
    "papermill": {
     "duration": 0.308039,
     "end_time": "2022-04-24T16:06:00.663970",
     "exception": false,
     "start_time": "2022-04-24T16:06:00.355931",
     "status": "completed"
    },
    "tags": []
   },
   "outputs": [],
   "source": [
    "# your code here...\n",
    "\n",
    "import requests\n",
    "import pandas as pd\n",
    "import numpy as np\n",
    "import warnings\n",
    "from tqdm import tqdm\n",
    "import json\n",
    "from pathlib import Path\n",
    "\n",
    "pd.options.display.max_rows=500\n",
    "pd.options.display.max_columns=100\n",
    "warnings.filterwarnings(\"ignore\")"
   ]
  },
  {
   "cell_type": "code",
   "execution_count": 4,
   "id": "5d9418e0",
   "metadata": {
    "execution": {
     "iopub.execute_input": "2022-04-24T16:06:00.669435Z",
     "iopub.status.busy": "2022-04-24T16:06:00.669272Z",
     "iopub.status.idle": "2022-04-24T16:06:00.674064Z",
     "shell.execute_reply": "2022-04-24T16:06:00.673505Z"
    },
    "papermill": {
     "duration": 0.009612,
     "end_time": "2022-04-24T16:06:00.675977",
     "exception": false,
     "start_time": "2022-04-24T16:06:00.666365",
     "status": "completed"
    },
    "tags": []
   },
   "outputs": [],
   "source": [
    "def fetch_fred_data(fred_url, series_list, api_key, obs_start, obs_stop, record_path, meta_columns=None):\n",
    "    \n",
    "    session = requests.Session()\n",
    "    query_params =  {\n",
    "        'file_type': 'json',\n",
    "        'api_key' : api_key,\n",
    "        'observation_start': obs_start,\n",
    "        'observation_end' : obs_stop,\n",
    "    }\n",
    "    \n",
    "    df_lst = []\n",
    "    for series_id in tqdm(series_list):\n",
    "        query_params['series_id'] = series_id\n",
    "        response = session.get(\n",
    "           fred_url,\n",
    "           params=query_params\n",
    "        )\n",
    "        data = json.loads(response.text)\n",
    "        df = pd.json_normalize(\n",
    "            data, \n",
    "            record_path=record_path, \n",
    "            meta=meta_columns,\n",
    "        )\n",
    "        df['id'] = series_id\n",
    "        df_lst.append(df)\n",
    "\n",
    "    df = pd.concat(df_lst)\n",
    "    \n",
    "    return df"
   ]
  },
  {
   "cell_type": "code",
   "execution_count": 5,
   "id": "83b7640b",
   "metadata": {
    "execution": {
     "iopub.execute_input": "2022-04-24T16:06:00.681087Z",
     "iopub.status.busy": "2022-04-24T16:06:00.680855Z",
     "iopub.status.idle": "2022-04-24T16:06:00.684344Z",
     "shell.execute_reply": "2022-04-24T16:06:00.683572Z"
    },
    "papermill": {
     "duration": 0.007933,
     "end_time": "2022-04-24T16:06:00.686052",
     "exception": false,
     "start_time": "2022-04-24T16:06:00.678119",
     "status": "completed"
    },
    "tags": []
   },
   "outputs": [],
   "source": [
    "def get_series_info(fred_series_info_url, series_list, api_key, obs_start, obs_stop):\n",
    "    \n",
    "    record_path = ['seriess']\n",
    "    df = fetch_fred_data(fred_series_info_url, series_list, api_key, obs_start, obs_stop, record_path)\n",
    "    \n",
    "    return df"
   ]
  },
  {
   "cell_type": "code",
   "execution_count": 6,
   "id": "19398f77",
   "metadata": {
    "execution": {
     "iopub.execute_input": "2022-04-24T16:06:00.691265Z",
     "iopub.status.busy": "2022-04-24T16:06:00.691030Z",
     "iopub.status.idle": "2022-04-24T16:06:00.694749Z",
     "shell.execute_reply": "2022-04-24T16:06:00.694074Z"
    },
    "papermill": {
     "duration": 0.008561,
     "end_time": "2022-04-24T16:06:00.696636",
     "exception": false,
     "start_time": "2022-04-24T16:06:00.688075",
     "status": "completed"
    },
    "tags": []
   },
   "outputs": [],
   "source": [
    "def get_series_observations(fred_series_observations_url, series_list, api_key, obs_start, obs_stop):\n",
    "    \n",
    "    record_path = ['observations']\n",
    "    df = fetch_fred_data(fred_series_observations_url, series_list, api_key, obs_start, obs_stop, record_path)\n",
    "    df = df[['id','date','value']]\n",
    "    return df"
   ]
  },
  {
   "cell_type": "code",
   "execution_count": 7,
   "id": "1a04d32d",
   "metadata": {
    "execution": {
     "iopub.execute_input": "2022-04-24T16:06:00.703502Z",
     "iopub.status.busy": "2022-04-24T16:06:00.703266Z",
     "iopub.status.idle": "2022-04-24T16:06:00.707032Z",
     "shell.execute_reply": "2022-04-24T16:06:00.706462Z"
    },
    "papermill": {
     "duration": 0.009091,
     "end_time": "2022-04-24T16:06:00.708772",
     "exception": false,
     "start_time": "2022-04-24T16:06:00.699681",
     "status": "completed"
    },
    "tags": []
   },
   "outputs": [],
   "source": [
    "def clean_series_data(series_df):\n",
    "    \n",
    "    series_df.date = pd.to_datetime(series_df.date)\n",
    "    # holidays are represented as . in dataset, let's replace them by null values\n",
    "    series_df.value = series_df.value.replace('.', np.nan)\n",
    "    # convert value to float as it comes as object\n",
    "    series_df.value = series_df.value.astype(float)\n",
    "    \n",
    "    return series_df"
   ]
  },
  {
   "cell_type": "code",
   "execution_count": 8,
   "id": "200d1eff",
   "metadata": {
    "execution": {
     "iopub.execute_input": "2022-04-24T16:06:00.715559Z",
     "iopub.status.busy": "2022-04-24T16:06:00.715146Z",
     "iopub.status.idle": "2022-04-24T16:06:00.719044Z",
     "shell.execute_reply": "2022-04-24T16:06:00.718532Z"
    },
    "papermill": {
     "duration": 0.008996,
     "end_time": "2022-04-24T16:06:00.720594",
     "exception": false,
     "start_time": "2022-04-24T16:06:00.711598",
     "status": "completed"
    },
    "tags": []
   },
   "outputs": [],
   "source": [
    "def resample(series_df, method='ffill'):\n",
    "    series_df = series_df.set_index('date')\n",
    "    sampled = series_df.resample('B')\n",
    "    sampled_df = sampled.interpolate(method=method)\n",
    "    sampled_df = sampled_df.reset_index()\n",
    "    return sampled_df"
   ]
  },
  {
   "cell_type": "code",
   "execution_count": 9,
   "id": "937cb7a2",
   "metadata": {
    "execution": {
     "iopub.execute_input": "2022-04-24T16:06:00.726188Z",
     "iopub.status.busy": "2022-04-24T16:06:00.725999Z",
     "iopub.status.idle": "2022-04-24T16:06:00.730051Z",
     "shell.execute_reply": "2022-04-24T16:06:00.729474Z"
    },
    "papermill": {
     "duration": 0.009082,
     "end_time": "2022-04-24T16:06:00.731778",
     "exception": false,
     "start_time": "2022-04-24T16:06:00.722696",
     "status": "completed"
    },
    "tags": []
   },
   "outputs": [],
   "source": [
    "def convert_to_wide_format(series_obs_df):\n",
    "    df_lst = []\n",
    "    #  we need to resample each series individually becuase of date collission\n",
    "    series_list = series_obs_df.id.unique()\n",
    "    for series_id in series_list:\n",
    "        # filter for given series id    \n",
    "        filter_cond = series_obs_df['id'] == series_id\n",
    "        # get individual series dataframe    \n",
    "        series_df = series_obs_df[filter_cond]\n",
    "        series_df = resample(series_df)\n",
    "        series_df = series_df.pivot(index='date', columns='id', values='value')\n",
    "        df_lst.append(series_df)\n",
    "    \n",
    "    df = pd.concat(df_lst, axis=1).sort_index()\n",
    "    \n",
    "    return df"
   ]
  },
  {
   "cell_type": "code",
   "execution_count": 10,
   "id": "d13fd2ed",
   "metadata": {
    "execution": {
     "iopub.execute_input": "2022-04-24T16:06:00.737143Z",
     "iopub.status.busy": "2022-04-24T16:06:00.736940Z",
     "iopub.status.idle": "2022-04-24T16:06:02.026840Z",
     "shell.execute_reply": "2022-04-24T16:06:02.026231Z"
    },
    "papermill": {
     "duration": 1.294797,
     "end_time": "2022-04-24T16:06:02.028745",
     "exception": false,
     "start_time": "2022-04-24T16:06:00.733948",
     "status": "completed"
    },
    "tags": []
   },
   "outputs": [
    {
     "name": "stderr",
     "output_type": "stream",
     "text": [
      "\r",
      "  0%|                                                    | 0/12 [00:00<?, ?it/s]"
     ]
    },
    {
     "name": "stderr",
     "output_type": "stream",
     "text": [
      "\r",
      "  8%|███▋                                        | 1/12 [00:00<00:01,  5.59it/s]"
     ]
    },
    {
     "name": "stderr",
     "output_type": "stream",
     "text": [
      "\r",
      " 17%|███████▎                                    | 2/12 [00:00<00:01,  6.01it/s]"
     ]
    },
    {
     "name": "stderr",
     "output_type": "stream",
     "text": [
      "\r",
      " 25%|███████████                                 | 3/12 [00:00<00:01,  7.35it/s]"
     ]
    },
    {
     "name": "stderr",
     "output_type": "stream",
     "text": [
      "\r",
      " 33%|██████████████▋                             | 4/12 [00:00<00:01,  7.94it/s]"
     ]
    },
    {
     "name": "stderr",
     "output_type": "stream",
     "text": [
      "\r",
      " 50%|██████████████████████                      | 6/12 [00:00<00:00,  9.79it/s]"
     ]
    },
    {
     "name": "stderr",
     "output_type": "stream",
     "text": [
      "\r",
      " 67%|█████████████████████████████▎              | 8/12 [00:00<00:00,  9.43it/s]"
     ]
    },
    {
     "name": "stderr",
     "output_type": "stream",
     "text": [
      "\r",
      " 83%|███████████████████████████████████▊       | 10/12 [00:01<00:00, 10.21it/s]"
     ]
    },
    {
     "name": "stderr",
     "output_type": "stream",
     "text": [
      "\r",
      "100%|███████████████████████████████████████████| 12/12 [00:01<00:00, 10.88it/s]"
     ]
    },
    {
     "name": "stderr",
     "output_type": "stream",
     "text": [
      "\r",
      "100%|███████████████████████████████████████████| 12/12 [00:01<00:00,  9.50it/s]"
     ]
    },
    {
     "name": "stderr",
     "output_type": "stream",
     "text": [
      "\n"
     ]
    },
    {
     "data": {
      "text/plain": [
       "Index(['id', 'realtime_start', 'realtime_end', 'title', 'observation_start',\n",
       "       'observation_end', 'frequency', 'frequency_short', 'units',\n",
       "       'units_short', 'seasonal_adjustment', 'seasonal_adjustment_short',\n",
       "       'last_updated', 'popularity', 'notes'],\n",
       "      dtype='object')"
      ]
     },
     "execution_count": 10,
     "metadata": {},
     "output_type": "execute_result"
    }
   ],
   "source": [
    "series_info_df = get_series_info(fred_series_info_url, series_list, api_key, obs_start, obs_stop)\n",
    "series_info_df.columns"
   ]
  },
  {
   "cell_type": "code",
   "execution_count": 11,
   "id": "d7a0f857",
   "metadata": {
    "execution": {
     "iopub.execute_input": "2022-04-24T16:06:02.037785Z",
     "iopub.status.busy": "2022-04-24T16:06:02.037549Z",
     "iopub.status.idle": "2022-04-24T16:06:03.395043Z",
     "shell.execute_reply": "2022-04-24T16:06:03.394319Z"
    },
    "papermill": {
     "duration": 1.364106,
     "end_time": "2022-04-24T16:06:03.397038",
     "exception": false,
     "start_time": "2022-04-24T16:06:02.032932",
     "status": "completed"
    },
    "tags": []
   },
   "outputs": [
    {
     "name": "stderr",
     "output_type": "stream",
     "text": [
      "\r",
      "  0%|                                                    | 0/12 [00:00<?, ?it/s]"
     ]
    },
    {
     "name": "stderr",
     "output_type": "stream",
     "text": [
      "\r",
      "  8%|███▋                                        | 1/12 [00:00<00:01,  7.29it/s]"
     ]
    },
    {
     "name": "stderr",
     "output_type": "stream",
     "text": [
      "\r",
      " 17%|███████▎                                    | 2/12 [00:00<00:01,  7.80it/s]"
     ]
    },
    {
     "name": "stderr",
     "output_type": "stream",
     "text": [
      "\r",
      " 25%|███████████                                 | 3/12 [00:00<00:01,  7.82it/s]"
     ]
    },
    {
     "name": "stderr",
     "output_type": "stream",
     "text": [
      "\r",
      " 33%|██████████████▋                             | 4/12 [00:00<00:01,  7.90it/s]"
     ]
    },
    {
     "name": "stderr",
     "output_type": "stream",
     "text": [
      "\r",
      " 50%|██████████████████████                      | 6/12 [00:00<00:00,  9.54it/s]"
     ]
    },
    {
     "name": "stderr",
     "output_type": "stream",
     "text": [
      "\r",
      " 67%|█████████████████████████████▎              | 8/12 [00:00<00:00,  9.69it/s]"
     ]
    },
    {
     "name": "stderr",
     "output_type": "stream",
     "text": [
      "\r",
      " 75%|█████████████████████████████████           | 9/12 [00:00<00:00,  9.43it/s]"
     ]
    },
    {
     "name": "stderr",
     "output_type": "stream",
     "text": [
      "\r",
      " 83%|███████████████████████████████████▊       | 10/12 [00:01<00:00,  8.58it/s]"
     ]
    },
    {
     "name": "stderr",
     "output_type": "stream",
     "text": [
      "\r",
      "100%|███████████████████████████████████████████| 12/12 [00:01<00:00,  9.19it/s]"
     ]
    },
    {
     "name": "stderr",
     "output_type": "stream",
     "text": [
      "\r",
      "100%|███████████████████████████████████████████| 12/12 [00:01<00:00,  8.92it/s]"
     ]
    },
    {
     "name": "stderr",
     "output_type": "stream",
     "text": [
      "\n"
     ]
    },
    {
     "data": {
      "text/plain": [
       "Index(['id', 'date', 'value'], dtype='object')"
      ]
     },
     "execution_count": 11,
     "metadata": {},
     "output_type": "execute_result"
    }
   ],
   "source": [
    "# need to call below functions in order\n",
    "series_obs_df = get_series_observations(fred_series_observations_url, series_list, api_key, obs_start, obs_stop)\n",
    "series_obs_df.columns"
   ]
  },
  {
   "cell_type": "code",
   "execution_count": 12,
   "id": "6dba0c11",
   "metadata": {
    "execution": {
     "iopub.execute_input": "2022-04-24T16:06:03.407389Z",
     "iopub.status.busy": "2022-04-24T16:06:03.407165Z",
     "iopub.status.idle": "2022-04-24T16:06:03.422417Z",
     "shell.execute_reply": "2022-04-24T16:06:03.421794Z"
    },
    "papermill": {
     "duration": 0.022628,
     "end_time": "2022-04-24T16:06:03.424584",
     "exception": false,
     "start_time": "2022-04-24T16:06:03.401956",
     "status": "completed"
    },
    "tags": []
   },
   "outputs": [
    {
     "name": "stdout",
     "output_type": "stream",
     "text": [
      "<class 'pandas.core.frame.DataFrame'>\n",
      "Int64Index: 6713 entries, 0 to 61\n",
      "Data columns (total 3 columns):\n",
      " #   Column  Non-Null Count  Dtype         \n",
      "---  ------  --------------  -----         \n",
      " 0   id      6713 non-null   object        \n",
      " 1   date    6713 non-null   datetime64[ns]\n",
      " 2   value   6500 non-null   float64       \n",
      "dtypes: datetime64[ns](1), float64(1), object(1)\n",
      "memory usage: 209.8+ KB\n"
     ]
    }
   ],
   "source": [
    "series_obs_df = clean_series_data(series_obs_df)\n",
    "series_obs_df.info()"
   ]
  },
  {
   "cell_type": "code",
   "execution_count": 13,
   "id": "b3d8b736",
   "metadata": {
    "execution": {
     "iopub.execute_input": "2022-04-24T16:06:03.435100Z",
     "iopub.status.busy": "2022-04-24T16:06:03.434871Z",
     "iopub.status.idle": "2022-04-24T16:06:03.661038Z",
     "shell.execute_reply": "2022-04-24T16:06:03.660439Z"
    },
    "papermill": {
     "duration": 0.233432,
     "end_time": "2022-04-24T16:06:03.662849",
     "exception": false,
     "start_time": "2022-04-24T16:06:03.429417",
     "status": "completed"
    },
    "tags": []
   },
   "outputs": [
    {
     "data": {
      "text/plain": [
       "Index(['CROASMIDTIER', 'VIXCLS', 'TOTALSL', 'CPIAUCSL', 'M1REAL', 'M1V',\n",
       "       'WM1NS', 'WM2NS', 'DTWEXBGS', 'SP500', 'UMCSENT', 'USSLIND'],\n",
       "      dtype='object', name='id')"
      ]
     },
     "execution_count": 13,
     "metadata": {},
     "output_type": "execute_result"
    }
   ],
   "source": [
    "series_wide_df = convert_to_wide_format(series_obs_df)\n",
    "series_wide_df = series_wide_df.fillna(method='ffill')\n",
    "series_wide_df.columns"
   ]
  },
  {
   "cell_type": "code",
   "execution_count": 14,
   "id": "f7c56c20",
   "metadata": {
    "execution": {
     "iopub.execute_input": "2022-04-24T16:06:03.670825Z",
     "iopub.status.busy": "2022-04-24T16:06:03.670602Z",
     "iopub.status.idle": "2022-04-24T16:06:03.691853Z",
     "shell.execute_reply": "2022-04-24T16:06:03.691441Z"
    },
    "papermill": {
     "duration": 0.027187,
     "end_time": "2022-04-24T16:06:03.693608",
     "exception": false,
     "start_time": "2022-04-24T16:06:03.666421",
     "status": "completed"
    },
    "tags": []
   },
   "outputs": [
    {
     "data": {
      "text/html": [
       "<div>\n",
       "<style scoped>\n",
       "    .dataframe tbody tr th:only-of-type {\n",
       "        vertical-align: middle;\n",
       "    }\n",
       "\n",
       "    .dataframe tbody tr th {\n",
       "        vertical-align: top;\n",
       "    }\n",
       "\n",
       "    .dataframe thead th {\n",
       "        text-align: right;\n",
       "    }\n",
       "</style>\n",
       "<table border=\"1\" class=\"dataframe\">\n",
       "  <thead>\n",
       "    <tr style=\"text-align: right;\">\n",
       "      <th>id</th>\n",
       "      <th>CROASMIDTIER</th>\n",
       "      <th>VIXCLS</th>\n",
       "      <th>TOTALSL</th>\n",
       "      <th>CPIAUCSL</th>\n",
       "      <th>M1REAL</th>\n",
       "      <th>M1V</th>\n",
       "      <th>WM1NS</th>\n",
       "      <th>WM2NS</th>\n",
       "      <th>DTWEXBGS</th>\n",
       "      <th>SP500</th>\n",
       "      <th>UMCSENT</th>\n",
       "      <th>USSLIND</th>\n",
       "    </tr>\n",
       "    <tr>\n",
       "      <th>date</th>\n",
       "      <th></th>\n",
       "      <th></th>\n",
       "      <th></th>\n",
       "      <th></th>\n",
       "      <th></th>\n",
       "      <th></th>\n",
       "      <th></th>\n",
       "      <th></th>\n",
       "      <th></th>\n",
       "      <th></th>\n",
       "      <th></th>\n",
       "      <th></th>\n",
       "    </tr>\n",
       "  </thead>\n",
       "  <tbody>\n",
       "    <tr>\n",
       "      <th>2021-11-26</th>\n",
       "      <td>324.308697</td>\n",
       "      <td>28.62</td>\n",
       "      <td>4411.21508</td>\n",
       "      <td>278.524</td>\n",
       "      <td>7282.5</td>\n",
       "      <td>1.185</td>\n",
       "      <td>20297.2</td>\n",
       "      <td>21416.5</td>\n",
       "      <td>116.5112</td>\n",
       "      <td>4594.62</td>\n",
       "      <td>67.4</td>\n",
       "      <td>1.57</td>\n",
       "    </tr>\n",
       "    <tr>\n",
       "      <th>2021-11-29</th>\n",
       "      <td>324.308697</td>\n",
       "      <td>22.96</td>\n",
       "      <td>4411.21508</td>\n",
       "      <td>278.524</td>\n",
       "      <td>7282.5</td>\n",
       "      <td>1.185</td>\n",
       "      <td>20324.5</td>\n",
       "      <td>21445.3</td>\n",
       "      <td>116.5858</td>\n",
       "      <td>4655.27</td>\n",
       "      <td>67.4</td>\n",
       "      <td>1.57</td>\n",
       "    </tr>\n",
       "    <tr>\n",
       "      <th>2021-11-30</th>\n",
       "      <td>324.308697</td>\n",
       "      <td>27.19</td>\n",
       "      <td>4411.21508</td>\n",
       "      <td>278.524</td>\n",
       "      <td>7282.5</td>\n",
       "      <td>1.185</td>\n",
       "      <td>20324.5</td>\n",
       "      <td>21445.3</td>\n",
       "      <td>116.2178</td>\n",
       "      <td>4567.00</td>\n",
       "      <td>67.4</td>\n",
       "      <td>1.57</td>\n",
       "    </tr>\n",
       "    <tr>\n",
       "      <th>2021-12-01</th>\n",
       "      <td>333.873647</td>\n",
       "      <td>31.12</td>\n",
       "      <td>4431.89944</td>\n",
       "      <td>280.126</td>\n",
       "      <td>7296.5</td>\n",
       "      <td>1.185</td>\n",
       "      <td>20324.5</td>\n",
       "      <td>21445.3</td>\n",
       "      <td>115.8992</td>\n",
       "      <td>4513.04</td>\n",
       "      <td>70.6</td>\n",
       "      <td>1.57</td>\n",
       "    </tr>\n",
       "    <tr>\n",
       "      <th>2021-12-02</th>\n",
       "      <td>333.873647</td>\n",
       "      <td>27.95</td>\n",
       "      <td>4431.89944</td>\n",
       "      <td>280.126</td>\n",
       "      <td>7296.5</td>\n",
       "      <td>1.185</td>\n",
       "      <td>20324.5</td>\n",
       "      <td>21445.3</td>\n",
       "      <td>116.0314</td>\n",
       "      <td>4577.10</td>\n",
       "      <td>70.6</td>\n",
       "      <td>1.57</td>\n",
       "    </tr>\n",
       "    <tr>\n",
       "      <th>2021-12-03</th>\n",
       "      <td>333.873647</td>\n",
       "      <td>30.67</td>\n",
       "      <td>4431.89944</td>\n",
       "      <td>280.126</td>\n",
       "      <td>7296.5</td>\n",
       "      <td>1.185</td>\n",
       "      <td>20324.5</td>\n",
       "      <td>21445.3</td>\n",
       "      <td>116.2445</td>\n",
       "      <td>4538.43</td>\n",
       "      <td>70.6</td>\n",
       "      <td>1.57</td>\n",
       "    </tr>\n",
       "    <tr>\n",
       "      <th>2021-12-06</th>\n",
       "      <td>333.873647</td>\n",
       "      <td>27.18</td>\n",
       "      <td>4431.89944</td>\n",
       "      <td>280.126</td>\n",
       "      <td>7296.5</td>\n",
       "      <td>1.185</td>\n",
       "      <td>20478.1</td>\n",
       "      <td>21589.8</td>\n",
       "      <td>116.1674</td>\n",
       "      <td>4591.67</td>\n",
       "      <td>70.6</td>\n",
       "      <td>1.57</td>\n",
       "    </tr>\n",
       "    <tr>\n",
       "      <th>2021-12-07</th>\n",
       "      <td>333.873647</td>\n",
       "      <td>21.89</td>\n",
       "      <td>4431.89944</td>\n",
       "      <td>280.126</td>\n",
       "      <td>7296.5</td>\n",
       "      <td>1.185</td>\n",
       "      <td>20478.1</td>\n",
       "      <td>21589.8</td>\n",
       "      <td>115.8815</td>\n",
       "      <td>4686.75</td>\n",
       "      <td>70.6</td>\n",
       "      <td>1.57</td>\n",
       "    </tr>\n",
       "    <tr>\n",
       "      <th>2021-12-08</th>\n",
       "      <td>333.873647</td>\n",
       "      <td>19.90</td>\n",
       "      <td>4431.89944</td>\n",
       "      <td>280.126</td>\n",
       "      <td>7296.5</td>\n",
       "      <td>1.185</td>\n",
       "      <td>20478.1</td>\n",
       "      <td>21589.8</td>\n",
       "      <td>115.4694</td>\n",
       "      <td>4701.21</td>\n",
       "      <td>70.6</td>\n",
       "      <td>1.57</td>\n",
       "    </tr>\n",
       "    <tr>\n",
       "      <th>2021-12-09</th>\n",
       "      <td>333.873647</td>\n",
       "      <td>21.58</td>\n",
       "      <td>4431.89944</td>\n",
       "      <td>280.126</td>\n",
       "      <td>7296.5</td>\n",
       "      <td>1.185</td>\n",
       "      <td>20478.1</td>\n",
       "      <td>21589.8</td>\n",
       "      <td>115.8058</td>\n",
       "      <td>4667.45</td>\n",
       "      <td>70.6</td>\n",
       "      <td>1.57</td>\n",
       "    </tr>\n",
       "    <tr>\n",
       "      <th>2021-12-10</th>\n",
       "      <td>333.873647</td>\n",
       "      <td>18.69</td>\n",
       "      <td>4431.89944</td>\n",
       "      <td>280.126</td>\n",
       "      <td>7296.5</td>\n",
       "      <td>1.185</td>\n",
       "      <td>20478.1</td>\n",
       "      <td>21589.8</td>\n",
       "      <td>115.5967</td>\n",
       "      <td>4712.02</td>\n",
       "      <td>70.6</td>\n",
       "      <td>1.57</td>\n",
       "    </tr>\n",
       "    <tr>\n",
       "      <th>2021-12-13</th>\n",
       "      <td>333.873647</td>\n",
       "      <td>20.31</td>\n",
       "      <td>4431.89944</td>\n",
       "      <td>280.126</td>\n",
       "      <td>7296.5</td>\n",
       "      <td>1.185</td>\n",
       "      <td>20529.6</td>\n",
       "      <td>21647.1</td>\n",
       "      <td>115.8625</td>\n",
       "      <td>4668.97</td>\n",
       "      <td>70.6</td>\n",
       "      <td>1.57</td>\n",
       "    </tr>\n",
       "    <tr>\n",
       "      <th>2021-12-14</th>\n",
       "      <td>333.873647</td>\n",
       "      <td>21.89</td>\n",
       "      <td>4431.89944</td>\n",
       "      <td>280.126</td>\n",
       "      <td>7296.5</td>\n",
       "      <td>1.185</td>\n",
       "      <td>20529.6</td>\n",
       "      <td>21647.1</td>\n",
       "      <td>116.2524</td>\n",
       "      <td>4634.09</td>\n",
       "      <td>70.6</td>\n",
       "      <td>1.57</td>\n",
       "    </tr>\n",
       "    <tr>\n",
       "      <th>2021-12-15</th>\n",
       "      <td>333.873647</td>\n",
       "      <td>19.29</td>\n",
       "      <td>4431.89944</td>\n",
       "      <td>280.126</td>\n",
       "      <td>7296.5</td>\n",
       "      <td>1.185</td>\n",
       "      <td>20529.6</td>\n",
       "      <td>21647.1</td>\n",
       "      <td>116.4299</td>\n",
       "      <td>4709.85</td>\n",
       "      <td>70.6</td>\n",
       "      <td>1.57</td>\n",
       "    </tr>\n",
       "    <tr>\n",
       "      <th>2021-12-16</th>\n",
       "      <td>333.873647</td>\n",
       "      <td>20.57</td>\n",
       "      <td>4431.89944</td>\n",
       "      <td>280.126</td>\n",
       "      <td>7296.5</td>\n",
       "      <td>1.185</td>\n",
       "      <td>20529.6</td>\n",
       "      <td>21647.1</td>\n",
       "      <td>115.7307</td>\n",
       "      <td>4668.67</td>\n",
       "      <td>70.6</td>\n",
       "      <td>1.57</td>\n",
       "    </tr>\n",
       "    <tr>\n",
       "      <th>2021-12-17</th>\n",
       "      <td>333.873647</td>\n",
       "      <td>21.57</td>\n",
       "      <td>4431.89944</td>\n",
       "      <td>280.126</td>\n",
       "      <td>7296.5</td>\n",
       "      <td>1.185</td>\n",
       "      <td>20529.6</td>\n",
       "      <td>21647.1</td>\n",
       "      <td>115.8123</td>\n",
       "      <td>4620.64</td>\n",
       "      <td>70.6</td>\n",
       "      <td>1.57</td>\n",
       "    </tr>\n",
       "    <tr>\n",
       "      <th>2021-12-20</th>\n",
       "      <td>333.873647</td>\n",
       "      <td>22.87</td>\n",
       "      <td>4431.89944</td>\n",
       "      <td>280.126</td>\n",
       "      <td>7296.5</td>\n",
       "      <td>1.185</td>\n",
       "      <td>20654.7</td>\n",
       "      <td>21774.7</td>\n",
       "      <td>116.0211</td>\n",
       "      <td>4568.02</td>\n",
       "      <td>70.6</td>\n",
       "      <td>1.57</td>\n",
       "    </tr>\n",
       "    <tr>\n",
       "      <th>2021-12-21</th>\n",
       "      <td>333.873647</td>\n",
       "      <td>21.01</td>\n",
       "      <td>4431.89944</td>\n",
       "      <td>280.126</td>\n",
       "      <td>7296.5</td>\n",
       "      <td>1.185</td>\n",
       "      <td>20654.7</td>\n",
       "      <td>21774.7</td>\n",
       "      <td>116.1256</td>\n",
       "      <td>4649.23</td>\n",
       "      <td>70.6</td>\n",
       "      <td>1.57</td>\n",
       "    </tr>\n",
       "    <tr>\n",
       "      <th>2021-12-22</th>\n",
       "      <td>333.873647</td>\n",
       "      <td>18.63</td>\n",
       "      <td>4431.89944</td>\n",
       "      <td>280.126</td>\n",
       "      <td>7296.5</td>\n",
       "      <td>1.185</td>\n",
       "      <td>20654.7</td>\n",
       "      <td>21774.7</td>\n",
       "      <td>115.7657</td>\n",
       "      <td>4696.56</td>\n",
       "      <td>70.6</td>\n",
       "      <td>1.57</td>\n",
       "    </tr>\n",
       "    <tr>\n",
       "      <th>2021-12-23</th>\n",
       "      <td>333.873647</td>\n",
       "      <td>17.96</td>\n",
       "      <td>4431.89944</td>\n",
       "      <td>280.126</td>\n",
       "      <td>7296.5</td>\n",
       "      <td>1.185</td>\n",
       "      <td>20654.7</td>\n",
       "      <td>21774.7</td>\n",
       "      <td>115.5575</td>\n",
       "      <td>4725.79</td>\n",
       "      <td>70.6</td>\n",
       "      <td>1.57</td>\n",
       "    </tr>\n",
       "    <tr>\n",
       "      <th>2021-12-24</th>\n",
       "      <td>333.873647</td>\n",
       "      <td>17.96</td>\n",
       "      <td>4431.89944</td>\n",
       "      <td>280.126</td>\n",
       "      <td>7296.5</td>\n",
       "      <td>1.185</td>\n",
       "      <td>20654.7</td>\n",
       "      <td>21774.7</td>\n",
       "      <td>115.5575</td>\n",
       "      <td>4725.79</td>\n",
       "      <td>70.6</td>\n",
       "      <td>1.57</td>\n",
       "    </tr>\n",
       "    <tr>\n",
       "      <th>2021-12-27</th>\n",
       "      <td>333.873647</td>\n",
       "      <td>17.68</td>\n",
       "      <td>4431.89944</td>\n",
       "      <td>280.126</td>\n",
       "      <td>7296.5</td>\n",
       "      <td>1.185</td>\n",
       "      <td>20688.6</td>\n",
       "      <td>21823.4</td>\n",
       "      <td>115.4964</td>\n",
       "      <td>4791.19</td>\n",
       "      <td>70.6</td>\n",
       "      <td>1.57</td>\n",
       "    </tr>\n",
       "    <tr>\n",
       "      <th>2021-12-28</th>\n",
       "      <td>333.873647</td>\n",
       "      <td>17.54</td>\n",
       "      <td>4431.89944</td>\n",
       "      <td>280.126</td>\n",
       "      <td>7296.5</td>\n",
       "      <td>1.185</td>\n",
       "      <td>20688.6</td>\n",
       "      <td>21823.4</td>\n",
       "      <td>115.4497</td>\n",
       "      <td>4786.35</td>\n",
       "      <td>70.6</td>\n",
       "      <td>1.57</td>\n",
       "    </tr>\n",
       "    <tr>\n",
       "      <th>2021-12-29</th>\n",
       "      <td>333.873647</td>\n",
       "      <td>16.95</td>\n",
       "      <td>4431.89944</td>\n",
       "      <td>280.126</td>\n",
       "      <td>7296.5</td>\n",
       "      <td>1.185</td>\n",
       "      <td>20688.6</td>\n",
       "      <td>21823.4</td>\n",
       "      <td>115.3964</td>\n",
       "      <td>4793.06</td>\n",
       "      <td>70.6</td>\n",
       "      <td>1.57</td>\n",
       "    </tr>\n",
       "    <tr>\n",
       "      <th>2021-12-30</th>\n",
       "      <td>333.873647</td>\n",
       "      <td>17.33</td>\n",
       "      <td>4431.89944</td>\n",
       "      <td>280.126</td>\n",
       "      <td>7296.5</td>\n",
       "      <td>1.185</td>\n",
       "      <td>20688.6</td>\n",
       "      <td>21823.4</td>\n",
       "      <td>115.3163</td>\n",
       "      <td>4778.73</td>\n",
       "      <td>70.6</td>\n",
       "      <td>1.57</td>\n",
       "    </tr>\n",
       "  </tbody>\n",
       "</table>\n",
       "</div>"
      ],
      "text/plain": [
       "id          CROASMIDTIER  VIXCLS     TOTALSL  CPIAUCSL  M1REAL    M1V  \\\n",
       "date                                                                    \n",
       "2021-11-26    324.308697   28.62  4411.21508   278.524  7282.5  1.185   \n",
       "2021-11-29    324.308697   22.96  4411.21508   278.524  7282.5  1.185   \n",
       "2021-11-30    324.308697   27.19  4411.21508   278.524  7282.5  1.185   \n",
       "2021-12-01    333.873647   31.12  4431.89944   280.126  7296.5  1.185   \n",
       "2021-12-02    333.873647   27.95  4431.89944   280.126  7296.5  1.185   \n",
       "2021-12-03    333.873647   30.67  4431.89944   280.126  7296.5  1.185   \n",
       "2021-12-06    333.873647   27.18  4431.89944   280.126  7296.5  1.185   \n",
       "2021-12-07    333.873647   21.89  4431.89944   280.126  7296.5  1.185   \n",
       "2021-12-08    333.873647   19.90  4431.89944   280.126  7296.5  1.185   \n",
       "2021-12-09    333.873647   21.58  4431.89944   280.126  7296.5  1.185   \n",
       "2021-12-10    333.873647   18.69  4431.89944   280.126  7296.5  1.185   \n",
       "2021-12-13    333.873647   20.31  4431.89944   280.126  7296.5  1.185   \n",
       "2021-12-14    333.873647   21.89  4431.89944   280.126  7296.5  1.185   \n",
       "2021-12-15    333.873647   19.29  4431.89944   280.126  7296.5  1.185   \n",
       "2021-12-16    333.873647   20.57  4431.89944   280.126  7296.5  1.185   \n",
       "2021-12-17    333.873647   21.57  4431.89944   280.126  7296.5  1.185   \n",
       "2021-12-20    333.873647   22.87  4431.89944   280.126  7296.5  1.185   \n",
       "2021-12-21    333.873647   21.01  4431.89944   280.126  7296.5  1.185   \n",
       "2021-12-22    333.873647   18.63  4431.89944   280.126  7296.5  1.185   \n",
       "2021-12-23    333.873647   17.96  4431.89944   280.126  7296.5  1.185   \n",
       "2021-12-24    333.873647   17.96  4431.89944   280.126  7296.5  1.185   \n",
       "2021-12-27    333.873647   17.68  4431.89944   280.126  7296.5  1.185   \n",
       "2021-12-28    333.873647   17.54  4431.89944   280.126  7296.5  1.185   \n",
       "2021-12-29    333.873647   16.95  4431.89944   280.126  7296.5  1.185   \n",
       "2021-12-30    333.873647   17.33  4431.89944   280.126  7296.5  1.185   \n",
       "\n",
       "id            WM1NS    WM2NS  DTWEXBGS    SP500  UMCSENT  USSLIND  \n",
       "date                                                               \n",
       "2021-11-26  20297.2  21416.5  116.5112  4594.62     67.4     1.57  \n",
       "2021-11-29  20324.5  21445.3  116.5858  4655.27     67.4     1.57  \n",
       "2021-11-30  20324.5  21445.3  116.2178  4567.00     67.4     1.57  \n",
       "2021-12-01  20324.5  21445.3  115.8992  4513.04     70.6     1.57  \n",
       "2021-12-02  20324.5  21445.3  116.0314  4577.10     70.6     1.57  \n",
       "2021-12-03  20324.5  21445.3  116.2445  4538.43     70.6     1.57  \n",
       "2021-12-06  20478.1  21589.8  116.1674  4591.67     70.6     1.57  \n",
       "2021-12-07  20478.1  21589.8  115.8815  4686.75     70.6     1.57  \n",
       "2021-12-08  20478.1  21589.8  115.4694  4701.21     70.6     1.57  \n",
       "2021-12-09  20478.1  21589.8  115.8058  4667.45     70.6     1.57  \n",
       "2021-12-10  20478.1  21589.8  115.5967  4712.02     70.6     1.57  \n",
       "2021-12-13  20529.6  21647.1  115.8625  4668.97     70.6     1.57  \n",
       "2021-12-14  20529.6  21647.1  116.2524  4634.09     70.6     1.57  \n",
       "2021-12-15  20529.6  21647.1  116.4299  4709.85     70.6     1.57  \n",
       "2021-12-16  20529.6  21647.1  115.7307  4668.67     70.6     1.57  \n",
       "2021-12-17  20529.6  21647.1  115.8123  4620.64     70.6     1.57  \n",
       "2021-12-20  20654.7  21774.7  116.0211  4568.02     70.6     1.57  \n",
       "2021-12-21  20654.7  21774.7  116.1256  4649.23     70.6     1.57  \n",
       "2021-12-22  20654.7  21774.7  115.7657  4696.56     70.6     1.57  \n",
       "2021-12-23  20654.7  21774.7  115.5575  4725.79     70.6     1.57  \n",
       "2021-12-24  20654.7  21774.7  115.5575  4725.79     70.6     1.57  \n",
       "2021-12-27  20688.6  21823.4  115.4964  4791.19     70.6     1.57  \n",
       "2021-12-28  20688.6  21823.4  115.4497  4786.35     70.6     1.57  \n",
       "2021-12-29  20688.6  21823.4  115.3964  4793.06     70.6     1.57  \n",
       "2021-12-30  20688.6  21823.4  115.3163  4778.73     70.6     1.57  "
      ]
     },
     "execution_count": 14,
     "metadata": {},
     "output_type": "execute_result"
    }
   ],
   "source": [
    "series_wide_df.tail(25)"
   ]
  },
  {
   "cell_type": "code",
   "execution_count": 15,
   "id": "682c7c6d",
   "metadata": {
    "execution": {
     "iopub.execute_input": "2022-04-24T16:06:03.701904Z",
     "iopub.status.busy": "2022-04-24T16:06:03.701646Z",
     "iopub.status.idle": "2022-04-24T16:06:03.705790Z",
     "shell.execute_reply": "2022-04-24T16:06:03.705149Z"
    },
    "papermill": {
     "duration": 0.010805,
     "end_time": "2022-04-24T16:06:03.708058",
     "exception": false,
     "start_time": "2022-04-24T16:06:03.697253",
     "status": "completed"
    },
    "tags": []
   },
   "outputs": [
    {
     "name": "stdout",
     "output_type": "stream",
     "text": [
      "Writing to /Users/aiujdm2/market_watch/output/data/raw/fred_series_data.csv \n",
      " /Users/aiujdm2/market_watch/output/data/raw/fred_series_info.csv\n"
     ]
    }
   ],
   "source": [
    "output_file_path = product['data']\n",
    "parent_file_path = Path(output_file_path).parent\n",
    "series_info_file_path = str(parent_file_path) + \"/fred_series_info.csv\"\n",
    "print(f\"Writing to {output_file_path} \\n {series_info_file_path}\")"
   ]
  },
  {
   "cell_type": "code",
   "execution_count": 16,
   "id": "1cb5f4af",
   "metadata": {
    "execution": {
     "iopub.execute_input": "2022-04-24T16:06:03.717195Z",
     "iopub.status.busy": "2022-04-24T16:06:03.716964Z",
     "iopub.status.idle": "2022-04-24T16:06:03.747051Z",
     "shell.execute_reply": "2022-04-24T16:06:03.746488Z"
    },
    "lines_to_next_cell": 2,
    "papermill": {
     "duration": 0.036308,
     "end_time": "2022-04-24T16:06:03.748623",
     "exception": false,
     "start_time": "2022-04-24T16:06:03.712315",
     "status": "completed"
    },
    "tags": []
   },
   "outputs": [],
   "source": [
    "series_wide_df.to_csv(output_file_path)\n",
    "series_info_df.to_csv(series_info_file_path)"
   ]
  },
  {
   "cell_type": "code",
   "execution_count": null,
   "id": "7a849db4",
   "metadata": {
    "papermill": {
     "duration": 0.004519,
     "end_time": "2022-04-24T16:06:03.757336",
     "exception": false,
     "start_time": "2022-04-24T16:06:03.752817",
     "status": "completed"
    },
    "tags": []
   },
   "outputs": [],
   "source": []
  }
 ],
 "metadata": {
  "jupytext": {
   "text_representation": {
    "extension": ".py",
    "format_name": "percent",
    "format_version": "1.3",
    "jupytext_version": "1.13.7"
   }
  },
  "kernelspec": {
   "display_name": "Python 3 (ipykernel)",
   "language": "python",
   "name": "python3"
  },
  "language_info": {
   "codemirror_mode": {
    "name": "ipython",
    "version": 3
   },
   "file_extension": ".py",
   "mimetype": "text/x-python",
   "name": "python",
   "nbconvert_exporter": "python",
   "pygments_lexer": "ipython3",
   "version": "3.9.10"
  },
  "papermill": {
   "duration": 7.223054,
   "end_time": "2022-04-24T16:06:06.381701",
   "exception": null,
   "input_path": "/var/folders/b0/4tc1nfbd6z7_vhx4nxcj2n91c0l9h6/T/tmpmu4wva68.ipynb",
   "output_path": "/Users/aiujdm2/market_watch/output/notebooks/fetch_fred.ipynb",
   "parameters": {
    "api_key": "ebc6d771a26e9b8009c65cb0ab76ba3d",
    "fred_series_info_url": "https://api.stlouisfed.org/fred/series",
    "fred_series_observations_url": "https://api.stlouisfed.org/fred/series/observations",
    "obs_start": "2015-01-01",
    "obs_stop": "2021-12-30",
    "product": {
     "data": "/Users/aiujdm2/market_watch/output/data/raw/fred_series_data.csv",
     "nb": "/Users/aiujdm2/market_watch/output/notebooks/fetch_fred.ipynb"
    },
    "series_list": [
     "CROASMIDTIER",
     "VIXCLS",
     "TOTALSL",
     "CPIAUCSL",
     "M1REAL",
     "M1V",
     "WM1NS",
     "WM2NS",
     "DTWEXBGS",
     "SP500",
     "UMCSENT",
     "USSLIND"
    ],
    "units": "lin"
   },
   "start_time": "2022-04-24T16:05:59.158647"
  }
 },
 "nbformat": 4,
 "nbformat_minor": 5
}