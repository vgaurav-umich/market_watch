{
 "cells": [
  {
   "cell_type": "code",
   "execution_count": 1,
   "id": "de0c47c4",
   "metadata": {
    "execution": {
     "iopub.execute_input": "2022-04-24T16:45:32.530364Z",
     "iopub.status.busy": "2022-04-24T16:45:32.530037Z",
     "iopub.status.idle": "2022-04-24T16:45:32.538319Z",
     "shell.execute_reply": "2022-04-24T16:45:32.537767Z"
    },
    "lines_to_next_cell": 2,
    "papermill": {
     "duration": 0.015737,
     "end_time": "2022-04-24T16:45:32.540364",
     "exception": false,
     "start_time": "2022-04-24T16:45:32.524627",
     "status": "completed"
    },
    "tags": [
     "parameters"
    ]
   },
   "outputs": [],
   "source": [
    "# If this task has dependencies, list them them here\n",
    "# (e.g. upstream = ['some_task']), otherwise leave as None.\n",
    "upstream = ['total_org_count']\n",
    "\n",
    "# This is a placeholder, leave it as None\n",
    "product = None"
   ]
  },
  {
   "cell_type": "code",
   "execution_count": 2,
   "id": "744f2827",
   "metadata": {
    "execution": {
     "iopub.execute_input": "2022-04-24T16:45:32.546636Z",
     "iopub.status.busy": "2022-04-24T16:45:32.546416Z",
     "iopub.status.idle": "2022-04-24T16:45:32.550818Z",
     "shell.execute_reply": "2022-04-24T16:45:32.550236Z"
    },
    "papermill": {
     "duration": 0.009377,
     "end_time": "2022-04-24T16:45:32.552754",
     "exception": false,
     "start_time": "2022-04-24T16:45:32.543377",
     "status": "completed"
    },
    "tags": [
     "injected-parameters"
    ]
   },
   "outputs": [],
   "source": [
    "# Parameters\n",
    "sample_pct = 1\n",
    "yfinance_rolling_window = 1000\n",
    "yahoo_fields = [\"Open\", \"Close\", \"High\", \"Low\", \"Volume\"]\n",
    "snp_filter = False\n",
    "upstream = {\n",
    "    \"total_org_count\": {\n",
    "        \"nb\": \"/Users/aiujdm2/market_watch/output/notebooks/total_org_count.ipynb\",\n",
    "        \"data\": \"/Users/aiujdm2/market_watch/output/data/interim/total_org_counts.csv\",\n",
    "    }\n",
    "}\n",
    "product = {\n",
    "    \"nb\": \"/Users/aiujdm2/market_watch/output/notebooks/fetch_yfinance_data.ipynb\",\n",
    "    \"data\": \"/Users/aiujdm2/market_watch/output/data/raw/yfinance_ticker_data-raw.xlsx\",\n",
    "}\n"
   ]
  },
  {
   "cell_type": "code",
   "execution_count": 3,
   "id": "95587c6e",
   "metadata": {
    "execution": {
     "iopub.execute_input": "2022-04-24T16:45:32.558345Z",
     "iopub.status.busy": "2022-04-24T16:45:32.558145Z",
     "iopub.status.idle": "2022-04-24T16:45:33.606351Z",
     "shell.execute_reply": "2022-04-24T16:45:33.605938Z"
    },
    "lines_to_next_cell": 2,
    "papermill": {
     "duration": 1.053114,
     "end_time": "2022-04-24T16:45:33.608217",
     "exception": false,
     "start_time": "2022-04-24T16:45:32.555103",
     "status": "completed"
    },
    "tags": []
   },
   "outputs": [
    {
     "name": "stderr",
     "output_type": "stream",
     "text": [
      "[nltk_data] Downloading package wordnet to /Users/aiujdm2/nltk_data...\n",
      "[nltk_data]   Package wordnet is already up-to-date!\n",
      "[nltk_data] Downloading package stopwords to\n",
      "[nltk_data]     /Users/aiujdm2/nltk_data...\n",
      "[nltk_data]   Package stopwords is already up-to-date!\n",
      "[nltk_data] Downloading package omw-1.4 to /Users/aiujdm2/nltk_data...\n",
      "[nltk_data]   Package omw-1.4 is already up-to-date!\n",
      "/Users/aiujdm2/.local/share/virtualenvs/market_watch-dtlP-L11/lib/python3.9/site-packages/fuzzywuzzy/fuzz.py:11: UserWarning: Using slow pure-python SequenceMatcher. Install python-Levenshtein to remove this warning\n",
      "  warnings.warn('Using slow pure-python SequenceMatcher. Install python-Levenshtein to remove this warning')\n"
     ]
    }
   ],
   "source": [
    "# your code here...\n",
    "import yfinance as yf\n",
    "import pandas as pd\n",
    "from src import utils\n",
    "from tqdm import tqdm\n",
    "import time\n",
    "from pathlib import Path\n",
    "\n",
    "pd.set_option('display.float_format',  '{:,.2f}'.format)"
   ]
  },
  {
   "cell_type": "code",
   "execution_count": 4,
   "id": "b39cc6b7",
   "metadata": {
    "execution": {
     "iopub.execute_input": "2022-04-24T16:45:33.613116Z",
     "iopub.status.busy": "2022-04-24T16:45:33.612964Z",
     "iopub.status.idle": "2022-04-24T16:45:33.623055Z",
     "shell.execute_reply": "2022-04-24T16:45:33.622623Z"
    },
    "papermill": {
     "duration": 0.014415,
     "end_time": "2022-04-24T16:45:33.624691",
     "exception": false,
     "start_time": "2022-04-24T16:45:33.610276",
     "status": "completed"
    },
    "tags": []
   },
   "outputs": [
    {
     "name": "stdout",
     "output_type": "stream",
     "text": [
      "<class 'pandas.core.frame.DataFrame'>\n",
      "Index: 396 entries, tesla to lincoln electric\n",
      "Data columns (total 2 columns):\n",
      " #   Column  Non-Null Count  Dtype \n",
      "---  ------  --------------  ----- \n",
      " 0   count   396 non-null    int64 \n",
      " 1   ticker  396 non-null    object\n",
      "dtypes: int64(1), object(1)\n",
      "memory usage: 9.3+ KB\n"
     ]
    }
   ],
   "source": [
    "securities_file_path = upstream['total_org_count']['data']\n",
    "\n",
    "securities_df = pd.read_csv(securities_file_path, index_col=0)\n",
    "securities_df.info()"
   ]
  },
  {
   "cell_type": "code",
   "execution_count": 5,
   "id": "2197f88a",
   "metadata": {
    "execution": {
     "iopub.execute_input": "2022-04-24T16:45:33.629330Z",
     "iopub.status.busy": "2022-04-24T16:45:33.629164Z",
     "iopub.status.idle": "2022-04-24T16:45:33.631956Z",
     "shell.execute_reply": "2022-04-24T16:45:33.631515Z"
    },
    "papermill": {
     "duration": 0.006764,
     "end_time": "2022-04-24T16:45:33.633363",
     "exception": false,
     "start_time": "2022-04-24T16:45:33.626599",
     "status": "completed"
    },
    "tags": []
   },
   "outputs": [],
   "source": [
    "ticker_names = securities_df.ticker.to_list()"
   ]
  },
  {
   "cell_type": "code",
   "execution_count": 6,
   "id": "0fd83f7a",
   "metadata": {
    "execution": {
     "iopub.execute_input": "2022-04-24T16:45:33.637898Z",
     "iopub.status.busy": "2022-04-24T16:45:33.637754Z",
     "iopub.status.idle": "2022-04-24T16:45:33.640884Z",
     "shell.execute_reply": "2022-04-24T16:45:33.640404Z"
    },
    "papermill": {
     "duration": 0.007156,
     "end_time": "2022-04-24T16:45:33.642401",
     "exception": false,
     "start_time": "2022-04-24T16:45:33.635245",
     "status": "completed"
    },
    "tags": []
   },
   "outputs": [],
   "source": [
    "start_date = utils.get_start_date(yfinance_rolling_window)\n",
    "start_date = utils.general_date_format(start_date)"
   ]
  },
  {
   "cell_type": "code",
   "execution_count": 7,
   "id": "ff2686c1",
   "metadata": {
    "execution": {
     "iopub.execute_input": "2022-04-24T16:45:33.647139Z",
     "iopub.status.busy": "2022-04-24T16:45:33.646943Z",
     "iopub.status.idle": "2022-04-24T16:45:48.392245Z",
     "shell.execute_reply": "2022-04-24T16:45:48.391520Z"
    },
    "lines_to_next_cell": 2,
    "papermill": {
     "duration": 14.749875,
     "end_time": "2022-04-24T16:45:48.394194",
     "exception": false,
     "start_time": "2022-04-24T16:45:33.644319",
     "status": "completed"
    },
    "tags": []
   },
   "outputs": [
    {
     "name": "stdout",
     "output_type": "stream",
     "text": [
      "\r",
      "[                       0%                       ]"
     ]
    },
    {
     "name": "stdout",
     "output_type": "stream",
     "text": [
      "\r",
      "[                       1%                       ]  2 of 396 completed"
     ]
    },
    {
     "name": "stdout",
     "output_type": "stream",
     "text": [
      "\r",
      "[                       1%                       ]  2 of 396 completed"
     ]
    },
    {
     "name": "stdout",
     "output_type": "stream",
     "text": [
      "\r",
      "[                       1%                       ]  4 of 396 completed"
     ]
    },
    {
     "name": "stdout",
     "output_type": "stream",
     "text": [
      "\r",
      "[                       1%                       ]  5 of 396 completed"
     ]
    },
    {
     "name": "stdout",
     "output_type": "stream",
     "text": [
      "\r",
      "[*                      2%                       ]  6 of 396 completed"
     ]
    },
    {
     "name": "stdout",
     "output_type": "stream",
     "text": [
      "\r",
      "[*                      2%                       ]  6 of 396 completed"
     ]
    },
    {
     "name": "stdout",
     "output_type": "stream",
     "text": [
      "\r",
      "[*                      2%                       ]  8 of 396 completed"
     ]
    },
    {
     "name": "stdout",
     "output_type": "stream",
     "text": [
      "\r",
      "[*                      2%                       ]  8 of 396 completed\r",
      "[*                      2%                       ]  8 of 396 completed\r",
      "[*                      2%                       ]  8 of 396 completed"
     ]
    },
    {
     "name": "stdout",
     "output_type": "stream",
     "text": [
      "\r",
      "[*                      3%                       ]  12 of 396 completed"
     ]
    },
    {
     "name": "stdout",
     "output_type": "stream",
     "text": [
      "\r",
      "[*                      3%                       ]  13 of 396 completed"
     ]
    },
    {
     "name": "stdout",
     "output_type": "stream",
     "text": [
      "\r",
      "[**                     4%                       ]  14 of 396 completed"
     ]
    },
    {
     "name": "stdout",
     "output_type": "stream",
     "text": [
      "\r",
      "[**                     4%                       ]  14 of 396 completed"
     ]
    },
    {
     "name": "stdout",
     "output_type": "stream",
     "text": [
      "\r",
      "[**                     4%                       ]  16 of 396 completed"
     ]
    },
    {
     "name": "stdout",
     "output_type": "stream",
     "text": [
      "\r",
      "[**                     4%                       ]  17 of 396 completed"
     ]
    },
    {
     "name": "stdout",
     "output_type": "stream",
     "text": [
      "\r",
      "[**                     5%                       ]  18 of 396 completed"
     ]
    },
    {
     "name": "stdout",
     "output_type": "stream",
     "text": [
      "\r",
      "[**                     5%                       ]  18 of 396 completed"
     ]
    },
    {
     "name": "stdout",
     "output_type": "stream",
     "text": [
      "\r",
      "[**                     5%                       ]  18 of 396 completed"
     ]
    },
    {
     "name": "stdout",
     "output_type": "stream",
     "text": [
      "\r",
      "[**                     5%                       ]  21 of 396 completed\r",
      "[**                     5%                       ]  21 of 396 completed"
     ]
    },
    {
     "name": "stdout",
     "output_type": "stream",
     "text": [
      "\r",
      "[***                    6%                       ]  23 of 396 completed\r",
      "[***                    6%                       ]  23 of 396 completed"
     ]
    },
    {
     "name": "stdout",
     "output_type": "stream",
     "text": [
      "\r",
      "[***                    6%                       ]  25 of 396 completed"
     ]
    },
    {
     "name": "stdout",
     "output_type": "stream",
     "text": [
      "\r",
      "[***                    7%                       ]  26 of 396 completed"
     ]
    },
    {
     "name": "stdout",
     "output_type": "stream",
     "text": [
      "\r",
      "[***                    7%                       ]  27 of 396 completed"
     ]
    },
    {
     "name": "stdout",
     "output_type": "stream",
     "text": [
      "\r",
      "[***                    7%                       ]  28 of 396 completed"
     ]
    },
    {
     "name": "stdout",
     "output_type": "stream",
     "text": [
      "\r",
      "[***                    7%                       ]  29 of 396 completed\r",
      "[***                    7%                       ]  29 of 396 completed"
     ]
    },
    {
     "name": "stdout",
     "output_type": "stream",
     "text": [
      "\r",
      "[****                   8%                       ]  31 of 396 completed"
     ]
    },
    {
     "name": "stdout",
     "output_type": "stream",
     "text": [
      "\r",
      "[****                   8%                       ]  32 of 396 completed"
     ]
    },
    {
     "name": "stdout",
     "output_type": "stream",
     "text": [
      "\r",
      "[****                   8%                       ]  32 of 396 completed"
     ]
    },
    {
     "name": "stdout",
     "output_type": "stream",
     "text": [
      "\r",
      "[****                   9%                       ]  34 of 396 completed\r",
      "[****                   9%                       ]  34 of 396 completed"
     ]
    },
    {
     "name": "stdout",
     "output_type": "stream",
     "text": [
      "\r",
      "[****                   9%                       ]  36 of 396 completed"
     ]
    },
    {
     "name": "stdout",
     "output_type": "stream",
     "text": [
      "\r",
      "[****                   9%                       ]  37 of 396 completed"
     ]
    },
    {
     "name": "stdout",
     "output_type": "stream",
     "text": [
      "\r",
      "[****                   9%                       ]  37 of 396 completed\r",
      "[*****                 10%                       ]  39 of 396 completed"
     ]
    },
    {
     "name": "stdout",
     "output_type": "stream",
     "text": [
      "\r",
      "[*****                 10%                       ]  40 of 396 completed"
     ]
    },
    {
     "name": "stdout",
     "output_type": "stream",
     "text": [
      "\r",
      "[*****                 10%                       ]  41 of 396 completed"
     ]
    },
    {
     "name": "stdout",
     "output_type": "stream",
     "text": [
      "\r",
      "[*****                 11%                       ]  42 of 396 completed"
     ]
    },
    {
     "name": "stdout",
     "output_type": "stream",
     "text": [
      "\r",
      "[*****                 11%                       ]  43 of 396 completed"
     ]
    },
    {
     "name": "stdout",
     "output_type": "stream",
     "text": [
      "\r",
      "[*****                 11%                       ]  44 of 396 completed"
     ]
    },
    {
     "name": "stdout",
     "output_type": "stream",
     "text": [
      "\r",
      "[*****                 11%                       ]  44 of 396 completed"
     ]
    },
    {
     "name": "stdout",
     "output_type": "stream",
     "text": [
      "\r",
      "[******                12%                       ]  46 of 396 completed"
     ]
    },
    {
     "name": "stdout",
     "output_type": "stream",
     "text": [
      "\r",
      "[******                12%                       ]  47 of 396 completed"
     ]
    },
    {
     "name": "stdout",
     "output_type": "stream",
     "text": [
      "\r",
      "[******                12%                       ]  48 of 396 completed"
     ]
    },
    {
     "name": "stdout",
     "output_type": "stream",
     "text": [
      "\r",
      "[******                12%                       ]  48 of 396 completed"
     ]
    },
    {
     "name": "stdout",
     "output_type": "stream",
     "text": [
      "\r",
      "[******                13%                       ]  50 of 396 completed"
     ]
    },
    {
     "name": "stdout",
     "output_type": "stream",
     "text": [
      "\r",
      "[******                13%                       ]  51 of 396 completed"
     ]
    },
    {
     "name": "stdout",
     "output_type": "stream",
     "text": [
      "\r",
      "[******                13%                       ]  52 of 396 completed"
     ]
    },
    {
     "name": "stdout",
     "output_type": "stream",
     "text": [
      "\r",
      "[******                13%                       ]  52 of 396 completed"
     ]
    },
    {
     "name": "stdout",
     "output_type": "stream",
     "text": [
      "\r",
      "[*******               14%                       ]  54 of 396 completed"
     ]
    },
    {
     "name": "stdout",
     "output_type": "stream",
     "text": [
      "\r",
      "[*******               14%                       ]  55 of 396 completed"
     ]
    },
    {
     "name": "stdout",
     "output_type": "stream",
     "text": [
      "\r",
      "[*******               14%                       ]  56 of 396 completed"
     ]
    },
    {
     "name": "stdout",
     "output_type": "stream",
     "text": [
      "\r",
      "[*******               14%                       ]  56 of 396 completed"
     ]
    },
    {
     "name": "stdout",
     "output_type": "stream",
     "text": [
      "\r",
      "[*******               15%                       ]  58 of 396 completed"
     ]
    },
    {
     "name": "stdout",
     "output_type": "stream",
     "text": [
      "\r",
      "[*******               15%                       ]  59 of 396 completed"
     ]
    },
    {
     "name": "stdout",
     "output_type": "stream",
     "text": [
      "\r",
      "[*******               15%                       ]  60 of 396 completed"
     ]
    },
    {
     "name": "stdout",
     "output_type": "stream",
     "text": [
      "\r",
      "[*******               15%                       ]  61 of 396 completed\r",
      "[*******               15%                       ]  61 of 396 completed"
     ]
    },
    {
     "name": "stdout",
     "output_type": "stream",
     "text": [
      "\r",
      "[********              16%                       ]  63 of 396 completed"
     ]
    },
    {
     "name": "stdout",
     "output_type": "stream",
     "text": [
      "\r",
      "[********              16%                       ]  64 of 396 completed"
     ]
    },
    {
     "name": "stdout",
     "output_type": "stream",
     "text": [
      "\r",
      "[********              16%                       ]  64 of 396 completed"
     ]
    },
    {
     "name": "stdout",
     "output_type": "stream",
     "text": [
      "\r",
      "[********              17%                       ]  66 of 396 completed"
     ]
    },
    {
     "name": "stdout",
     "output_type": "stream",
     "text": [
      "\r",
      "[********              17%                       ]  67 of 396 completed"
     ]
    },
    {
     "name": "stdout",
     "output_type": "stream",
     "text": [
      "\r",
      "[********              17%                       ]  68 of 396 completed"
     ]
    },
    {
     "name": "stdout",
     "output_type": "stream",
     "text": [
      "\r",
      "[********              17%                       ]  69 of 396 completed"
     ]
    },
    {
     "name": "stdout",
     "output_type": "stream",
     "text": [
      "\r",
      "[*********             18%                       ]  70 of 396 completed"
     ]
    },
    {
     "name": "stdout",
     "output_type": "stream",
     "text": [
      "\r",
      "[*********             18%                       ]  71 of 396 completed"
     ]
    },
    {
     "name": "stdout",
     "output_type": "stream",
     "text": [
      "\r",
      "[*********             18%                       ]  71 of 396 completed"
     ]
    },
    {
     "name": "stdout",
     "output_type": "stream",
     "text": [
      "\r",
      "[*********             18%                       ]  73 of 396 completed"
     ]
    },
    {
     "name": "stdout",
     "output_type": "stream",
     "text": [
      "\r",
      "[*********             19%                       ]  74 of 396 completed"
     ]
    },
    {
     "name": "stdout",
     "output_type": "stream",
     "text": [
      "\r",
      "[*********             19%                       ]  75 of 396 completed"
     ]
    },
    {
     "name": "stdout",
     "output_type": "stream",
     "text": [
      "\r",
      "[*********             19%                       ]  76 of 396 completed"
     ]
    },
    {
     "name": "stdout",
     "output_type": "stream",
     "text": [
      "\r",
      "[*********             19%                       ]  76 of 396 completed"
     ]
    },
    {
     "name": "stdout",
     "output_type": "stream",
     "text": [
      "\r",
      "[**********            20%                       ]  78 of 396 completed"
     ]
    },
    {
     "name": "stdout",
     "output_type": "stream",
     "text": [
      "\r",
      "[**********            20%                       ]  79 of 396 completed"
     ]
    },
    {
     "name": "stdout",
     "output_type": "stream",
     "text": [
      "\r",
      "[**********            20%                       ]  80 of 396 completed"
     ]
    },
    {
     "name": "stdout",
     "output_type": "stream",
     "text": [
      "\r",
      "[**********            20%                       ]  81 of 396 completed"
     ]
    },
    {
     "name": "stdout",
     "output_type": "stream",
     "text": [
      "\r",
      "[**********            21%                       ]  82 of 396 completed"
     ]
    },
    {
     "name": "stdout",
     "output_type": "stream",
     "text": [
      "\r",
      "[**********            21%                       ]  83 of 396 completed"
     ]
    },
    {
     "name": "stdout",
     "output_type": "stream",
     "text": [
      "\r",
      "[**********            21%                       ]  84 of 396 completed"
     ]
    },
    {
     "name": "stdout",
     "output_type": "stream",
     "text": [
      "\r",
      "[**********            21%                       ]  84 of 396 completed"
     ]
    },
    {
     "name": "stdout",
     "output_type": "stream",
     "text": [
      "\r",
      "[***********           22%                       ]  86 of 396 completed"
     ]
    },
    {
     "name": "stdout",
     "output_type": "stream",
     "text": [
      "\r",
      "[***********           22%                       ]  87 of 396 completed"
     ]
    },
    {
     "name": "stdout",
     "output_type": "stream",
     "text": [
      "\r",
      "[***********           22%                       ]  87 of 396 completed"
     ]
    },
    {
     "name": "stdout",
     "output_type": "stream",
     "text": [
      "\r",
      "[***********           22%                       ]  89 of 396 completed"
     ]
    },
    {
     "name": "stdout",
     "output_type": "stream",
     "text": [
      "\r",
      "[***********           23%                       ]  90 of 396 completed"
     ]
    },
    {
     "name": "stdout",
     "output_type": "stream",
     "text": [
      "\r",
      "[***********           23%                       ]  91 of 396 completed"
     ]
    },
    {
     "name": "stdout",
     "output_type": "stream",
     "text": [
      "\r",
      "[***********           23%                       ]  92 of 396 completed"
     ]
    },
    {
     "name": "stdout",
     "output_type": "stream",
     "text": [
      "\r",
      "[***********           23%                       ]  93 of 396 completed"
     ]
    },
    {
     "name": "stdout",
     "output_type": "stream",
     "text": [
      "\r",
      "[************          24%                       ]  94 of 396 completed"
     ]
    },
    {
     "name": "stdout",
     "output_type": "stream",
     "text": [
      "\r",
      "[************          24%                       ]  94 of 396 completed"
     ]
    },
    {
     "name": "stdout",
     "output_type": "stream",
     "text": [
      "\r",
      "[************          24%                       ]  96 of 396 completed"
     ]
    },
    {
     "name": "stdout",
     "output_type": "stream",
     "text": [
      "\r",
      "[************          24%                       ]  97 of 396 completed"
     ]
    },
    {
     "name": "stdout",
     "output_type": "stream",
     "text": [
      "\r",
      "[************          25%                       ]  98 of 396 completed"
     ]
    },
    {
     "name": "stdout",
     "output_type": "stream",
     "text": [
      "\r",
      "[************          25%                       ]  98 of 396 completed\r",
      "[************          25%                       ]  100 of 396 completed"
     ]
    },
    {
     "name": "stdout",
     "output_type": "stream",
     "text": [
      "\r",
      "[************          26%                       ]  101 of 396 completed"
     ]
    },
    {
     "name": "stdout",
     "output_type": "stream",
     "text": [
      "\r",
      "[************          26%                       ]  102 of 396 completed"
     ]
    },
    {
     "name": "stdout",
     "output_type": "stream",
     "text": [
      "\r",
      "[************          26%                       ]  103 of 396 completed"
     ]
    },
    {
     "name": "stdout",
     "output_type": "stream",
     "text": [
      "\r",
      "[************          26%                       ]  104 of 396 completed"
     ]
    },
    {
     "name": "stdout",
     "output_type": "stream",
     "text": [
      "\r",
      "[************          26%                       ]  104 of 396 completed"
     ]
    },
    {
     "name": "stdout",
     "output_type": "stream",
     "text": [
      "\r",
      "[*************         27%                       ]  106 of 396 completed"
     ]
    },
    {
     "name": "stdout",
     "output_type": "stream",
     "text": [
      "\r",
      "[*************         27%                       ]  107 of 396 completed"
     ]
    },
    {
     "name": "stdout",
     "output_type": "stream",
     "text": [
      "\r",
      "[*************         27%                       ]  108 of 396 completed"
     ]
    },
    {
     "name": "stdout",
     "output_type": "stream",
     "text": [
      "\r",
      "[*************         28%                       ]  109 of 396 completed"
     ]
    },
    {
     "name": "stdout",
     "output_type": "stream",
     "text": [
      "\r",
      "[*************         28%                       ]  110 of 396 completed"
     ]
    },
    {
     "name": "stdout",
     "output_type": "stream",
     "text": [
      "\r",
      "[*************         28%                       ]  111 of 396 completed\r",
      "[*************         28%                       ]  111 of 396 completed"
     ]
    },
    {
     "name": "stdout",
     "output_type": "stream",
     "text": [
      "\r",
      "[**************        29%                       ]  113 of 396 completed"
     ]
    },
    {
     "name": "stdout",
     "output_type": "stream",
     "text": [
      "\r",
      "[**************        29%                       ]  113 of 396 completed"
     ]
    },
    {
     "name": "stdout",
     "output_type": "stream",
     "text": [
      "\r",
      "[**************        29%                       ]  115 of 396 completed"
     ]
    },
    {
     "name": "stdout",
     "output_type": "stream",
     "text": [
      "\r",
      "[**************        29%                       ]  116 of 396 completed"
     ]
    },
    {
     "name": "stdout",
     "output_type": "stream",
     "text": [
      "\r",
      "[**************        30%                       ]  117 of 396 completed\r",
      "[**************        30%                       ]  117 of 396 completed"
     ]
    },
    {
     "name": "stdout",
     "output_type": "stream",
     "text": [
      "\r",
      "[**************        30%                       ]  117 of 396 completed"
     ]
    },
    {
     "name": "stdout",
     "output_type": "stream",
     "text": [
      "\r",
      "[**************        30%                       ]  120 of 396 completed"
     ]
    },
    {
     "name": "stdout",
     "output_type": "stream",
     "text": [
      "\r",
      "[***************       31%                       ]  121 of 396 completed"
     ]
    },
    {
     "name": "stdout",
     "output_type": "stream",
     "text": [
      "\r",
      "[***************       31%                       ]  122 of 396 completed"
     ]
    },
    {
     "name": "stdout",
     "output_type": "stream",
     "text": [
      "\r",
      "[***************       31%                       ]  122 of 396 completed"
     ]
    },
    {
     "name": "stdout",
     "output_type": "stream",
     "text": [
      "\r",
      "[***************       31%                       ]  124 of 396 completed"
     ]
    },
    {
     "name": "stdout",
     "output_type": "stream",
     "text": [
      "\r",
      "[***************       32%                       ]  125 of 396 completed"
     ]
    },
    {
     "name": "stdout",
     "output_type": "stream",
     "text": [
      "\r",
      "[***************       32%                       ]  126 of 396 completed"
     ]
    },
    {
     "name": "stdout",
     "output_type": "stream",
     "text": [
      "\r",
      "[***************       32%                       ]  127 of 396 completed"
     ]
    },
    {
     "name": "stdout",
     "output_type": "stream",
     "text": [
      "\r",
      "[***************       32%                       ]  128 of 396 completed"
     ]
    },
    {
     "name": "stdout",
     "output_type": "stream",
     "text": [
      "\r",
      "[****************      33%                       ]  129 of 396 completed"
     ]
    },
    {
     "name": "stdout",
     "output_type": "stream",
     "text": [
      "\r",
      "[****************      33%                       ]  130 of 396 completed"
     ]
    },
    {
     "name": "stdout",
     "output_type": "stream",
     "text": [
      "\r",
      "[****************      33%                       ]  131 of 396 completed"
     ]
    },
    {
     "name": "stdout",
     "output_type": "stream",
     "text": [
      "\r",
      "[****************      33%                       ]  132 of 396 completed"
     ]
    },
    {
     "name": "stdout",
     "output_type": "stream",
     "text": [
      "\r",
      "[****************      34%                       ]  133 of 396 completed"
     ]
    },
    {
     "name": "stdout",
     "output_type": "stream",
     "text": [
      "\r",
      "[****************      34%                       ]  134 of 396 completed"
     ]
    },
    {
     "name": "stdout",
     "output_type": "stream",
     "text": [
      "\r",
      "[****************      34%                       ]  135 of 396 completed"
     ]
    },
    {
     "name": "stdout",
     "output_type": "stream",
     "text": [
      "\r",
      "[****************      34%                       ]  136 of 396 completed"
     ]
    },
    {
     "name": "stdout",
     "output_type": "stream",
     "text": [
      "\r",
      "[*****************     35%                       ]  137 of 396 completed"
     ]
    },
    {
     "name": "stdout",
     "output_type": "stream",
     "text": [
      "\r",
      "[*****************     35%                       ]  138 of 396 completed"
     ]
    },
    {
     "name": "stdout",
     "output_type": "stream",
     "text": [
      "\r",
      "[*****************     35%                       ]  139 of 396 completed\r",
      "[*****************     35%                       ]  139 of 396 completed"
     ]
    },
    {
     "name": "stdout",
     "output_type": "stream",
     "text": [
      "\r",
      "[*****************     36%                       ]  141 of 396 completed"
     ]
    },
    {
     "name": "stdout",
     "output_type": "stream",
     "text": [
      "\r",
      "[*****************     36%                       ]  142 of 396 completed"
     ]
    },
    {
     "name": "stdout",
     "output_type": "stream",
     "text": [
      "\r",
      "[*****************     36%                       ]  142 of 396 completed"
     ]
    },
    {
     "name": "stdout",
     "output_type": "stream",
     "text": [
      "\r",
      "[*****************     36%                       ]  144 of 396 completed"
     ]
    },
    {
     "name": "stdout",
     "output_type": "stream",
     "text": [
      "\r",
      "[******************    37%                       ]  145 of 396 completed"
     ]
    },
    {
     "name": "stdout",
     "output_type": "stream",
     "text": [
      "\r",
      "[******************    37%                       ]  146 of 396 completed"
     ]
    },
    {
     "name": "stdout",
     "output_type": "stream",
     "text": [
      "\r",
      "[******************    37%                       ]  147 of 396 completed"
     ]
    },
    {
     "name": "stdout",
     "output_type": "stream",
     "text": [
      "\r",
      "[******************    37%                       ]  148 of 396 completed"
     ]
    },
    {
     "name": "stdout",
     "output_type": "stream",
     "text": [
      "\r",
      "[******************    38%                       ]  149 of 396 completed"
     ]
    },
    {
     "name": "stdout",
     "output_type": "stream",
     "text": [
      "\r",
      "[******************    38%                       ]  150 of 396 completed"
     ]
    },
    {
     "name": "stdout",
     "output_type": "stream",
     "text": [
      "\r",
      "[******************    38%                       ]  151 of 396 completed"
     ]
    },
    {
     "name": "stdout",
     "output_type": "stream",
     "text": [
      "\r",
      "[******************    38%                       ]  152 of 396 completed"
     ]
    },
    {
     "name": "stdout",
     "output_type": "stream",
     "text": [
      "\r",
      "[*******************   39%                       ]  153 of 396 completed\r",
      "[*******************   39%                       ]  153 of 396 completed"
     ]
    },
    {
     "name": "stdout",
     "output_type": "stream",
     "text": [
      "\r",
      "[*******************   39%                       ]  153 of 396 completed"
     ]
    },
    {
     "name": "stdout",
     "output_type": "stream",
     "text": [
      "\r",
      "[*******************   39%                       ]  156 of 396 completed"
     ]
    },
    {
     "name": "stdout",
     "output_type": "stream",
     "text": [
      "\r",
      "[*******************   39%                       ]  156 of 396 completed\r",
      "[*******************   40%                       ]  158 of 396 completed"
     ]
    },
    {
     "name": "stdout",
     "output_type": "stream",
     "text": [
      "\r",
      "[*******************   40%                       ]  159 of 396 completed"
     ]
    },
    {
     "name": "stdout",
     "output_type": "stream",
     "text": [
      "\r",
      "[*******************   40%                       ]  160 of 396 completed"
     ]
    },
    {
     "name": "stdout",
     "output_type": "stream",
     "text": [
      "\r",
      "[********************  41%                       ]  161 of 396 completed"
     ]
    },
    {
     "name": "stdout",
     "output_type": "stream",
     "text": [
      "\r",
      "[********************  41%                       ]  162 of 396 completed"
     ]
    },
    {
     "name": "stdout",
     "output_type": "stream",
     "text": [
      "\r",
      "[********************  41%                       ]  163 of 396 completed"
     ]
    },
    {
     "name": "stdout",
     "output_type": "stream",
     "text": [
      "\r",
      "[********************  41%                       ]  164 of 396 completed"
     ]
    },
    {
     "name": "stdout",
     "output_type": "stream",
     "text": [
      "\r",
      "[********************  42%                       ]  165 of 396 completed"
     ]
    },
    {
     "name": "stdout",
     "output_type": "stream",
     "text": [
      "\r",
      "[********************  42%                       ]  166 of 396 completed\r",
      "[********************  42%                       ]  166 of 396 completed"
     ]
    },
    {
     "name": "stdout",
     "output_type": "stream",
     "text": [
      "\r",
      "[********************  42%                       ]  168 of 396 completed"
     ]
    },
    {
     "name": "stdout",
     "output_type": "stream",
     "text": [
      "\r",
      "[********************* 43%                       ]  169 of 396 completed\r",
      "[********************* 43%                       ]  169 of 396 completed"
     ]
    },
    {
     "name": "stdout",
     "output_type": "stream",
     "text": [
      "\r",
      "[********************* 43%                       ]  171 of 396 completed"
     ]
    },
    {
     "name": "stdout",
     "output_type": "stream",
     "text": [
      "\r",
      "[********************* 43%                       ]  171 of 396 completed\r",
      "[********************* 44%                       ]  173 of 396 completed\r",
      "[********************* 44%                       ]  173 of 396 completed"
     ]
    },
    {
     "name": "stdout",
     "output_type": "stream",
     "text": [
      "\r",
      "[********************* 44%                       ]  175 of 396 completed"
     ]
    },
    {
     "name": "stdout",
     "output_type": "stream",
     "text": [
      "\r",
      "[********************* 44%                       ]  176 of 396 completed"
     ]
    },
    {
     "name": "stdout",
     "output_type": "stream",
     "text": [
      "\r",
      "[**********************45%                       ]  177 of 396 completed"
     ]
    },
    {
     "name": "stdout",
     "output_type": "stream",
     "text": [
      "\r",
      "[**********************45%                       ]  178 of 396 completed"
     ]
    },
    {
     "name": "stdout",
     "output_type": "stream",
     "text": [
      "\r",
      "[**********************45%                       ]  179 of 396 completed"
     ]
    },
    {
     "name": "stdout",
     "output_type": "stream",
     "text": [
      "\r",
      "[**********************45%                       ]  180 of 396 completed"
     ]
    },
    {
     "name": "stdout",
     "output_type": "stream",
     "text": [
      "\r",
      "[**********************46%                       ]  181 of 396 completed"
     ]
    },
    {
     "name": "stdout",
     "output_type": "stream",
     "text": [
      "\r",
      "[**********************46%                       ]  182 of 396 completed"
     ]
    },
    {
     "name": "stdout",
     "output_type": "stream",
     "text": [
      "\r",
      "[**********************46%                       ]  183 of 396 completed\r",
      "[**********************46%                       ]  183 of 396 completed"
     ]
    },
    {
     "name": "stdout",
     "output_type": "stream",
     "text": [
      "\r",
      "[**********************47%                       ]  185 of 396 completed"
     ]
    },
    {
     "name": "stdout",
     "output_type": "stream",
     "text": [
      "\r",
      "[**********************47%                       ]  186 of 396 completed"
     ]
    },
    {
     "name": "stdout",
     "output_type": "stream",
     "text": [
      "\r",
      "[**********************47%                       ]  187 of 396 completed"
     ]
    },
    {
     "name": "stdout",
     "output_type": "stream",
     "text": [
      "\r",
      "[**********************47%                       ]  188 of 396 completed\r",
      "[**********************47%                       ]  188 of 396 completed\r",
      "[**********************47%                       ]  188 of 396 completed"
     ]
    },
    {
     "name": "stdout",
     "output_type": "stream",
     "text": [
      "\r",
      "[**********************47%                       ]  188 of 396 completed"
     ]
    },
    {
     "name": "stdout",
     "output_type": "stream",
     "text": [
      "\r",
      "[**********************48%                       ]  192 of 396 completed"
     ]
    },
    {
     "name": "stdout",
     "output_type": "stream",
     "text": [
      "\r",
      "[**********************49%                       ]  193 of 396 completed"
     ]
    },
    {
     "name": "stdout",
     "output_type": "stream",
     "text": [
      "\r",
      "[**********************49%                       ]  193 of 396 completed\r",
      "[**********************49%                       ]  193 of 396 completed"
     ]
    },
    {
     "name": "stdout",
     "output_type": "stream",
     "text": [
      "\r",
      "[**********************49%                       ]  196 of 396 completed"
     ]
    },
    {
     "name": "stdout",
     "output_type": "stream",
     "text": [
      "\r",
      "[**********************50%                       ]  197 of 396 completed"
     ]
    },
    {
     "name": "stdout",
     "output_type": "stream",
     "text": [
      "\r",
      "[**********************50%                       ]  197 of 396 completed"
     ]
    },
    {
     "name": "stdout",
     "output_type": "stream",
     "text": [
      "\r",
      "[**********************50%                       ]  199 of 396 completed"
     ]
    },
    {
     "name": "stdout",
     "output_type": "stream",
     "text": [
      "\r",
      "[**********************51%                       ]  200 of 396 completed\r",
      "[**********************51%                       ]  200 of 396 completed"
     ]
    },
    {
     "name": "stdout",
     "output_type": "stream",
     "text": [
      "\r",
      "[**********************51%                       ]  200 of 396 completed"
     ]
    },
    {
     "name": "stdout",
     "output_type": "stream",
     "text": [
      "\r",
      "[**********************51%                       ]  203 of 396 completed\r",
      "[**********************51%                       ]  203 of 396 completed"
     ]
    },
    {
     "name": "stdout",
     "output_type": "stream",
     "text": [
      "\r",
      "[**********************52%                       ]  205 of 396 completed\r",
      "[**********************52%                       ]  205 of 396 completed"
     ]
    },
    {
     "name": "stdout",
     "output_type": "stream",
     "text": [
      "\r",
      "[**********************52%                       ]  205 of 396 completed"
     ]
    },
    {
     "name": "stdout",
     "output_type": "stream",
     "text": [
      "\r",
      "[**********************53%                       ]  208 of 396 completed"
     ]
    },
    {
     "name": "stdout",
     "output_type": "stream",
     "text": [
      "\r",
      "[**********************53%                       ]  209 of 396 completed"
     ]
    },
    {
     "name": "stdout",
     "output_type": "stream",
     "text": [
      "\r",
      "[**********************53%                       ]  210 of 396 completed"
     ]
    },
    {
     "name": "stdout",
     "output_type": "stream",
     "text": [
      "\r",
      "[**********************53%                       ]  211 of 396 completed"
     ]
    },
    {
     "name": "stdout",
     "output_type": "stream",
     "text": [
      "\r",
      "[**********************54%*                      ]  212 of 396 completed"
     ]
    },
    {
     "name": "stdout",
     "output_type": "stream",
     "text": [
      "\r",
      "[**********************54%*                      ]  213 of 396 completed"
     ]
    },
    {
     "name": "stdout",
     "output_type": "stream",
     "text": [
      "\r",
      "[**********************54%*                      ]  214 of 396 completed"
     ]
    },
    {
     "name": "stdout",
     "output_type": "stream",
     "text": [
      "\r",
      "[**********************54%*                      ]  215 of 396 completed"
     ]
    },
    {
     "name": "stdout",
     "output_type": "stream",
     "text": [
      "\r",
      "[**********************55%*                      ]  216 of 396 completed"
     ]
    },
    {
     "name": "stdout",
     "output_type": "stream",
     "text": [
      "\r",
      "[**********************55%*                      ]  216 of 396 completed\r",
      "[**********************55%*                      ]  216 of 396 completed"
     ]
    },
    {
     "name": "stdout",
     "output_type": "stream",
     "text": [
      "\r",
      "[**********************55%*                      ]  219 of 396 completed\r",
      "[**********************55%*                      ]  219 of 396 completed"
     ]
    },
    {
     "name": "stdout",
     "output_type": "stream",
     "text": [
      "\r",
      "[**********************56%**                     ]  221 of 396 completed"
     ]
    },
    {
     "name": "stdout",
     "output_type": "stream",
     "text": [
      "\r",
      "[**********************56%**                     ]  222 of 396 completed"
     ]
    },
    {
     "name": "stdout",
     "output_type": "stream",
     "text": [
      "\r",
      "[**********************56%**                     ]  223 of 396 completed"
     ]
    },
    {
     "name": "stdout",
     "output_type": "stream",
     "text": [
      "\r",
      "[**********************57%**                     ]  224 of 396 completed"
     ]
    },
    {
     "name": "stdout",
     "output_type": "stream",
     "text": [
      "\r",
      "[**********************57%**                     ]  225 of 396 completed"
     ]
    },
    {
     "name": "stdout",
     "output_type": "stream",
     "text": [
      "\r",
      "[**********************57%**                     ]  226 of 396 completed"
     ]
    },
    {
     "name": "stdout",
     "output_type": "stream",
     "text": [
      "\r",
      "[**********************57%**                     ]  227 of 396 completed"
     ]
    },
    {
     "name": "stdout",
     "output_type": "stream",
     "text": [
      "\r",
      "[**********************57%**                     ]  227 of 396 completed"
     ]
    },
    {
     "name": "stdout",
     "output_type": "stream",
     "text": [
      "\r",
      "[**********************57%**                     ]  227 of 396 completed\r",
      "[**********************58%***                    ]  230 of 396 completed\r",
      "[**********************58%***                    ]  230 of 396 completed"
     ]
    },
    {
     "name": "stdout",
     "output_type": "stream",
     "text": [
      "\r",
      "[**********************59%***                    ]  232 of 396 completed"
     ]
    },
    {
     "name": "stdout",
     "output_type": "stream",
     "text": [
      "\r",
      "[**********************59%***                    ]  233 of 396 completed"
     ]
    },
    {
     "name": "stdout",
     "output_type": "stream",
     "text": [
      "\r",
      "[**********************59%***                    ]  234 of 396 completed"
     ]
    },
    {
     "name": "stdout",
     "output_type": "stream",
     "text": [
      "\r",
      "[**********************59%***                    ]  235 of 396 completed"
     ]
    },
    {
     "name": "stdout",
     "output_type": "stream",
     "text": [
      "\r",
      "[**********************60%****                   ]  236 of 396 completed"
     ]
    },
    {
     "name": "stdout",
     "output_type": "stream",
     "text": [
      "\r",
      "[**********************60%****                   ]  237 of 396 completed"
     ]
    },
    {
     "name": "stdout",
     "output_type": "stream",
     "text": [
      "\r",
      "[**********************60%****                   ]  238 of 396 completed"
     ]
    },
    {
     "name": "stdout",
     "output_type": "stream",
     "text": [
      "\r",
      "[**********************60%****                   ]  239 of 396 completed"
     ]
    },
    {
     "name": "stdout",
     "output_type": "stream",
     "text": [
      "\r",
      "[**********************61%****                   ]  240 of 396 completed\r",
      "[**********************61%****                   ]  240 of 396 completed\r",
      "[**********************61%****                   ]  240 of 396 completed"
     ]
    },
    {
     "name": "stdout",
     "output_type": "stream",
     "text": [
      "\r",
      "[**********************61%****                   ]  243 of 396 completed"
     ]
    },
    {
     "name": "stdout",
     "output_type": "stream",
     "text": [
      "\r",
      "[**********************62%*****                  ]  244 of 396 completed"
     ]
    },
    {
     "name": "stdout",
     "output_type": "stream",
     "text": [
      "\r",
      "[**********************62%*****                  ]  245 of 396 completed\r",
      "[**********************62%*****                  ]  245 of 396 completed"
     ]
    },
    {
     "name": "stdout",
     "output_type": "stream",
     "text": [
      "\r",
      "[**********************62%*****                  ]  247 of 396 completed"
     ]
    },
    {
     "name": "stdout",
     "output_type": "stream",
     "text": [
      "\r",
      "[**********************63%*****                  ]  248 of 396 completed"
     ]
    },
    {
     "name": "stdout",
     "output_type": "stream",
     "text": [
      "\r",
      "[**********************63%*****                  ]  249 of 396 completed"
     ]
    },
    {
     "name": "stdout",
     "output_type": "stream",
     "text": [
      "\r",
      "[**********************63%*****                  ]  250 of 396 completed"
     ]
    },
    {
     "name": "stdout",
     "output_type": "stream",
     "text": [
      "\r",
      "[**********************63%*****                  ]  251 of 396 completed"
     ]
    },
    {
     "name": "stdout",
     "output_type": "stream",
     "text": [
      "\r",
      "[**********************64%******                 ]  252 of 396 completed\r",
      "[**********************64%******                 ]  252 of 396 completed"
     ]
    },
    {
     "name": "stdout",
     "output_type": "stream",
     "text": [
      "\r",
      "[**********************64%******                 ]  254 of 396 completed"
     ]
    },
    {
     "name": "stdout",
     "output_type": "stream",
     "text": [
      "\r",
      "[**********************64%******                 ]  255 of 396 completed"
     ]
    },
    {
     "name": "stdout",
     "output_type": "stream",
     "text": [
      "\r",
      "[**********************64%******                 ]  255 of 396 completed"
     ]
    },
    {
     "name": "stdout",
     "output_type": "stream",
     "text": [
      "\r",
      "[**********************64%******                 ]  255 of 396 completed"
     ]
    },
    {
     "name": "stdout",
     "output_type": "stream",
     "text": [
      "\r",
      "[**********************65%******                 ]  258 of 396 completed"
     ]
    },
    {
     "name": "stdout",
     "output_type": "stream",
     "text": [
      "\r",
      "[**********************65%******                 ]  258 of 396 completed"
     ]
    },
    {
     "name": "stdout",
     "output_type": "stream",
     "text": [
      "\r",
      "[**********************66%*******                ]  260 of 396 completed"
     ]
    },
    {
     "name": "stdout",
     "output_type": "stream",
     "text": [
      "\r",
      "[**********************66%*******                ]  261 of 396 completed"
     ]
    },
    {
     "name": "stdout",
     "output_type": "stream",
     "text": [
      "\r",
      "[**********************66%*******                ]  262 of 396 completed"
     ]
    },
    {
     "name": "stdout",
     "output_type": "stream",
     "text": [
      "\r",
      "[**********************66%*******                ]  263 of 396 completed"
     ]
    },
    {
     "name": "stdout",
     "output_type": "stream",
     "text": [
      "\r",
      "[**********************67%*******                ]  264 of 396 completed"
     ]
    },
    {
     "name": "stdout",
     "output_type": "stream",
     "text": [
      "\r",
      "[**********************67%*******                ]  265 of 396 completed\r",
      "[**********************67%*******                ]  265 of 396 completed"
     ]
    },
    {
     "name": "stdout",
     "output_type": "stream",
     "text": [
      "\r",
      "[**********************67%*******                ]  267 of 396 completed\r",
      "[**********************67%*******                ]  267 of 396 completed"
     ]
    },
    {
     "name": "stdout",
     "output_type": "stream",
     "text": [
      "\r",
      "[**********************68%********               ]  269 of 396 completed"
     ]
    },
    {
     "name": "stdout",
     "output_type": "stream",
     "text": [
      "\r",
      "[**********************68%********               ]  270 of 396 completed\r",
      "[**********************68%********               ]  270 of 396 completed"
     ]
    },
    {
     "name": "stdout",
     "output_type": "stream",
     "text": [
      "\r",
      "[**********************69%********               ]  272 of 396 completed\r",
      "[**********************69%********               ]  272 of 396 completed"
     ]
    },
    {
     "name": "stdout",
     "output_type": "stream",
     "text": [
      "\r",
      "[**********************69%********               ]  272 of 396 completed"
     ]
    },
    {
     "name": "stdout",
     "output_type": "stream",
     "text": [
      "\r",
      "[**********************69%********               ]  275 of 396 completed"
     ]
    },
    {
     "name": "stdout",
     "output_type": "stream",
     "text": [
      "\r",
      "[**********************70%*********              ]  276 of 396 completed"
     ]
    },
    {
     "name": "stdout",
     "output_type": "stream",
     "text": [
      "\r",
      "[**********************70%*********              ]  277 of 396 completed"
     ]
    },
    {
     "name": "stdout",
     "output_type": "stream",
     "text": [
      "\r",
      "[**********************70%*********              ]  278 of 396 completed\r",
      "[**********************70%*********              ]  278 of 396 completed"
     ]
    },
    {
     "name": "stdout",
     "output_type": "stream",
     "text": [
      "\r",
      "[**********************71%*********              ]  280 of 396 completed"
     ]
    },
    {
     "name": "stdout",
     "output_type": "stream",
     "text": [
      "\r",
      "[**********************71%*********              ]  280 of 396 completed"
     ]
    },
    {
     "name": "stdout",
     "output_type": "stream",
     "text": [
      "\r",
      "[**********************71%*********              ]  282 of 396 completed"
     ]
    },
    {
     "name": "stdout",
     "output_type": "stream",
     "text": [
      "\r",
      "[**********************71%*********              ]  283 of 396 completed"
     ]
    },
    {
     "name": "stdout",
     "output_type": "stream",
     "text": [
      "\r",
      "[**********************71%*********              ]  283 of 396 completed"
     ]
    },
    {
     "name": "stdout",
     "output_type": "stream",
     "text": [
      "\r",
      "[**********************72%**********             ]  285 of 396 completed"
     ]
    },
    {
     "name": "stdout",
     "output_type": "stream",
     "text": [
      "\r",
      "[**********************72%**********             ]  286 of 396 completed"
     ]
    },
    {
     "name": "stdout",
     "output_type": "stream",
     "text": [
      "\r",
      "[**********************72%**********             ]  287 of 396 completed"
     ]
    },
    {
     "name": "stdout",
     "output_type": "stream",
     "text": [
      "\r",
      "[**********************73%**********             ]  288 of 396 completed"
     ]
    },
    {
     "name": "stdout",
     "output_type": "stream",
     "text": [
      "\r",
      "[**********************73%**********             ]  289 of 396 completed"
     ]
    },
    {
     "name": "stdout",
     "output_type": "stream",
     "text": [
      "\r",
      "[**********************73%**********             ]  289 of 396 completed"
     ]
    },
    {
     "name": "stdout",
     "output_type": "stream",
     "text": [
      "\r",
      "[**********************73%**********             ]  291 of 396 completed"
     ]
    },
    {
     "name": "stdout",
     "output_type": "stream",
     "text": [
      "\r",
      "[**********************74%***********            ]  292 of 396 completed"
     ]
    },
    {
     "name": "stdout",
     "output_type": "stream",
     "text": [
      "\r",
      "[**********************74%***********            ]  292 of 396 completed"
     ]
    },
    {
     "name": "stdout",
     "output_type": "stream",
     "text": [
      "\r",
      "[**********************74%***********            ]  294 of 396 completed"
     ]
    },
    {
     "name": "stdout",
     "output_type": "stream",
     "text": [
      "\r",
      "[**********************74%***********            ]  295 of 396 completed"
     ]
    },
    {
     "name": "stdout",
     "output_type": "stream",
     "text": [
      "\r",
      "[**********************75%***********            ]  296 of 396 completed"
     ]
    },
    {
     "name": "stdout",
     "output_type": "stream",
     "text": [
      "\r",
      "[**********************75%***********            ]  296 of 396 completed"
     ]
    },
    {
     "name": "stdout",
     "output_type": "stream",
     "text": [
      "\r",
      "[**********************75%***********            ]  298 of 396 completed"
     ]
    },
    {
     "name": "stdout",
     "output_type": "stream",
     "text": [
      "\r",
      "[**********************76%***********            ]  299 of 396 completed"
     ]
    },
    {
     "name": "stdout",
     "output_type": "stream",
     "text": [
      "\r",
      "[**********************76%***********            ]  300 of 396 completed"
     ]
    },
    {
     "name": "stdout",
     "output_type": "stream",
     "text": [
      "\r",
      "[**********************76%***********            ]  301 of 396 completed"
     ]
    },
    {
     "name": "stdout",
     "output_type": "stream",
     "text": [
      "\r",
      "[**********************76%***********            ]  302 of 396 completed"
     ]
    },
    {
     "name": "stdout",
     "output_type": "stream",
     "text": [
      "\r",
      "[**********************77%************           ]  303 of 396 completed"
     ]
    },
    {
     "name": "stdout",
     "output_type": "stream",
     "text": [
      "\r",
      "[**********************77%************           ]  304 of 396 completed"
     ]
    },
    {
     "name": "stdout",
     "output_type": "stream",
     "text": [
      "\r",
      "[**********************77%************           ]  305 of 396 completed"
     ]
    },
    {
     "name": "stdout",
     "output_type": "stream",
     "text": [
      "\r",
      "[**********************77%************           ]  306 of 396 completed"
     ]
    },
    {
     "name": "stdout",
     "output_type": "stream",
     "text": [
      "\r",
      "[**********************78%************           ]  307 of 396 completed"
     ]
    },
    {
     "name": "stdout",
     "output_type": "stream",
     "text": [
      "\r",
      "[**********************78%************           ]  308 of 396 completed"
     ]
    },
    {
     "name": "stdout",
     "output_type": "stream",
     "text": [
      "\r",
      "[**********************78%************           ]  309 of 396 completed"
     ]
    },
    {
     "name": "stdout",
     "output_type": "stream",
     "text": [
      "\r",
      "[**********************78%************           ]  310 of 396 completed"
     ]
    },
    {
     "name": "stdout",
     "output_type": "stream",
     "text": [
      "\r",
      "[**********************79%*************          ]  311 of 396 completed"
     ]
    },
    {
     "name": "stdout",
     "output_type": "stream",
     "text": [
      "\r",
      "[**********************79%*************          ]  311 of 396 completed\r",
      "[**********************79%*************          ]  311 of 396 completed"
     ]
    },
    {
     "name": "stdout",
     "output_type": "stream",
     "text": [
      "\r",
      "[**********************79%*************          ]  314 of 396 completed"
     ]
    },
    {
     "name": "stdout",
     "output_type": "stream",
     "text": [
      "\r",
      "[**********************80%*************          ]  315 of 396 completed"
     ]
    },
    {
     "name": "stdout",
     "output_type": "stream",
     "text": [
      "\r",
      "[**********************80%*************          ]  316 of 396 completed"
     ]
    },
    {
     "name": "stdout",
     "output_type": "stream",
     "text": [
      "\r",
      "[**********************80%*************          ]  317 of 396 completed"
     ]
    },
    {
     "name": "stdout",
     "output_type": "stream",
     "text": [
      "\r",
      "[**********************80%*************          ]  318 of 396 completed"
     ]
    },
    {
     "name": "stdout",
     "output_type": "stream",
     "text": [
      "\r",
      "[**********************81%**************         ]  319 of 396 completed"
     ]
    },
    {
     "name": "stdout",
     "output_type": "stream",
     "text": [
      "\r",
      "[**********************81%**************         ]  320 of 396 completed\r",
      "[**********************81%**************         ]  320 of 396 completed"
     ]
    },
    {
     "name": "stdout",
     "output_type": "stream",
     "text": [
      "\r",
      "[**********************81%**************         ]  322 of 396 completed"
     ]
    },
    {
     "name": "stdout",
     "output_type": "stream",
     "text": [
      "\r",
      "[**********************82%**************         ]  323 of 396 completed"
     ]
    },
    {
     "name": "stdout",
     "output_type": "stream",
     "text": [
      "\r",
      "[**********************82%**************         ]  323 of 396 completed"
     ]
    },
    {
     "name": "stdout",
     "output_type": "stream",
     "text": [
      "\r",
      "[**********************82%**************         ]  325 of 396 completed\r",
      "[**********************82%**************         ]  325 of 396 completed"
     ]
    },
    {
     "name": "stdout",
     "output_type": "stream",
     "text": [
      "\r",
      "[**********************83%***************        ]  327 of 396 completed"
     ]
    },
    {
     "name": "stdout",
     "output_type": "stream",
     "text": [
      "\r",
      "[**********************83%***************        ]  328 of 396 completed"
     ]
    },
    {
     "name": "stdout",
     "output_type": "stream",
     "text": [
      "\r",
      "[**********************83%***************        ]  329 of 396 completed"
     ]
    },
    {
     "name": "stdout",
     "output_type": "stream",
     "text": [
      "\r",
      "[**********************83%***************        ]  330 of 396 completed"
     ]
    },
    {
     "name": "stdout",
     "output_type": "stream",
     "text": [
      "\r",
      "[**********************84%***************        ]  331 of 396 completed"
     ]
    },
    {
     "name": "stdout",
     "output_type": "stream",
     "text": [
      "\r",
      "[**********************84%***************        ]  332 of 396 completed"
     ]
    },
    {
     "name": "stdout",
     "output_type": "stream",
     "text": [
      "\r",
      "[**********************84%***************        ]  333 of 396 completed"
     ]
    },
    {
     "name": "stdout",
     "output_type": "stream",
     "text": [
      "\r",
      "[**********************84%***************        ]  334 of 396 completed\r",
      "[**********************84%***************        ]  334 of 396 completed"
     ]
    },
    {
     "name": "stdout",
     "output_type": "stream",
     "text": [
      "\r",
      "[**********************85%****************       ]  336 of 396 completed"
     ]
    },
    {
     "name": "stdout",
     "output_type": "stream",
     "text": [
      "\r",
      "[**********************85%****************       ]  337 of 396 completed"
     ]
    },
    {
     "name": "stdout",
     "output_type": "stream",
     "text": [
      "\r",
      "[**********************85%****************       ]  338 of 396 completed"
     ]
    },
    {
     "name": "stdout",
     "output_type": "stream",
     "text": [
      "\r",
      "[**********************86%****************       ]  339 of 396 completed"
     ]
    },
    {
     "name": "stdout",
     "output_type": "stream",
     "text": [
      "\r",
      "[**********************86%****************       ]  340 of 396 completed"
     ]
    },
    {
     "name": "stdout",
     "output_type": "stream",
     "text": [
      "\r",
      "[**********************86%****************       ]  341 of 396 completed"
     ]
    },
    {
     "name": "stdout",
     "output_type": "stream",
     "text": [
      "\r",
      "[**********************86%****************       ]  342 of 396 completed"
     ]
    },
    {
     "name": "stdout",
     "output_type": "stream",
     "text": [
      "\r",
      "[**********************87%*****************      ]  343 of 396 completed"
     ]
    },
    {
     "name": "stdout",
     "output_type": "stream",
     "text": [
      "\r",
      "[**********************87%*****************      ]  344 of 396 completed"
     ]
    },
    {
     "name": "stdout",
     "output_type": "stream",
     "text": [
      "\r",
      "[**********************87%*****************      ]  345 of 396 completed"
     ]
    },
    {
     "name": "stdout",
     "output_type": "stream",
     "text": [
      "\r",
      "[**********************87%*****************      ]  346 of 396 completed"
     ]
    },
    {
     "name": "stdout",
     "output_type": "stream",
     "text": [
      "\r",
      "[**********************88%*****************      ]  347 of 396 completed"
     ]
    },
    {
     "name": "stdout",
     "output_type": "stream",
     "text": [
      "\r",
      "[**********************88%*****************      ]  348 of 396 completed"
     ]
    },
    {
     "name": "stdout",
     "output_type": "stream",
     "text": [
      "\r",
      "[**********************88%*****************      ]  349 of 396 completed"
     ]
    },
    {
     "name": "stdout",
     "output_type": "stream",
     "text": [
      "\r",
      "[**********************88%*****************      ]  350 of 396 completed"
     ]
    },
    {
     "name": "stdout",
     "output_type": "stream",
     "text": [
      "\r",
      "[**********************89%******************     ]  351 of 396 completed"
     ]
    },
    {
     "name": "stdout",
     "output_type": "stream",
     "text": [
      "\r",
      "[**********************89%******************     ]  352 of 396 completed"
     ]
    },
    {
     "name": "stdout",
     "output_type": "stream",
     "text": [
      "\r",
      "[**********************89%******************     ]  353 of 396 completed"
     ]
    },
    {
     "name": "stdout",
     "output_type": "stream",
     "text": [
      "\r",
      "[**********************89%******************     ]  354 of 396 completed"
     ]
    },
    {
     "name": "stdout",
     "output_type": "stream",
     "text": [
      "\r",
      "[**********************90%******************     ]  355 of 396 completed"
     ]
    },
    {
     "name": "stdout",
     "output_type": "stream",
     "text": [
      "\r",
      "[**********************90%******************     ]  356 of 396 completed"
     ]
    },
    {
     "name": "stdout",
     "output_type": "stream",
     "text": [
      "\r",
      "[**********************90%******************     ]  357 of 396 completed"
     ]
    },
    {
     "name": "stdout",
     "output_type": "stream",
     "text": [
      "\r",
      "[**********************90%******************     ]  358 of 396 completed\r",
      "[**********************90%******************     ]  358 of 396 completed"
     ]
    },
    {
     "name": "stdout",
     "output_type": "stream",
     "text": [
      "\r",
      "[**********************91%*******************    ]  360 of 396 completed"
     ]
    },
    {
     "name": "stdout",
     "output_type": "stream",
     "text": [
      "\r",
      "[**********************91%*******************    ]  361 of 396 completed"
     ]
    },
    {
     "name": "stdout",
     "output_type": "stream",
     "text": [
      "\r",
      "[**********************91%*******************    ]  362 of 396 completed"
     ]
    },
    {
     "name": "stdout",
     "output_type": "stream",
     "text": [
      "\r",
      "[**********************92%*******************    ]  363 of 396 completed"
     ]
    },
    {
     "name": "stdout",
     "output_type": "stream",
     "text": [
      "\r",
      "[**********************92%*******************    ]  364 of 396 completed"
     ]
    },
    {
     "name": "stdout",
     "output_type": "stream",
     "text": [
      "\r",
      "[**********************92%*******************    ]  365 of 396 completed"
     ]
    },
    {
     "name": "stdout",
     "output_type": "stream",
     "text": [
      "\r",
      "[**********************92%*******************    ]  366 of 396 completed"
     ]
    },
    {
     "name": "stdout",
     "output_type": "stream",
     "text": [
      "\r",
      "[**********************93%********************   ]  367 of 396 completed"
     ]
    },
    {
     "name": "stdout",
     "output_type": "stream",
     "text": [
      "\r",
      "[**********************93%********************   ]  368 of 396 completed"
     ]
    },
    {
     "name": "stdout",
     "output_type": "stream",
     "text": [
      "\r",
      "[**********************93%********************   ]  369 of 396 completed"
     ]
    },
    {
     "name": "stdout",
     "output_type": "stream",
     "text": [
      "\r",
      "[**********************93%********************   ]  370 of 396 completed"
     ]
    },
    {
     "name": "stdout",
     "output_type": "stream",
     "text": [
      "\r",
      "[**********************94%********************   ]  371 of 396 completed"
     ]
    },
    {
     "name": "stdout",
     "output_type": "stream",
     "text": [
      "\r",
      "[**********************94%********************   ]  372 of 396 completed"
     ]
    },
    {
     "name": "stdout",
     "output_type": "stream",
     "text": [
      "\r",
      "[**********************94%********************   ]  373 of 396 completed"
     ]
    },
    {
     "name": "stdout",
     "output_type": "stream",
     "text": [
      "\r",
      "[**********************94%********************   ]  374 of 396 completed"
     ]
    },
    {
     "name": "stdout",
     "output_type": "stream",
     "text": [
      "\r",
      "[**********************95%*********************  ]  375 of 396 completed"
     ]
    },
    {
     "name": "stdout",
     "output_type": "stream",
     "text": [
      "\r",
      "[**********************95%*********************  ]  376 of 396 completed"
     ]
    },
    {
     "name": "stdout",
     "output_type": "stream",
     "text": [
      "\r",
      "[**********************95%*********************  ]  377 of 396 completed"
     ]
    },
    {
     "name": "stdout",
     "output_type": "stream",
     "text": [
      "\r",
      "[**********************95%*********************  ]  378 of 396 completed"
     ]
    },
    {
     "name": "stdout",
     "output_type": "stream",
     "text": [
      "\r",
      "[**********************96%*********************  ]  379 of 396 completed"
     ]
    },
    {
     "name": "stdout",
     "output_type": "stream",
     "text": [
      "\r",
      "[**********************96%*********************  ]  380 of 396 completed"
     ]
    },
    {
     "name": "stdout",
     "output_type": "stream",
     "text": [
      "\r",
      "[**********************96%*********************  ]  381 of 396 completed"
     ]
    },
    {
     "name": "stdout",
     "output_type": "stream",
     "text": [
      "\r",
      "[**********************96%*********************  ]  382 of 396 completed"
     ]
    },
    {
     "name": "stdout",
     "output_type": "stream",
     "text": [
      "\r",
      "[**********************97%********************** ]  383 of 396 completed"
     ]
    },
    {
     "name": "stdout",
     "output_type": "stream",
     "text": [
      "\r",
      "[**********************97%********************** ]  384 of 396 completed"
     ]
    },
    {
     "name": "stdout",
     "output_type": "stream",
     "text": [
      "\r",
      "[**********************97%********************** ]  385 of 396 completed"
     ]
    },
    {
     "name": "stdout",
     "output_type": "stream",
     "text": [
      "\r",
      "[**********************97%********************** ]  386 of 396 completed"
     ]
    },
    {
     "name": "stdout",
     "output_type": "stream",
     "text": [
      "\r",
      "[**********************98%********************** ]  387 of 396 completed"
     ]
    },
    {
     "name": "stdout",
     "output_type": "stream",
     "text": [
      "\r",
      "[**********************98%********************** ]  388 of 396 completed"
     ]
    },
    {
     "name": "stdout",
     "output_type": "stream",
     "text": [
      "\r",
      "[**********************98%********************** ]  389 of 396 completed"
     ]
    },
    {
     "name": "stdout",
     "output_type": "stream",
     "text": [
      "\r",
      "[**********************98%********************** ]  390 of 396 completed"
     ]
    },
    {
     "name": "stdout",
     "output_type": "stream",
     "text": [
      "\r",
      "[**********************99%***********************]  391 of 396 completed"
     ]
    },
    {
     "name": "stdout",
     "output_type": "stream",
     "text": [
      "\r",
      "[**********************99%***********************]  392 of 396 completed"
     ]
    },
    {
     "name": "stdout",
     "output_type": "stream",
     "text": [
      "\r",
      "[**********************99%***********************]  393 of 396 completed"
     ]
    },
    {
     "name": "stdout",
     "output_type": "stream",
     "text": [
      "\r",
      "[**********************99%***********************]  394 of 396 completed"
     ]
    },
    {
     "name": "stdout",
     "output_type": "stream",
     "text": [
      "\r",
      "[*********************100%***********************]  395 of 396 completed"
     ]
    },
    {
     "name": "stdout",
     "output_type": "stream",
     "text": [
      "\r",
      "[*********************100%***********************]  396 of 396 completed"
     ]
    },
    {
     "name": "stdout",
     "output_type": "stream",
     "text": [
      "\n",
      "\n",
      "45 Failed downloads:\n",
      "- GLXY: No data found, symbol may be delisted\n",
      "- UNIT: No data found for this date range, symbol may be delisted\n",
      "- SFDL: No data found for this date range, symbol may be delisted\n",
      "- NOC: No data found for this date range, symbol may be delisted\n",
      "- KHC: No data found for this date range, symbol may be delisted\n",
      "- CB: No data found for this date range, symbol may be delisted\n",
      "- SPG: No data found for this date range, symbol may be delisted\n",
      "- BX: No data found for this date range, symbol may be delisted\n",
      "- MCO: No data found for this date range, symbol may be delisted\n",
      "- ROST: No data found for this date range, symbol may be delisted\n",
      "- MAR: No data found for this date range, symbol may be delisted\n",
      "- CVX: No data found for this date range, symbol may be delisted\n",
      "- DIS: No data found for this date range, symbol may be delisted\n",
      "- FICO: No data found for this date range, symbol may be delisted\n",
      "- NXST: No data found for this date range, symbol may be delisted\n",
      "- LEA: No data found for this date range, symbol may be delisted\n",
      "- DUK: No data found for this date range, symbol may be delisted\n",
      "- HPQ: No data found for this date range, symbol may be delisted\n",
      "- MMAT: No data found for this date range, symbol may be delisted\n",
      "- COP: No data found for this date range, symbol may be delisted\n",
      "- SIG: No data found for this date range, symbol may be delisted\n",
      "- CMI: No data found for this date range, symbol may be delisted\n",
      "- NGG: No data found for this date range, symbol may be delisted\n",
      "- ETN: No data found for this date range, symbol may be delisted\n",
      "- NLSN: No data found for this date range, symbol may be delisted\n",
      "- BKR: No data found for this date range, symbol may be delisted\n",
      "- AAPL: No data found for this date range, symbol may be delisted\n",
      "- DVN: No data found for this date range, symbol may be delisted\n",
      "- AMT: No data found for this date range, symbol may be delisted\n",
      "- ADBE: No data found for this date range, symbol may be delisted\n",
      "- TRMB: No data found for this date range, symbol may be delisted\n",
      "- EXPR: No data found for this date range, symbol may be delisted\n",
      "- CAG: No data found for this date range, symbol may be delisted\n",
      "- NWL: No data found for this date range, symbol may be delisted\n",
      "- WWD: No data found for this date range, symbol may be delisted\n",
      "- UNM: No data found for this date range, symbol may be delisted\n",
      "- RL: No data found for this date range, symbol may be delisted\n",
      "- NVDA: No data found for this date range, symbol may be delisted\n",
      "- ECL: No data found for this date range, symbol may be delisted\n",
      "- POOL: No data found for this date range, symbol may be delisted\n",
      "- EAT: No data found for this date range, symbol may be delisted\n",
      "- NI: No data found for this date range, symbol may be delisted\n",
      "- CAAS: No data found for this date range, symbol may be delisted\n",
      "- GILD: No data found for this date range, symbol may be delisted\n",
      "- UNH: No data found for this date range, symbol may be delisted\n"
     ]
    }
   ],
   "source": [
    "df= yf.download(ticker_names, start=start_date, threads=True, progress=True, timeout=1)"
   ]
  },
  {
   "cell_type": "code",
   "execution_count": 8,
   "id": "19de9f95",
   "metadata": {
    "execution": {
     "iopub.execute_input": "2022-04-24T16:45:48.429289Z",
     "iopub.status.busy": "2022-04-24T16:45:48.429097Z",
     "iopub.status.idle": "2022-04-24T16:45:48.450464Z",
     "shell.execute_reply": "2022-04-24T16:45:48.449931Z"
    },
    "papermill": {
     "duration": 0.039929,
     "end_time": "2022-04-24T16:45:48.452318",
     "exception": false,
     "start_time": "2022-04-24T16:45:48.412389",
     "status": "completed"
    },
    "tags": []
   },
   "outputs": [],
   "source": [
    "df = df.sort_index()"
   ]
  },
  {
   "cell_type": "code",
   "execution_count": 9,
   "id": "1c0bf84d",
   "metadata": {
    "execution": {
     "iopub.execute_input": "2022-04-24T16:45:48.482064Z",
     "iopub.status.busy": "2022-04-24T16:45:48.481810Z",
     "iopub.status.idle": "2022-04-24T16:45:50.875710Z",
     "shell.execute_reply": "2022-04-24T16:45:50.875272Z"
    },
    "papermill": {
     "duration": 2.409387,
     "end_time": "2022-04-24T16:45:50.877339",
     "exception": false,
     "start_time": "2022-04-24T16:45:48.467952",
     "status": "completed"
    },
    "tags": []
   },
   "outputs": [
    {
     "name": "stdout",
     "output_type": "stream",
     "text": [
      "Saved file /Users/aiujdm2/market_watch/output/data/raw/yfinance_all_ticker_data_Open-raw.csv\n"
     ]
    },
    {
     "name": "stdout",
     "output_type": "stream",
     "text": [
      "Saved file /Users/aiujdm2/market_watch/output/data/raw/yfinance_all_ticker_data_Close-raw.csv\n"
     ]
    },
    {
     "name": "stdout",
     "output_type": "stream",
     "text": [
      "Saved file /Users/aiujdm2/market_watch/output/data/raw/yfinance_all_ticker_data_High-raw.csv\n"
     ]
    },
    {
     "name": "stdout",
     "output_type": "stream",
     "text": [
      "Saved file /Users/aiujdm2/market_watch/output/data/raw/yfinance_all_ticker_data_Low-raw.csv\n",
      "Saved file /Users/aiujdm2/market_watch/output/data/raw/yfinance_all_ticker_data_Volume-raw.csv\n"
     ]
    },
    {
     "name": "stdout",
     "output_type": "stream",
     "text": [
      "Saved file /Users/aiujdm2/market_watch/output/data/raw/yfinance_ticker_data-raw.xlsx\n"
     ]
    }
   ],
   "source": [
    "output_file_path = product['data']\n",
    "file_prefix = \"snp500\" if snp_filter == True else \"all\"\n",
    "\n",
    "parent_path = Path(output_file_path).parent\n",
    "\n",
    "for field in yahoo_fields:\n",
    "    file_path = str(parent_path) + f\"/yfinance_{file_prefix}_ticker_data_{field}-raw.csv\"\n",
    "    df[field].to_csv(file_path)\n",
    "    print(f\"Saved file {file_path}\")\n",
    "\n",
    "df.to_csv(output_file_path)\n",
    "print(f\"Saved file {output_file_path}\")  "
   ]
  },
  {
   "cell_type": "code",
   "execution_count": 10,
   "id": "24befecb",
   "metadata": {
    "execution": {
     "iopub.execute_input": "2022-04-24T16:45:50.906765Z",
     "iopub.status.busy": "2022-04-24T16:45:50.906578Z",
     "iopub.status.idle": "2022-04-24T16:46:10.259013Z",
     "shell.execute_reply": "2022-04-24T16:46:10.258293Z"
    },
    "papermill": {
     "duration": 19.369226,
     "end_time": "2022-04-24T16:46:10.260996",
     "exception": false,
     "start_time": "2022-04-24T16:45:50.891770",
     "status": "completed"
    },
    "tags": []
   },
   "outputs": [
    {
     "name": "stdout",
     "output_type": "stream",
     "text": [
      "Saved sheet Open\n"
     ]
    },
    {
     "name": "stdout",
     "output_type": "stream",
     "text": [
      "Saved sheet Close\n"
     ]
    },
    {
     "name": "stdout",
     "output_type": "stream",
     "text": [
      "Saved sheet High\n"
     ]
    },
    {
     "name": "stdout",
     "output_type": "stream",
     "text": [
      "Saved sheet Low\n"
     ]
    },
    {
     "name": "stdout",
     "output_type": "stream",
     "text": [
      "Saved sheet Volume\n"
     ]
    },
    {
     "name": "stdout",
     "output_type": "stream",
     "text": [
      "Saved file /Users/aiujdm2/market_watch/output/data/raw/yfinance_ticker_data-raw.xlsx\n"
     ]
    }
   ],
   "source": [
    "with pd.ExcelWriter(output_file_path, engine='openpyxl') as writer:\n",
    "    for field in yahoo_fields:\n",
    "        df[field].to_excel(writer, sheet_name=field)\n",
    "        print(f\"Saved sheet {field}\")\n",
    "    \n",
    "print(f\"Saved file {output_file_path}\")"
   ]
  },
  {
   "cell_type": "code",
   "execution_count": 11,
   "id": "9dd5d805",
   "metadata": {
    "execution": {
     "iopub.execute_input": "2022-04-24T16:46:10.289338Z",
     "iopub.status.busy": "2022-04-24T16:46:10.289024Z",
     "iopub.status.idle": "2022-04-24T16:46:10.293320Z",
     "shell.execute_reply": "2022-04-24T16:46:10.292568Z"
    },
    "papermill": {
     "duration": 0.020461,
     "end_time": "2022-04-24T16:46:10.295251",
     "exception": false,
     "start_time": "2022-04-24T16:46:10.274790",
     "status": "completed"
    },
    "tags": []
   },
   "outputs": [],
   "source": [
    "del df, securities_df"
   ]
  },
  {
   "cell_type": "code",
   "execution_count": null,
   "id": "ce5eb8e7",
   "metadata": {
    "papermill": {
     "duration": 0.013526,
     "end_time": "2022-04-24T16:46:10.321592",
     "exception": false,
     "start_time": "2022-04-24T16:46:10.308066",
     "status": "completed"
    },
    "tags": []
   },
   "outputs": [],
   "source": []
  }
 ],
 "metadata": {
  "jupytext": {
   "text_representation": {
    "extension": ".py",
    "format_name": "percent",
    "format_version": "1.3",
    "jupytext_version": "1.13.7"
   }
  },
  "kernelspec": {
   "display_name": "Python 3 (ipykernel)",
   "language": "python",
   "name": "python3"
  },
  "language_info": {
   "codemirror_mode": {
    "name": "ipython",
    "version": 3
   },
   "file_extension": ".py",
   "mimetype": "text/x-python",
   "name": "python",
   "nbconvert_exporter": "python",
   "pygments_lexer": "ipython3",
   "version": "3.9.10"
  },
  "papermill": {
   "duration": 39.71129,
   "end_time": "2022-04-24T16:46:11.273864",
   "exception": null,
   "input_path": "/var/folders/b0/4tc1nfbd6z7_vhx4nxcj2n91c0l9h6/T/tmpg9pb5e38.ipynb",
   "output_path": "/Users/aiujdm2/market_watch/output/notebooks/fetch_yfinance_data.ipynb",
   "parameters": {
    "product": {
     "data": "/Users/aiujdm2/market_watch/output/data/raw/yfinance_ticker_data-raw.xlsx",
     "nb": "/Users/aiujdm2/market_watch/output/notebooks/fetch_yfinance_data.ipynb"
    },
    "sample_pct": 1,
    "snp_filter": false,
    "upstream": {
     "total_org_count": {
      "data": "/Users/aiujdm2/market_watch/output/data/interim/total_org_counts.csv",
      "nb": "/Users/aiujdm2/market_watch/output/notebooks/total_org_count.ipynb"
     }
    },
    "yahoo_fields": [
     "Open",
     "Close",
     "High",
     "Low",
     "Volume"
    ],
    "yfinance_rolling_window": 1000
   },
   "start_time": "2022-04-24T16:45:31.562574"
  }
 },
 "nbformat": 4,
 "nbformat_minor": 5
}